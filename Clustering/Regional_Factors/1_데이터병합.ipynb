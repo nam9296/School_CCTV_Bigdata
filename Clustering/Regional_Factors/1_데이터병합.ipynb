{
 "cells": [
  {
   "cell_type": "markdown",
   "metadata": {},
   "source": [
    "# 필요 libarary import "
   ]
  },
  {
   "cell_type": "code",
   "execution_count": 27,
   "metadata": {
    "ExecuteTime": {
     "end_time": "2021-05-18T04:30:04.091651Z",
     "start_time": "2021-05-18T04:30:04.076662Z"
    }
   },
   "outputs": [],
   "source": [
    "import pandas as pd\n",
    "import glob"
   ]
  },
  {
   "cell_type": "markdown",
   "metadata": {},
   "source": [
    "# 서울시 구별 청소년 유해업소 데이터 병합"
   ]
  },
  {
   "cell_type": "code",
   "execution_count": 69,
   "metadata": {
    "ExecuteTime": {
     "end_time": "2021-05-18T04:48:15.732990Z",
     "start_time": "2021-05-18T04:48:14.025629Z"
    },
    "code_folding": []
   },
   "outputs": [],
   "source": [
    "paths = [path for path in glob.glob('./Data/raw_data/*') \n",
    "         if ('청소년 유해업소' in path )==True] \n",
    "df=pd.read_csv(paths[0],encoding='cp949')\n",
    "df['행정구']=paths[0][20:23]\n",
    "for path in paths:\n",
    "    temp = pd.read_csv(path,encoding='cp949')\n",
    "    temp['행정구']=path[20:23]\n",
    "    df = pd.concat([df,temp])\n",
    "df=df[['행정구','처리일자', '청소년유해업소업종코드', '청소년유해업소업종명','건수']]\n"
   ]
  },
  {
   "cell_type": "code",
   "execution_count": 70,
   "metadata": {
    "ExecuteTime": {
     "end_time": "2021-05-18T04:48:18.817314Z",
     "start_time": "2021-05-18T04:48:16.862429Z"
    }
   },
   "outputs": [],
   "source": [
    "df.to_csv('./Data/가공_Data/서울시_청소년_유해업소_건수.csv', encoding='euc-kr')"
   ]
  }
 ],
 "metadata": {
  "kernelspec": {
   "display_name": "Python 3",
   "language": "python",
   "name": "python3"
  },
  "language_info": {
   "codemirror_mode": {
    "name": "ipython",
    "version": 3
   },
   "file_extension": ".py",
   "mimetype": "text/x-python",
   "name": "python",
   "nbconvert_exporter": "python",
   "pygments_lexer": "ipython3",
   "version": "3.7.6"
  },
  "toc": {
   "base_numbering": 1,
   "nav_menu": {},
   "number_sections": true,
   "sideBar": true,
   "skip_h1_title": false,
   "title_cell": "Table of Contents",
   "title_sidebar": "Contents",
   "toc_cell": false,
   "toc_position": {},
   "toc_section_display": true,
   "toc_window_display": false
  }
 },
 "nbformat": 4,
 "nbformat_minor": 4
}

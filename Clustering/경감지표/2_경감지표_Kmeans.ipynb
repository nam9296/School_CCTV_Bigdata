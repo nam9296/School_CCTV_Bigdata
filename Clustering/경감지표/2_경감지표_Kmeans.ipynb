{
 "cells": [
  {
   "cell_type": "markdown",
   "metadata": {},
   "source": [
    "# K-means Clustering"
   ]
  },
  {
   "cell_type": "code",
   "execution_count": 1,
   "metadata": {
    "ExecuteTime": {
     "end_time": "2021-05-27T07:53:25.770911Z",
     "start_time": "2021-05-27T07:53:15.813885Z"
    }
   },
   "outputs": [],
   "source": [
    "import pandas as pd\n",
    "import warnings \n",
    "# import geopandas as gpd\n",
    "import numpy as np\n",
    "# from shapely.geometry import Polygon, LineString, Point\n",
    "warnings.filterwarnings(action='ignore')\n",
    "\n",
    "from sklearn.cluster import KMeans\n",
    "import matplotlib.pyplot as plt\n",
    "from sklearn.cluster import KMeans\n",
    "from scipy.spatial.distance import cdist, pdist\n",
    "from sklearn.preprocessing import StandardScaler\n",
    "\n",
    "plt.rcParams['font.family'] = 'Malgun Gothic'"
   ]
  },
  {
   "cell_type": "code",
   "execution_count": 2,
   "metadata": {
    "ExecuteTime": {
     "end_time": "2021-05-27T07:53:25.921674Z",
     "start_time": "2021-05-27T07:53:25.778512Z"
    }
   },
   "outputs": [
    {
     "data": {
      "text/html": [
       "<div>\n",
       "<style scoped>\n",
       "    .dataframe tbody tr th:only-of-type {\n",
       "        vertical-align: middle;\n",
       "    }\n",
       "\n",
       "    .dataframe tbody tr th {\n",
       "        vertical-align: top;\n",
       "    }\n",
       "\n",
       "    .dataframe thead th {\n",
       "        text-align: right;\n",
       "    }\n",
       "</style>\n",
       "<table border=\"1\" class=\"dataframe\">\n",
       "  <thead>\n",
       "    <tr style=\"text-align: right;\">\n",
       "      <th></th>\n",
       "      <th>구</th>\n",
       "      <th>학교명</th>\n",
       "      <th>학교코드</th>\n",
       "      <th>내부상담_실시여부</th>\n",
       "      <th>외부상담_실시여부</th>\n",
       "      <th>wee클래스_운영여부</th>\n",
       "      <th>학교폭력_예방교육_평균교육시간(1학급당)</th>\n",
       "      <th>위도</th>\n",
       "      <th>경도</th>\n",
       "      <th>법정동코드</th>\n",
       "      <th>500미터내_파출소개수</th>\n",
       "      <th>500미터내_CCTV개수</th>\n",
       "    </tr>\n",
       "  </thead>\n",
       "  <tbody>\n",
       "    <tr>\n",
       "      <th>0</th>\n",
       "      <td>강남구</td>\n",
       "      <td>개포고등학교</td>\n",
       "      <td>S010000373</td>\n",
       "      <td>1</td>\n",
       "      <td>1</td>\n",
       "      <td>1</td>\n",
       "      <td>382.4</td>\n",
       "      <td>37.484959</td>\n",
       "      <td>127.059405</td>\n",
       "      <td>1168010300</td>\n",
       "      <td>0</td>\n",
       "      <td>44</td>\n",
       "    </tr>\n",
       "    <tr>\n",
       "      <th>1</th>\n",
       "      <td>강남구</td>\n",
       "      <td>경기고등학교</td>\n",
       "      <td>S010000375</td>\n",
       "      <td>1</td>\n",
       "      <td>0</td>\n",
       "      <td>1</td>\n",
       "      <td>152.4</td>\n",
       "      <td>37.517566</td>\n",
       "      <td>127.056074</td>\n",
       "      <td>1168010500</td>\n",
       "      <td>1</td>\n",
       "      <td>48</td>\n",
       "    </tr>\n",
       "    <tr>\n",
       "      <th>2</th>\n",
       "      <td>강남구</td>\n",
       "      <td>경기여자고등학교</td>\n",
       "      <td>S010000376</td>\n",
       "      <td>1</td>\n",
       "      <td>1</td>\n",
       "      <td>1</td>\n",
       "      <td>200.0</td>\n",
       "      <td>37.486887</td>\n",
       "      <td>127.065567</td>\n",
       "      <td>1168010300</td>\n",
       "      <td>0</td>\n",
       "      <td>40</td>\n",
       "    </tr>\n",
       "    <tr>\n",
       "      <th>3</th>\n",
       "      <td>강남구</td>\n",
       "      <td>국립국악고등학교</td>\n",
       "      <td>S000003540</td>\n",
       "      <td>0</td>\n",
       "      <td>0</td>\n",
       "      <td>0</td>\n",
       "      <td>217.4</td>\n",
       "      <td>37.476230</td>\n",
       "      <td>127.051476</td>\n",
       "      <td>1168010300</td>\n",
       "      <td>1</td>\n",
       "      <td>95</td>\n",
       "    </tr>\n",
       "    <tr>\n",
       "      <th>4</th>\n",
       "      <td>강남구</td>\n",
       "      <td>단국대학교부속소프트웨어고등학교</td>\n",
       "      <td>S010000581</td>\n",
       "      <td>0</td>\n",
       "      <td>1</td>\n",
       "      <td>0</td>\n",
       "      <td>300.0</td>\n",
       "      <td>37.495617</td>\n",
       "      <td>127.057767</td>\n",
       "      <td>1168010600</td>\n",
       "      <td>0</td>\n",
       "      <td>87</td>\n",
       "    </tr>\n",
       "    <tr>\n",
       "      <th>...</th>\n",
       "      <td>...</td>\n",
       "      <td>...</td>\n",
       "      <td>...</td>\n",
       "      <td>...</td>\n",
       "      <td>...</td>\n",
       "      <td>...</td>\n",
       "      <td>...</td>\n",
       "      <td>...</td>\n",
       "      <td>...</td>\n",
       "      <td>...</td>\n",
       "      <td>...</td>\n",
       "      <td>...</td>\n",
       "    </tr>\n",
       "    <tr>\n",
       "      <th>315</th>\n",
       "      <td>성동구</td>\n",
       "      <td>무학여자고등학교</td>\n",
       "      <td>S010000436</td>\n",
       "      <td>1</td>\n",
       "      <td>1</td>\n",
       "      <td>1</td>\n",
       "      <td>253.3</td>\n",
       "      <td>37.556768</td>\n",
       "      <td>127.033599</td>\n",
       "      <td>1120010700</td>\n",
       "      <td>1</td>\n",
       "      <td>106</td>\n",
       "    </tr>\n",
       "    <tr>\n",
       "      <th>316</th>\n",
       "      <td>성동구</td>\n",
       "      <td>서울방송고등학교</td>\n",
       "      <td>S010000585</td>\n",
       "      <td>1</td>\n",
       "      <td>1</td>\n",
       "      <td>1</td>\n",
       "      <td>87.6</td>\n",
       "      <td>37.547773</td>\n",
       "      <td>127.011036</td>\n",
       "      <td>1120011300</td>\n",
       "      <td>1</td>\n",
       "      <td>68</td>\n",
       "    </tr>\n",
       "    <tr>\n",
       "      <th>317</th>\n",
       "      <td>성동구</td>\n",
       "      <td>성수고등학교</td>\n",
       "      <td>S010005523</td>\n",
       "      <td>1</td>\n",
       "      <td>1</td>\n",
       "      <td>1</td>\n",
       "      <td>406.6</td>\n",
       "      <td>37.547342</td>\n",
       "      <td>127.038253</td>\n",
       "      <td>1120011400</td>\n",
       "      <td>0</td>\n",
       "      <td>17</td>\n",
       "    </tr>\n",
       "    <tr>\n",
       "      <th>318</th>\n",
       "      <td>성동구</td>\n",
       "      <td>성수공업고등학교</td>\n",
       "      <td>S010000592</td>\n",
       "      <td>1</td>\n",
       "      <td>0</td>\n",
       "      <td>1</td>\n",
       "      <td>306.5</td>\n",
       "      <td>37.540540</td>\n",
       "      <td>127.051298</td>\n",
       "      <td>1120011500</td>\n",
       "      <td>1</td>\n",
       "      <td>78</td>\n",
       "    </tr>\n",
       "    <tr>\n",
       "      <th>319</th>\n",
       "      <td>성동구</td>\n",
       "      <td>한양대학교사범대학부속고등학교</td>\n",
       "      <td>S010000557</td>\n",
       "      <td>1</td>\n",
       "      <td>1</td>\n",
       "      <td>1</td>\n",
       "      <td>137.0</td>\n",
       "      <td>37.561919</td>\n",
       "      <td>127.042326</td>\n",
       "      <td>1120010600</td>\n",
       "      <td>1</td>\n",
       "      <td>76</td>\n",
       "    </tr>\n",
       "  </tbody>\n",
       "</table>\n",
       "<p>320 rows × 12 columns</p>\n",
       "</div>"
      ],
      "text/plain": [
       "       구               학교명        학교코드  내부상담_실시여부  외부상담_실시여부  wee클래스_운영여부  \\\n",
       "0    강남구            개포고등학교  S010000373          1          1            1   \n",
       "1    강남구            경기고등학교  S010000375          1          0            1   \n",
       "2    강남구          경기여자고등학교  S010000376          1          1            1   \n",
       "3    강남구          국립국악고등학교  S000003540          0          0            0   \n",
       "4    강남구  단국대학교부속소프트웨어고등학교  S010000581          0          1            0   \n",
       "..   ...               ...         ...        ...        ...          ...   \n",
       "315  성동구          무학여자고등학교  S010000436          1          1            1   \n",
       "316  성동구          서울방송고등학교  S010000585          1          1            1   \n",
       "317  성동구            성수고등학교  S010005523          1          1            1   \n",
       "318  성동구          성수공업고등학교  S010000592          1          0            1   \n",
       "319  성동구   한양대학교사범대학부속고등학교  S010000557          1          1            1   \n",
       "\n",
       "     학교폭력_예방교육_평균교육시간(1학급당)         위도          경도       법정동코드  500미터내_파출소개수  \\\n",
       "0                     382.4  37.484959  127.059405  1168010300             0   \n",
       "1                     152.4  37.517566  127.056074  1168010500             1   \n",
       "2                     200.0  37.486887  127.065567  1168010300             0   \n",
       "3                     217.4  37.476230  127.051476  1168010300             1   \n",
       "4                     300.0  37.495617  127.057767  1168010600             0   \n",
       "..                      ...        ...         ...         ...           ...   \n",
       "315                   253.3  37.556768  127.033599  1120010700             1   \n",
       "316                    87.6  37.547773  127.011036  1120011300             1   \n",
       "317                   406.6  37.547342  127.038253  1120011400             0   \n",
       "318                   306.5  37.540540  127.051298  1120011500             1   \n",
       "319                   137.0  37.561919  127.042326  1120010600             1   \n",
       "\n",
       "     500미터내_CCTV개수  \n",
       "0               44  \n",
       "1               48  \n",
       "2               40  \n",
       "3               95  \n",
       "4               87  \n",
       "..             ...  \n",
       "315            106  \n",
       "316             68  \n",
       "317             17  \n",
       "318             78  \n",
       "319             76  \n",
       "\n",
       "[320 rows x 12 columns]"
      ]
     },
     "execution_count": 2,
     "metadata": {},
     "output_type": "execute_result"
    }
   ],
   "source": [
    "df=pd.read_csv('./Data/경감지표_전처리.csv', encoding='utf-8')\n",
    "labels= np.array(df['학교명'])\n",
    "df"
   ]
  },
  {
   "cell_type": "code",
   "execution_count": 3,
   "metadata": {
    "ExecuteTime": {
     "end_time": "2021-05-27T07:53:25.982504Z",
     "start_time": "2021-05-27T07:53:25.932640Z"
    }
   },
   "outputs": [
    {
     "data": {
      "text/html": [
       "<div>\n",
       "<style scoped>\n",
       "    .dataframe tbody tr th:only-of-type {\n",
       "        vertical-align: middle;\n",
       "    }\n",
       "\n",
       "    .dataframe tbody tr th {\n",
       "        vertical-align: top;\n",
       "    }\n",
       "\n",
       "    .dataframe thead th {\n",
       "        text-align: right;\n",
       "    }\n",
       "</style>\n",
       "<table border=\"1\" class=\"dataframe\">\n",
       "  <thead>\n",
       "    <tr style=\"text-align: right;\">\n",
       "      <th></th>\n",
       "      <th>학교명</th>\n",
       "      <th>학교코드</th>\n",
       "    </tr>\n",
       "  </thead>\n",
       "  <tbody>\n",
       "    <tr>\n",
       "      <th>0</th>\n",
       "      <td>개포고등학교</td>\n",
       "      <td>S010000373</td>\n",
       "    </tr>\n",
       "    <tr>\n",
       "      <th>1</th>\n",
       "      <td>경기고등학교</td>\n",
       "      <td>S010000375</td>\n",
       "    </tr>\n",
       "    <tr>\n",
       "      <th>2</th>\n",
       "      <td>경기여자고등학교</td>\n",
       "      <td>S010000376</td>\n",
       "    </tr>\n",
       "    <tr>\n",
       "      <th>3</th>\n",
       "      <td>국립국악고등학교</td>\n",
       "      <td>S000003540</td>\n",
       "    </tr>\n",
       "    <tr>\n",
       "      <th>4</th>\n",
       "      <td>단국대학교부속소프트웨어고등학교</td>\n",
       "      <td>S010000581</td>\n",
       "    </tr>\n",
       "    <tr>\n",
       "      <th>...</th>\n",
       "      <td>...</td>\n",
       "      <td>...</td>\n",
       "    </tr>\n",
       "    <tr>\n",
       "      <th>315</th>\n",
       "      <td>무학여자고등학교</td>\n",
       "      <td>S010000436</td>\n",
       "    </tr>\n",
       "    <tr>\n",
       "      <th>316</th>\n",
       "      <td>서울방송고등학교</td>\n",
       "      <td>S010000585</td>\n",
       "    </tr>\n",
       "    <tr>\n",
       "      <th>317</th>\n",
       "      <td>성수고등학교</td>\n",
       "      <td>S010005523</td>\n",
       "    </tr>\n",
       "    <tr>\n",
       "      <th>318</th>\n",
       "      <td>성수공업고등학교</td>\n",
       "      <td>S010000592</td>\n",
       "    </tr>\n",
       "    <tr>\n",
       "      <th>319</th>\n",
       "      <td>한양대학교사범대학부속고등학교</td>\n",
       "      <td>S010000557</td>\n",
       "    </tr>\n",
       "  </tbody>\n",
       "</table>\n",
       "<p>320 rows × 2 columns</p>\n",
       "</div>"
      ],
      "text/plain": [
       "                  학교명        학교코드\n",
       "0              개포고등학교  S010000373\n",
       "1              경기고등학교  S010000375\n",
       "2            경기여자고등학교  S010000376\n",
       "3            국립국악고등학교  S000003540\n",
       "4    단국대학교부속소프트웨어고등학교  S010000581\n",
       "..                ...         ...\n",
       "315          무학여자고등학교  S010000436\n",
       "316          서울방송고등학교  S010000585\n",
       "317            성수고등학교  S010005523\n",
       "318          성수공업고등학교  S010000592\n",
       "319   한양대학교사범대학부속고등학교  S010000557\n",
       "\n",
       "[320 rows x 2 columns]"
      ]
     },
     "execution_count": 3,
     "metadata": {},
     "output_type": "execute_result"
    }
   ],
   "source": [
    "school_info = df[['학교명','학교코드']]\n",
    "school_info"
   ]
  },
  {
   "cell_type": "code",
   "execution_count": 4,
   "metadata": {
    "ExecuteTime": {
     "end_time": "2021-05-27T07:53:26.072399Z",
     "start_time": "2021-05-27T07:53:25.990622Z"
    }
   },
   "outputs": [
    {
     "data": {
      "text/html": [
       "<div>\n",
       "<style scoped>\n",
       "    .dataframe tbody tr th:only-of-type {\n",
       "        vertical-align: middle;\n",
       "    }\n",
       "\n",
       "    .dataframe tbody tr th {\n",
       "        vertical-align: top;\n",
       "    }\n",
       "\n",
       "    .dataframe thead th {\n",
       "        text-align: right;\n",
       "    }\n",
       "</style>\n",
       "<table border=\"1\" class=\"dataframe\">\n",
       "  <thead>\n",
       "    <tr style=\"text-align: right;\">\n",
       "      <th></th>\n",
       "      <th>내부상담_실시여부</th>\n",
       "      <th>외부상담_실시여부</th>\n",
       "      <th>wee클래스_운영여부</th>\n",
       "      <th>학교폭력_예방교육_평균교육시간(1학급당)</th>\n",
       "      <th>500미터내_파출소개수</th>\n",
       "      <th>500미터내_CCTV개수</th>\n",
       "    </tr>\n",
       "  </thead>\n",
       "  <tbody>\n",
       "    <tr>\n",
       "      <th>0</th>\n",
       "      <td>1</td>\n",
       "      <td>1</td>\n",
       "      <td>1</td>\n",
       "      <td>382.4</td>\n",
       "      <td>0</td>\n",
       "      <td>44</td>\n",
       "    </tr>\n",
       "    <tr>\n",
       "      <th>1</th>\n",
       "      <td>1</td>\n",
       "      <td>0</td>\n",
       "      <td>1</td>\n",
       "      <td>152.4</td>\n",
       "      <td>1</td>\n",
       "      <td>48</td>\n",
       "    </tr>\n",
       "    <tr>\n",
       "      <th>2</th>\n",
       "      <td>1</td>\n",
       "      <td>1</td>\n",
       "      <td>1</td>\n",
       "      <td>200.0</td>\n",
       "      <td>0</td>\n",
       "      <td>40</td>\n",
       "    </tr>\n",
       "    <tr>\n",
       "      <th>3</th>\n",
       "      <td>0</td>\n",
       "      <td>0</td>\n",
       "      <td>0</td>\n",
       "      <td>217.4</td>\n",
       "      <td>1</td>\n",
       "      <td>95</td>\n",
       "    </tr>\n",
       "    <tr>\n",
       "      <th>4</th>\n",
       "      <td>0</td>\n",
       "      <td>1</td>\n",
       "      <td>0</td>\n",
       "      <td>300.0</td>\n",
       "      <td>0</td>\n",
       "      <td>87</td>\n",
       "    </tr>\n",
       "    <tr>\n",
       "      <th>...</th>\n",
       "      <td>...</td>\n",
       "      <td>...</td>\n",
       "      <td>...</td>\n",
       "      <td>...</td>\n",
       "      <td>...</td>\n",
       "      <td>...</td>\n",
       "    </tr>\n",
       "    <tr>\n",
       "      <th>315</th>\n",
       "      <td>1</td>\n",
       "      <td>1</td>\n",
       "      <td>1</td>\n",
       "      <td>253.3</td>\n",
       "      <td>1</td>\n",
       "      <td>106</td>\n",
       "    </tr>\n",
       "    <tr>\n",
       "      <th>316</th>\n",
       "      <td>1</td>\n",
       "      <td>1</td>\n",
       "      <td>1</td>\n",
       "      <td>87.6</td>\n",
       "      <td>1</td>\n",
       "      <td>68</td>\n",
       "    </tr>\n",
       "    <tr>\n",
       "      <th>317</th>\n",
       "      <td>1</td>\n",
       "      <td>1</td>\n",
       "      <td>1</td>\n",
       "      <td>406.6</td>\n",
       "      <td>0</td>\n",
       "      <td>17</td>\n",
       "    </tr>\n",
       "    <tr>\n",
       "      <th>318</th>\n",
       "      <td>1</td>\n",
       "      <td>0</td>\n",
       "      <td>1</td>\n",
       "      <td>306.5</td>\n",
       "      <td>1</td>\n",
       "      <td>78</td>\n",
       "    </tr>\n",
       "    <tr>\n",
       "      <th>319</th>\n",
       "      <td>1</td>\n",
       "      <td>1</td>\n",
       "      <td>1</td>\n",
       "      <td>137.0</td>\n",
       "      <td>1</td>\n",
       "      <td>76</td>\n",
       "    </tr>\n",
       "  </tbody>\n",
       "</table>\n",
       "<p>320 rows × 6 columns</p>\n",
       "</div>"
      ],
      "text/plain": [
       "     내부상담_실시여부  외부상담_실시여부  wee클래스_운영여부  학교폭력_예방교육_평균교육시간(1학급당)  500미터내_파출소개수  \\\n",
       "0            1          1            1                   382.4             0   \n",
       "1            1          0            1                   152.4             1   \n",
       "2            1          1            1                   200.0             0   \n",
       "3            0          0            0                   217.4             1   \n",
       "4            0          1            0                   300.0             0   \n",
       "..         ...        ...          ...                     ...           ...   \n",
       "315          1          1            1                   253.3             1   \n",
       "316          1          1            1                    87.6             1   \n",
       "317          1          1            1                   406.6             0   \n",
       "318          1          0            1                   306.5             1   \n",
       "319          1          1            1                   137.0             1   \n",
       "\n",
       "     500미터내_CCTV개수  \n",
       "0               44  \n",
       "1               48  \n",
       "2               40  \n",
       "3               95  \n",
       "4               87  \n",
       "..             ...  \n",
       "315            106  \n",
       "316             68  \n",
       "317             17  \n",
       "318             78  \n",
       "319             76  \n",
       "\n",
       "[320 rows x 6 columns]"
      ]
     },
     "execution_count": 4,
     "metadata": {},
     "output_type": "execute_result"
    }
   ],
   "source": [
    "total=df.loc[:,['내부상담_실시여부','외부상담_실시여부','wee클래스_운영여부','학교폭력_예방교육_평균교육시간(1학급당)','500미터내_파출소개수','500미터내_CCTV개수']]\n",
    "total"
   ]
  },
  {
   "cell_type": "markdown",
   "metadata": {},
   "source": [
    "## 표준화"
   ]
  },
  {
   "cell_type": "code",
   "execution_count": 5,
   "metadata": {
    "ExecuteTime": {
     "end_time": "2021-05-27T07:53:26.147259Z",
     "start_time": "2021-05-27T07:53:26.081241Z"
    }
   },
   "outputs": [
    {
     "data": {
      "text/html": [
       "<div>\n",
       "<style scoped>\n",
       "    .dataframe tbody tr th:only-of-type {\n",
       "        vertical-align: middle;\n",
       "    }\n",
       "\n",
       "    .dataframe tbody tr th {\n",
       "        vertical-align: top;\n",
       "    }\n",
       "\n",
       "    .dataframe thead th {\n",
       "        text-align: right;\n",
       "    }\n",
       "</style>\n",
       "<table border=\"1\" class=\"dataframe\">\n",
       "  <thead>\n",
       "    <tr style=\"text-align: right;\">\n",
       "      <th></th>\n",
       "      <th>0</th>\n",
       "      <th>1</th>\n",
       "      <th>2</th>\n",
       "      <th>3</th>\n",
       "      <th>4</th>\n",
       "      <th>5</th>\n",
       "    </tr>\n",
       "  </thead>\n",
       "  <tbody>\n",
       "    <tr>\n",
       "      <th>개포고등학교</th>\n",
       "      <td>0.399275</td>\n",
       "      <td>0.562914</td>\n",
       "      <td>0.548464</td>\n",
       "      <td>0.047926</td>\n",
       "      <td>-0.851361</td>\n",
       "      <td>-0.396696</td>\n",
       "    </tr>\n",
       "    <tr>\n",
       "      <th>경기고등학교</th>\n",
       "      <td>0.399275</td>\n",
       "      <td>-1.776470</td>\n",
       "      <td>0.548464</td>\n",
       "      <td>-0.752752</td>\n",
       "      <td>0.560222</td>\n",
       "      <td>-0.310648</td>\n",
       "    </tr>\n",
       "    <tr>\n",
       "      <th>경기여자고등학교</th>\n",
       "      <td>0.399275</td>\n",
       "      <td>0.562914</td>\n",
       "      <td>0.548464</td>\n",
       "      <td>-0.587046</td>\n",
       "      <td>-0.851361</td>\n",
       "      <td>-0.482745</td>\n",
       "    </tr>\n",
       "    <tr>\n",
       "      <th>국립국악고등학교</th>\n",
       "      <td>-2.504541</td>\n",
       "      <td>-1.776470</td>\n",
       "      <td>-1.823273</td>\n",
       "      <td>-0.526473</td>\n",
       "      <td>0.560222</td>\n",
       "      <td>0.700420</td>\n",
       "    </tr>\n",
       "    <tr>\n",
       "      <th>단국대학교부속소프트웨어고등학교</th>\n",
       "      <td>-2.504541</td>\n",
       "      <td>0.562914</td>\n",
       "      <td>-1.823273</td>\n",
       "      <td>-0.238925</td>\n",
       "      <td>-0.851361</td>\n",
       "      <td>0.528323</td>\n",
       "    </tr>\n",
       "  </tbody>\n",
       "</table>\n",
       "</div>"
      ],
      "text/plain": [
       "                         0         1         2         3         4         5\n",
       "개포고등학교            0.399275  0.562914  0.548464  0.047926 -0.851361 -0.396696\n",
       "경기고등학교            0.399275 -1.776470  0.548464 -0.752752  0.560222 -0.310648\n",
       "경기여자고등학교          0.399275  0.562914  0.548464 -0.587046 -0.851361 -0.482745\n",
       "국립국악고등학교         -2.504541 -1.776470 -1.823273 -0.526473  0.560222  0.700420\n",
       "단국대학교부속소프트웨어고등학교 -2.504541  0.562914 -1.823273 -0.238925 -0.851361  0.528323"
      ]
     },
     "execution_count": 5,
     "metadata": {},
     "output_type": "execute_result"
    }
   ],
   "source": [
    "sd = StandardScaler()\n",
    "total_sd=pd.DataFrame(sd.fit_transform(total))\n",
    "total_sd.index = labels\n",
    "total_sd.head()"
   ]
  },
  {
   "cell_type": "markdown",
   "metadata": {},
   "source": [
    "## 최적 K 개수 산출"
   ]
  },
  {
   "cell_type": "code",
   "execution_count": 6,
   "metadata": {
    "ExecuteTime": {
     "end_time": "2021-05-27T07:53:30.846770Z",
     "start_time": "2021-05-27T07:53:26.154338Z"
    },
    "scrolled": true
   },
   "outputs": [
    {
     "data": {
      "image/png": "[encoded data removed]",
      "text/plain": [
       "<Figure size 432x288 with 1 Axes>"
      ]
     },
     "metadata": {
      "needs_background": "light"
     },
     "output_type": "display_data"
    }
   ],
   "source": [
    "dist =[]\n",
    "for i in range(1,20):\n",
    "    k = KMeans(n_clusters=i,\n",
    "          init='k-means++',\n",
    "           n_init=10,\n",
    "           max_iter=300,\n",
    "           random_state=0)\n",
    "    k.fit(total_sd)\n",
    "    dist.append(k.inertia_)\n",
    "\n",
    "plt.plot(range(1,20),dist, marker='o')\n",
    "plt.xlabel('Number of clusters')\n",
    "plt.ylabel('Distortion')\n",
    "plt.tight_layout()\n",
    "plt.show()"
   ]
  },
  {
   "cell_type": "markdown",
   "metadata": {},
   "source": [
    "## k 선택"
   ]
  },
  {
   "cell_type": "code",
   "execution_count": 7,
   "metadata": {
    "ExecuteTime": {
     "end_time": "2021-05-27T07:53:31.012423Z",
     "start_time": "2021-05-27T07:53:30.851758Z"
    },
    "scrolled": false
   },
   "outputs": [
    {
     "data": {
      "text/plain": [
       "array([[ 3.99274705e-01,  5.62914228e-01,  1.95226772e-01,\n",
       "         5.80960686e-02,  9.65676749e-01, -1.81346543e-01],\n",
       "       [ 2.46442282e-01, -5.27130890e-02,  1.73979406e-01,\n",
       "        -1.17121573e-02, -3.31304121e-01,  2.90937075e+00],\n",
       "       [ 3.99274705e-01,  5.62914228e-01,  2.41016812e-01,\n",
       "         5.17205647e-03, -8.51361045e-01, -2.81965099e-01],\n",
       "       [-2.50454133e+00, -3.07554164e-01, -1.10623614e+00,\n",
       "        -1.46665124e-01,  6.78093326e-02,  1.14590907e-01],\n",
       "       [ 3.99274705e-01, -1.77646958e+00, -2.11762250e-03,\n",
       "         9.09854962e-03,  8.12920613e-02, -2.26904419e-01]])"
      ]
     },
     "execution_count": 7,
     "metadata": {},
     "output_type": "execute_result"
    }
   ],
   "source": [
    "np.random.seed(1234)\n",
    "total_sd_arr = total_sd.values\n",
    "\n",
    "# k값을 5로 설정 후 k-means에 적용시키기\n",
    "kmeans = KMeans(n_clusters=5, random_state=2021).fit(total_sd_arr)\n",
    "kmeans.cluster_centers_"
   ]
  },
  {
   "cell_type": "markdown",
   "metadata": {},
   "source": [
    "## 군집화"
   ]
  },
  {
   "cell_type": "code",
   "execution_count": 8,
   "metadata": {
    "ExecuteTime": {
     "end_time": "2021-05-27T07:53:31.072167Z",
     "start_time": "2021-05-27T07:53:31.019313Z"
    },
    "scrolled": false
   },
   "outputs": [
    {
     "data": {
      "text/html": [
       "<div>\n",
       "<style scoped>\n",
       "    .dataframe tbody tr th:only-of-type {\n",
       "        vertical-align: middle;\n",
       "    }\n",
       "\n",
       "    .dataframe tbody tr th {\n",
       "        vertical-align: top;\n",
       "    }\n",
       "\n",
       "    .dataframe thead th {\n",
       "        text-align: right;\n",
       "    }\n",
       "</style>\n",
       "<table border=\"1\" class=\"dataframe\">\n",
       "  <thead>\n",
       "    <tr style=\"text-align: right;\">\n",
       "      <th></th>\n",
       "      <th>0</th>\n",
       "      <th>1</th>\n",
       "      <th>2</th>\n",
       "      <th>3</th>\n",
       "      <th>4</th>\n",
       "      <th>5</th>\n",
       "      <th>cluster</th>\n",
       "    </tr>\n",
       "  </thead>\n",
       "  <tbody>\n",
       "    <tr>\n",
       "      <th>개포고등학교</th>\n",
       "      <td>0.399275</td>\n",
       "      <td>0.562914</td>\n",
       "      <td>0.548464</td>\n",
       "      <td>0.047926</td>\n",
       "      <td>-0.851361</td>\n",
       "      <td>-0.396696</td>\n",
       "      <td>2</td>\n",
       "    </tr>\n",
       "    <tr>\n",
       "      <th>경기고등학교</th>\n",
       "      <td>0.399275</td>\n",
       "      <td>-1.776470</td>\n",
       "      <td>0.548464</td>\n",
       "      <td>-0.752752</td>\n",
       "      <td>0.560222</td>\n",
       "      <td>-0.310648</td>\n",
       "      <td>4</td>\n",
       "    </tr>\n",
       "    <tr>\n",
       "      <th>경기여자고등학교</th>\n",
       "      <td>0.399275</td>\n",
       "      <td>0.562914</td>\n",
       "      <td>0.548464</td>\n",
       "      <td>-0.587046</td>\n",
       "      <td>-0.851361</td>\n",
       "      <td>-0.482745</td>\n",
       "      <td>2</td>\n",
       "    </tr>\n",
       "    <tr>\n",
       "      <th>국립국악고등학교</th>\n",
       "      <td>-2.504541</td>\n",
       "      <td>-1.776470</td>\n",
       "      <td>-1.823273</td>\n",
       "      <td>-0.526473</td>\n",
       "      <td>0.560222</td>\n",
       "      <td>0.700420</td>\n",
       "      <td>3</td>\n",
       "    </tr>\n",
       "    <tr>\n",
       "      <th>단국대학교부속소프트웨어고등학교</th>\n",
       "      <td>-2.504541</td>\n",
       "      <td>0.562914</td>\n",
       "      <td>-1.823273</td>\n",
       "      <td>-0.238925</td>\n",
       "      <td>-0.851361</td>\n",
       "      <td>0.528323</td>\n",
       "      <td>3</td>\n",
       "    </tr>\n",
       "    <tr>\n",
       "      <th>...</th>\n",
       "      <td>...</td>\n",
       "      <td>...</td>\n",
       "      <td>...</td>\n",
       "      <td>...</td>\n",
       "      <td>...</td>\n",
       "      <td>...</td>\n",
       "      <td>...</td>\n",
       "    </tr>\n",
       "    <tr>\n",
       "      <th>무학여자고등학교</th>\n",
       "      <td>0.399275</td>\n",
       "      <td>0.562914</td>\n",
       "      <td>0.548464</td>\n",
       "      <td>-0.401498</td>\n",
       "      <td>0.560222</td>\n",
       "      <td>0.937053</td>\n",
       "      <td>0</td>\n",
       "    </tr>\n",
       "    <tr>\n",
       "      <th>서울방송고등학교</th>\n",
       "      <td>0.399275</td>\n",
       "      <td>0.562914</td>\n",
       "      <td>0.548464</td>\n",
       "      <td>-0.978335</td>\n",
       "      <td>0.560222</td>\n",
       "      <td>0.119594</td>\n",
       "      <td>0</td>\n",
       "    </tr>\n",
       "    <tr>\n",
       "      <th>성수고등학교</th>\n",
       "      <td>0.399275</td>\n",
       "      <td>0.562914</td>\n",
       "      <td>0.548464</td>\n",
       "      <td>0.132172</td>\n",
       "      <td>-0.851361</td>\n",
       "      <td>-0.977522</td>\n",
       "      <td>2</td>\n",
       "    </tr>\n",
       "    <tr>\n",
       "      <th>성수공업고등학교</th>\n",
       "      <td>0.399275</td>\n",
       "      <td>-1.776470</td>\n",
       "      <td>0.548464</td>\n",
       "      <td>-0.216297</td>\n",
       "      <td>0.560222</td>\n",
       "      <td>0.334715</td>\n",
       "      <td>4</td>\n",
       "    </tr>\n",
       "    <tr>\n",
       "      <th>한양대학교사범대학부속고등학교</th>\n",
       "      <td>0.399275</td>\n",
       "      <td>0.562914</td>\n",
       "      <td>0.548464</td>\n",
       "      <td>-0.806363</td>\n",
       "      <td>0.560222</td>\n",
       "      <td>0.291690</td>\n",
       "      <td>0</td>\n",
       "    </tr>\n",
       "  </tbody>\n",
       "</table>\n",
       "<p>320 rows × 7 columns</p>\n",
       "</div>"
      ],
      "text/plain": [
       "                         0         1         2         3         4         5  \\\n",
       "개포고등학교            0.399275  0.562914  0.548464  0.047926 -0.851361 -0.396696   \n",
       "경기고등학교            0.399275 -1.776470  0.548464 -0.752752  0.560222 -0.310648   \n",
       "경기여자고등학교          0.399275  0.562914  0.548464 -0.587046 -0.851361 -0.482745   \n",
       "국립국악고등학교         -2.504541 -1.776470 -1.823273 -0.526473  0.560222  0.700420   \n",
       "단국대학교부속소프트웨어고등학교 -2.504541  0.562914 -1.823273 -0.238925 -0.851361  0.528323   \n",
       "...                    ...       ...       ...       ...       ...       ...   \n",
       "무학여자고등학교          0.399275  0.562914  0.548464 -0.401498  0.560222  0.937053   \n",
       "서울방송고등학교          0.399275  0.562914  0.548464 -0.978335  0.560222  0.119594   \n",
       "성수고등학교            0.399275  0.562914  0.548464  0.132172 -0.851361 -0.977522   \n",
       "성수공업고등학교          0.399275 -1.776470  0.548464 -0.216297  0.560222  0.334715   \n",
       "한양대학교사범대학부속고등학교   0.399275  0.562914  0.548464 -0.806363  0.560222  0.291690   \n",
       "\n",
       "                  cluster  \n",
       "개포고등학교                  2  \n",
       "경기고등학교                  4  \n",
       "경기여자고등학교                2  \n",
       "국립국악고등학교                3  \n",
       "단국대학교부속소프트웨어고등학교        3  \n",
       "...                   ...  \n",
       "무학여자고등학교                0  \n",
       "서울방송고등학교                0  \n",
       "성수고등학교                  2  \n",
       "성수공업고등학교                4  \n",
       "한양대학교사범대학부속고등학교         0  \n",
       "\n",
       "[320 rows x 7 columns]"
      ]
     },
     "execution_count": 8,
     "metadata": {},
     "output_type": "execute_result"
    }
   ],
   "source": [
    "total_sd['cluster'] = kmeans.labels_\n",
    "total_sd"
   ]
  },
  {
   "cell_type": "code",
   "execution_count": 9,
   "metadata": {
    "ExecuteTime": {
     "end_time": "2021-05-26T08:11:18.694018Z",
     "start_time": "2021-05-26T08:11:17.490165Z"
    },
    "scrolled": true
   },
   "outputs": [
    {
     "data": {
      "image/png": "[encoded data removed]",
      "text/plain": [
       "<Figure size 432x288 with 1 Axes>"
      ]
     },
     "metadata": {
      "needs_background": "light"
     },
     "output_type": "display_data"
    }
   ],
   "source": [
    "import matplotlib.pyplot as plt\n",
    "from sklearn.manifold import TSNE\n",
    "\n",
    "model = TSNE(learning_rate=100)\n",
    "transformed = model.fit_transform(total_sd.iloc[:,:6])\n",
    "\n",
    "xs = transformed[:,0]\n",
    "ys = transformed[:,1]\n",
    "plt.scatter(xs,ys,c=kmeans.labels_)\n",
    "\n",
    "plt.show()"
   ]
  },
  {
   "cell_type": "code",
   "execution_count": 10,
   "metadata": {
    "ExecuteTime": {
     "end_time": "2021-05-26T08:11:18.723950Z",
     "start_time": "2021-05-26T08:11:18.695972Z"
    },
    "scrolled": false
   },
   "outputs": [
    {
     "data": {
      "text/html": [
       "<div>\n",
       "<style scoped>\n",
       "    .dataframe tbody tr th:only-of-type {\n",
       "        vertical-align: middle;\n",
       "    }\n",
       "\n",
       "    .dataframe tbody tr th {\n",
       "        vertical-align: top;\n",
       "    }\n",
       "\n",
       "    .dataframe thead th {\n",
       "        text-align: right;\n",
       "    }\n",
       "</style>\n",
       "<table border=\"1\" class=\"dataframe\">\n",
       "  <thead>\n",
       "    <tr style=\"text-align: right;\">\n",
       "      <th></th>\n",
       "      <th>학교명</th>\n",
       "      <th>내부상담_실시여부</th>\n",
       "      <th>외부상담_실시여부</th>\n",
       "      <th>wee클래스_운영여부</th>\n",
       "      <th>학교폭력_예방교육_평균교육시간(1학급당)</th>\n",
       "      <th>500미터내_파출소개수</th>\n",
       "      <th>500미터내_CCTV개수</th>\n",
       "      <th>cluster</th>\n",
       "    </tr>\n",
       "  </thead>\n",
       "  <tbody>\n",
       "    <tr>\n",
       "      <th>0</th>\n",
       "      <td>개포고등학교</td>\n",
       "      <td>0.399275</td>\n",
       "      <td>0.562914</td>\n",
       "      <td>0.548464</td>\n",
       "      <td>0.047926</td>\n",
       "      <td>-0.851361</td>\n",
       "      <td>-0.396696</td>\n",
       "      <td>2</td>\n",
       "    </tr>\n",
       "    <tr>\n",
       "      <th>1</th>\n",
       "      <td>경기고등학교</td>\n",
       "      <td>0.399275</td>\n",
       "      <td>-1.776470</td>\n",
       "      <td>0.548464</td>\n",
       "      <td>-0.752752</td>\n",
       "      <td>0.560222</td>\n",
       "      <td>-0.310648</td>\n",
       "      <td>4</td>\n",
       "    </tr>\n",
       "    <tr>\n",
       "      <th>2</th>\n",
       "      <td>경기여자고등학교</td>\n",
       "      <td>0.399275</td>\n",
       "      <td>0.562914</td>\n",
       "      <td>0.548464</td>\n",
       "      <td>-0.587046</td>\n",
       "      <td>-0.851361</td>\n",
       "      <td>-0.482745</td>\n",
       "      <td>2</td>\n",
       "    </tr>\n",
       "    <tr>\n",
       "      <th>3</th>\n",
       "      <td>국립국악고등학교</td>\n",
       "      <td>-2.504541</td>\n",
       "      <td>-1.776470</td>\n",
       "      <td>-1.823273</td>\n",
       "      <td>-0.526473</td>\n",
       "      <td>0.560222</td>\n",
       "      <td>0.700420</td>\n",
       "      <td>3</td>\n",
       "    </tr>\n",
       "    <tr>\n",
       "      <th>4</th>\n",
       "      <td>단국대학교부속소프트웨어고등학교</td>\n",
       "      <td>-2.504541</td>\n",
       "      <td>0.562914</td>\n",
       "      <td>-1.823273</td>\n",
       "      <td>-0.238925</td>\n",
       "      <td>-0.851361</td>\n",
       "      <td>0.528323</td>\n",
       "      <td>3</td>\n",
       "    </tr>\n",
       "    <tr>\n",
       "      <th>...</th>\n",
       "      <td>...</td>\n",
       "      <td>...</td>\n",
       "      <td>...</td>\n",
       "      <td>...</td>\n",
       "      <td>...</td>\n",
       "      <td>...</td>\n",
       "      <td>...</td>\n",
       "      <td>...</td>\n",
       "    </tr>\n",
       "    <tr>\n",
       "      <th>315</th>\n",
       "      <td>무학여자고등학교</td>\n",
       "      <td>0.399275</td>\n",
       "      <td>0.562914</td>\n",
       "      <td>0.548464</td>\n",
       "      <td>-0.401498</td>\n",
       "      <td>0.560222</td>\n",
       "      <td>0.937053</td>\n",
       "      <td>0</td>\n",
       "    </tr>\n",
       "    <tr>\n",
       "      <th>316</th>\n",
       "      <td>서울방송고등학교</td>\n",
       "      <td>0.399275</td>\n",
       "      <td>0.562914</td>\n",
       "      <td>0.548464</td>\n",
       "      <td>-0.978335</td>\n",
       "      <td>0.560222</td>\n",
       "      <td>0.119594</td>\n",
       "      <td>0</td>\n",
       "    </tr>\n",
       "    <tr>\n",
       "      <th>317</th>\n",
       "      <td>성수고등학교</td>\n",
       "      <td>0.399275</td>\n",
       "      <td>0.562914</td>\n",
       "      <td>0.548464</td>\n",
       "      <td>0.132172</td>\n",
       "      <td>-0.851361</td>\n",
       "      <td>-0.977522</td>\n",
       "      <td>2</td>\n",
       "    </tr>\n",
       "    <tr>\n",
       "      <th>318</th>\n",
       "      <td>성수공업고등학교</td>\n",
       "      <td>0.399275</td>\n",
       "      <td>-1.776470</td>\n",
       "      <td>0.548464</td>\n",
       "      <td>-0.216297</td>\n",
       "      <td>0.560222</td>\n",
       "      <td>0.334715</td>\n",
       "      <td>4</td>\n",
       "    </tr>\n",
       "    <tr>\n",
       "      <th>319</th>\n",
       "      <td>한양대학교사범대학부속고등학교</td>\n",
       "      <td>0.399275</td>\n",
       "      <td>0.562914</td>\n",
       "      <td>0.548464</td>\n",
       "      <td>-0.806363</td>\n",
       "      <td>0.560222</td>\n",
       "      <td>0.291690</td>\n",
       "      <td>0</td>\n",
       "    </tr>\n",
       "  </tbody>\n",
       "</table>\n",
       "<p>320 rows × 8 columns</p>\n",
       "</div>"
      ],
      "text/plain": [
       "                  학교명  내부상담_실시여부  외부상담_실시여부  wee클래스_운영여부  \\\n",
       "0              개포고등학교   0.399275   0.562914     0.548464   \n",
       "1              경기고등학교   0.399275  -1.776470     0.548464   \n",
       "2            경기여자고등학교   0.399275   0.562914     0.548464   \n",
       "3            국립국악고등학교  -2.504541  -1.776470    -1.823273   \n",
       "4    단국대학교부속소프트웨어고등학교  -2.504541   0.562914    -1.823273   \n",
       "..                ...        ...        ...          ...   \n",
       "315          무학여자고등학교   0.399275   0.562914     0.548464   \n",
       "316          서울방송고등학교   0.399275   0.562914     0.548464   \n",
       "317            성수고등학교   0.399275   0.562914     0.548464   \n",
       "318          성수공업고등학교   0.399275  -1.776470     0.548464   \n",
       "319   한양대학교사범대학부속고등학교   0.399275   0.562914     0.548464   \n",
       "\n",
       "     학교폭력_예방교육_평균교육시간(1학급당)  500미터내_파출소개수  500미터내_CCTV개수  cluster  \n",
       "0                  0.047926     -0.851361      -0.396696        2  \n",
       "1                 -0.752752      0.560222      -0.310648        4  \n",
       "2                 -0.587046     -0.851361      -0.482745        2  \n",
       "3                 -0.526473      0.560222       0.700420        3  \n",
       "4                 -0.238925     -0.851361       0.528323        3  \n",
       "..                      ...           ...            ...      ...  \n",
       "315               -0.401498      0.560222       0.937053        0  \n",
       "316               -0.978335      0.560222       0.119594        0  \n",
       "317                0.132172     -0.851361      -0.977522        2  \n",
       "318               -0.216297      0.560222       0.334715        4  \n",
       "319               -0.806363      0.560222       0.291690        0  \n",
       "\n",
       "[320 rows x 8 columns]"
      ]
     },
     "execution_count": 10,
     "metadata": {},
     "output_type": "execute_result"
    }
   ],
   "source": [
    "total_sd.reset_index(inplace=True)\n",
    "total_sd.rename(columns={'index': '학교명', 0: '내부상담_실시여부', 1: '외부상담_실시여부', 2: 'wee클래스_운영여부',\n",
    "                         3: '학교폭력_예방교육_평균교육시간(1학급당)', 4: '500미터내_파출소개수', 5: '500미터내_CCTV개수'}, inplace=True)\n",
    "total_sd"
   ]
  },
  {
   "cell_type": "code",
   "execution_count": 11,
   "metadata": {
    "ExecuteTime": {
     "end_time": "2021-05-26T08:11:18.768776Z",
     "start_time": "2021-05-26T08:11:18.725888Z"
    }
   },
   "outputs": [
    {
     "data": {
      "text/html": [
       "<div>\n",
       "<style scoped>\n",
       "    .dataframe tbody tr th:only-of-type {\n",
       "        vertical-align: middle;\n",
       "    }\n",
       "\n",
       "    .dataframe tbody tr th {\n",
       "        vertical-align: top;\n",
       "    }\n",
       "\n",
       "    .dataframe thead th {\n",
       "        text-align: right;\n",
       "    }\n",
       "</style>\n",
       "<table border=\"1\" class=\"dataframe\">\n",
       "  <thead>\n",
       "    <tr style=\"text-align: right;\">\n",
       "      <th></th>\n",
       "      <th>학교명</th>\n",
       "      <th>내부상담_실시여부</th>\n",
       "      <th>외부상담_실시여부</th>\n",
       "      <th>wee클래스_운영여부</th>\n",
       "      <th>학교폭력_예방교육_평균교육시간(1학급당)</th>\n",
       "      <th>500미터내_파출소개수</th>\n",
       "      <th>500미터내_CCTV개수</th>\n",
       "      <th>cluster</th>\n",
       "      <th>학교코드</th>\n",
       "    </tr>\n",
       "  </thead>\n",
       "  <tbody>\n",
       "    <tr>\n",
       "      <th>0</th>\n",
       "      <td>개포고등학교</td>\n",
       "      <td>0.399275</td>\n",
       "      <td>0.562914</td>\n",
       "      <td>0.548464</td>\n",
       "      <td>0.047926</td>\n",
       "      <td>-0.851361</td>\n",
       "      <td>-0.396696</td>\n",
       "      <td>2</td>\n",
       "      <td>S010000373</td>\n",
       "    </tr>\n",
       "    <tr>\n",
       "      <th>1</th>\n",
       "      <td>경기고등학교</td>\n",
       "      <td>0.399275</td>\n",
       "      <td>-1.776470</td>\n",
       "      <td>0.548464</td>\n",
       "      <td>-0.752752</td>\n",
       "      <td>0.560222</td>\n",
       "      <td>-0.310648</td>\n",
       "      <td>4</td>\n",
       "      <td>S010000375</td>\n",
       "    </tr>\n",
       "    <tr>\n",
       "      <th>2</th>\n",
       "      <td>경기여자고등학교</td>\n",
       "      <td>0.399275</td>\n",
       "      <td>0.562914</td>\n",
       "      <td>0.548464</td>\n",
       "      <td>-0.587046</td>\n",
       "      <td>-0.851361</td>\n",
       "      <td>-0.482745</td>\n",
       "      <td>2</td>\n",
       "      <td>S010000376</td>\n",
       "    </tr>\n",
       "    <tr>\n",
       "      <th>3</th>\n",
       "      <td>국립국악고등학교</td>\n",
       "      <td>-2.504541</td>\n",
       "      <td>-1.776470</td>\n",
       "      <td>-1.823273</td>\n",
       "      <td>-0.526473</td>\n",
       "      <td>0.560222</td>\n",
       "      <td>0.700420</td>\n",
       "      <td>3</td>\n",
       "      <td>S000003540</td>\n",
       "    </tr>\n",
       "    <tr>\n",
       "      <th>4</th>\n",
       "      <td>단국대학교부속소프트웨어고등학교</td>\n",
       "      <td>-2.504541</td>\n",
       "      <td>0.562914</td>\n",
       "      <td>-1.823273</td>\n",
       "      <td>-0.238925</td>\n",
       "      <td>-0.851361</td>\n",
       "      <td>0.528323</td>\n",
       "      <td>3</td>\n",
       "      <td>S010000581</td>\n",
       "    </tr>\n",
       "  </tbody>\n",
       "</table>\n",
       "</div>"
      ],
      "text/plain": [
       "                학교명  내부상담_실시여부  외부상담_실시여부  wee클래스_운영여부  \\\n",
       "0            개포고등학교   0.399275   0.562914     0.548464   \n",
       "1            경기고등학교   0.399275  -1.776470     0.548464   \n",
       "2          경기여자고등학교   0.399275   0.562914     0.548464   \n",
       "3          국립국악고등학교  -2.504541  -1.776470    -1.823273   \n",
       "4  단국대학교부속소프트웨어고등학교  -2.504541   0.562914    -1.823273   \n",
       "\n",
       "   학교폭력_예방교육_평균교육시간(1학급당)  500미터내_파출소개수  500미터내_CCTV개수  cluster        학교코드  \n",
       "0                0.047926     -0.851361      -0.396696        2  S010000373  \n",
       "1               -0.752752      0.560222      -0.310648        4  S010000375  \n",
       "2               -0.587046     -0.851361      -0.482745        2  S010000376  \n",
       "3               -0.526473      0.560222       0.700420        3  S000003540  \n",
       "4               -0.238925     -0.851361       0.528323        3  S010000581  "
      ]
     },
     "execution_count": 11,
     "metadata": {},
     "output_type": "execute_result"
    }
   ],
   "source": [
    "total_sd['cluster'].value_counts()\n",
    "final = pd.merge(total_sd,school_info,on='학교명',how='left')\n",
    "final.head()"
   ]
  },
  {
   "cell_type": "code",
   "execution_count": 12,
   "metadata": {
    "ExecuteTime": {
     "end_time": "2021-05-26T08:11:18.783736Z",
     "start_time": "2021-05-26T08:11:18.769773Z"
    }
   },
   "outputs": [],
   "source": [
    "Alleviate_score = final.groupby('cluster').mean()"
   ]
  },
  {
   "cell_type": "code",
   "execution_count": 13,
   "metadata": {
    "ExecuteTime": {
     "end_time": "2021-05-26T08:11:18.798698Z",
     "start_time": "2021-05-26T08:11:18.785732Z"
    }
   },
   "outputs": [
    {
     "data": {
      "text/html": [
       "<div>\n",
       "<style scoped>\n",
       "    .dataframe tbody tr th:only-of-type {\n",
       "        vertical-align: middle;\n",
       "    }\n",
       "\n",
       "    .dataframe tbody tr th {\n",
       "        vertical-align: top;\n",
       "    }\n",
       "\n",
       "    .dataframe thead th {\n",
       "        text-align: right;\n",
       "    }\n",
       "</style>\n",
       "<table border=\"1\" class=\"dataframe\">\n",
       "  <thead>\n",
       "    <tr style=\"text-align: right;\">\n",
       "      <th></th>\n",
       "      <th>내부상담_실시여부</th>\n",
       "      <th>외부상담_실시여부</th>\n",
       "      <th>wee클래스_운영여부</th>\n",
       "      <th>학교폭력_예방교육_평균교육시간(1학급당)</th>\n",
       "      <th>500미터내_파출소개수</th>\n",
       "      <th>500미터내_CCTV개수</th>\n",
       "    </tr>\n",
       "    <tr>\n",
       "      <th>cluster</th>\n",
       "      <th></th>\n",
       "      <th></th>\n",
       "      <th></th>\n",
       "      <th></th>\n",
       "      <th></th>\n",
       "      <th></th>\n",
       "    </tr>\n",
       "  </thead>\n",
       "  <tbody>\n",
       "    <tr>\n",
       "      <th>0</th>\n",
       "      <td>0.399275</td>\n",
       "      <td>0.562914</td>\n",
       "      <td>0.195227</td>\n",
       "      <td>0.058096</td>\n",
       "      <td>0.965677</td>\n",
       "      <td>-0.181347</td>\n",
       "    </tr>\n",
       "    <tr>\n",
       "      <th>1</th>\n",
       "      <td>0.246442</td>\n",
       "      <td>-0.052713</td>\n",
       "      <td>0.173979</td>\n",
       "      <td>-0.011712</td>\n",
       "      <td>-0.331304</td>\n",
       "      <td>2.909371</td>\n",
       "    </tr>\n",
       "    <tr>\n",
       "      <th>2</th>\n",
       "      <td>0.399275</td>\n",
       "      <td>0.562914</td>\n",
       "      <td>0.241017</td>\n",
       "      <td>0.005172</td>\n",
       "      <td>-0.851361</td>\n",
       "      <td>-0.281965</td>\n",
       "    </tr>\n",
       "    <tr>\n",
       "      <th>3</th>\n",
       "      <td>-2.504541</td>\n",
       "      <td>-0.307554</td>\n",
       "      <td>-1.106236</td>\n",
       "      <td>-0.146665</td>\n",
       "      <td>0.067809</td>\n",
       "      <td>0.114591</td>\n",
       "    </tr>\n",
       "    <tr>\n",
       "      <th>4</th>\n",
       "      <td>0.399275</td>\n",
       "      <td>-1.776470</td>\n",
       "      <td>-0.002118</td>\n",
       "      <td>0.009099</td>\n",
       "      <td>0.081292</td>\n",
       "      <td>-0.226904</td>\n",
       "    </tr>\n",
       "  </tbody>\n",
       "</table>\n",
       "</div>"
      ],
      "text/plain": [
       "         내부상담_실시여부  외부상담_실시여부  wee클래스_운영여부  학교폭력_예방교육_평균교육시간(1학급당)  \\\n",
       "cluster                                                              \n",
       "0         0.399275   0.562914     0.195227                0.058096   \n",
       "1         0.246442  -0.052713     0.173979               -0.011712   \n",
       "2         0.399275   0.562914     0.241017                0.005172   \n",
       "3        -2.504541  -0.307554    -1.106236               -0.146665   \n",
       "4         0.399275  -1.776470    -0.002118                0.009099   \n",
       "\n",
       "         500미터내_파출소개수  500미터내_CCTV개수  \n",
       "cluster                               \n",
       "0            0.965677      -0.181347  \n",
       "1           -0.331304       2.909371  \n",
       "2           -0.851361      -0.281965  \n",
       "3            0.067809       0.114591  \n",
       "4            0.081292      -0.226904  "
      ]
     },
     "execution_count": 13,
     "metadata": {},
     "output_type": "execute_result"
    }
   ],
   "source": [
    "Alleviate_score"
   ]
  },
  {
   "cell_type": "markdown",
   "metadata": {},
   "source": [
    "## 결과해석"
   ]
  },
  {
   "cell_type": "markdown",
   "metadata": {
    "ExecuteTime": {
     "end_time": "2021-05-25T05:21:33.784295Z",
     "start_time": "2021-05-25T05:21:33.760360Z"
    }
   },
   "source": [
    "**0 > 1 > 2 > 4 > 3**\n",
    "\n",
    "- cluster 0 : 상담/예방시스템 잘되어있고, 파출소 많고 CCTV 무난 => `+ + + + + -` => 전체적으로 높음 => 10점\n",
    "\n",
    "- cluster 1 : 상담/예방시스템 평범, 파출수적으나 CCTV 매우 많음 => `+ - + - - +` => 전체적으로 낮으나 CCTV 매우 높음 => 8점\n",
    "\n",
    "- cluster 2 : 상담/예방시스템 잘 되어있으나 파출소, CCTV 적음   => `+ + + + - -` => 전체적으로 높으나 파출소 CCTV 낮음 => 6점\n",
    "\n",
    "- cluster 3 : 상담/예방시스템 엉망, 파출소, CCTV 보통           => `- - - - + +` => 전체적으로 매우 낮음 => 2점\n",
    "\n",
    "- cluster 4 : 상담/예방 시스템 별로, 파출소 보통 CCTV 적음      => `+ - - + + -` => 전체적으로 낮음 => 4점\n",
    "\n",
    "cluster 1과 2의 순서의 경우 CCTV수가 압도적인 1에 높은 점수 부여함"
   ]
  },
  {
   "cell_type": "markdown",
   "metadata": {},
   "source": [
    "# 경감지표 점수 산출"
   ]
  },
  {
   "cell_type": "markdown",
   "metadata": {},
   "source": [
    "## 1차 점수 산출"
   ]
  },
  {
   "cell_type": "code",
   "execution_count": 14,
   "metadata": {
    "ExecuteTime": {
     "end_time": "2021-05-26T08:11:18.813656Z",
     "start_time": "2021-05-26T08:11:18.801686Z"
    }
   },
   "outputs": [
    {
     "data": {
      "text/plain": [
       "Int64Index([3, 1, 2, 0, 4], dtype='int64', name='cluster')"
      ]
     },
     "execution_count": 14,
     "metadata": {},
     "output_type": "execute_result"
    }
   ],
   "source": [
    "rank = Alleviate_score.sort_values('내부상담_실시여부').index\n",
    "rank"
   ]
  },
  {
   "cell_type": "code",
   "execution_count": 15,
   "metadata": {
    "ExecuteTime": {
     "end_time": "2021-05-26T08:11:18.993176Z",
     "start_time": "2021-05-26T08:11:18.815649Z"
    }
   },
   "outputs": [],
   "source": [
    "final['score_1st'] = ''\n",
    "for i in range(len(final)):\n",
    "    if final['cluster'][i]==rank[0]: # 3 => 2\n",
    "        final['score_1st'][i]= 0.2\n",
    "    elif final['cluster'][i]==rank[1]: # 1 => 8\n",
    "        final['score_1st'][i]=0.8\n",
    "    elif final['cluster'][i]==rank[2]: # 2 => 6\n",
    "        final['score_1st'][i]=0.6\n",
    "    elif final['cluster'][i]==rank[3]: # 0 => 10\n",
    "        final['score_1st'][i]=1\n",
    "    elif final['cluster'][i]==rank[4]: # 4 => 4\n",
    "        final['score_1st'][i]=0.4"
   ]
  },
  {
   "cell_type": "code",
   "execution_count": 16,
   "metadata": {
    "ExecuteTime": {
     "end_time": "2021-05-26T08:11:19.023519Z",
     "start_time": "2021-05-26T08:11:18.996166Z"
    }
   },
   "outputs": [
    {
     "name": "stdout",
     "output_type": "stream",
     "text": [
      "43\n",
      "56\n",
      "108\n",
      "19\n",
      "94\n"
     ]
    }
   ],
   "source": [
    "print(len(final.loc[final['score_1st']==0.2]))\n",
    "print(len(final.loc[final['score_1st']==0.4]))\n",
    "print(len(final.loc[final['score_1st']==0.6]))\n",
    "print(len(final.loc[final['score_1st']==0.8]))\n",
    "print(len(final.loc[final['score_1st']==1]))"
   ]
  },
  {
   "cell_type": "code",
   "execution_count": 17,
   "metadata": {
    "ExecuteTime": {
     "end_time": "2021-05-26T08:11:19.053744Z",
     "start_time": "2021-05-26T08:11:19.024479Z"
    },
    "scrolled": true
   },
   "outputs": [
    {
     "data": {
      "text/html": [
       "<div>\n",
       "<style scoped>\n",
       "    .dataframe tbody tr th:only-of-type {\n",
       "        vertical-align: middle;\n",
       "    }\n",
       "\n",
       "    .dataframe tbody tr th {\n",
       "        vertical-align: top;\n",
       "    }\n",
       "\n",
       "    .dataframe thead th {\n",
       "        text-align: right;\n",
       "    }\n",
       "</style>\n",
       "<table border=\"1\" class=\"dataframe\">\n",
       "  <thead>\n",
       "    <tr style=\"text-align: right;\">\n",
       "      <th></th>\n",
       "      <th>학교명</th>\n",
       "      <th>내부상담_실시여부</th>\n",
       "      <th>외부상담_실시여부</th>\n",
       "      <th>wee클래스_운영여부</th>\n",
       "      <th>학교폭력_예방교육_평균교육시간(1학급당)</th>\n",
       "      <th>500미터내_파출소개수</th>\n",
       "      <th>500미터내_CCTV개수</th>\n",
       "      <th>cluster</th>\n",
       "      <th>학교코드</th>\n",
       "      <th>score_1st</th>\n",
       "    </tr>\n",
       "  </thead>\n",
       "  <tbody>\n",
       "    <tr>\n",
       "      <th>0</th>\n",
       "      <td>개포고등학교</td>\n",
       "      <td>0.399275</td>\n",
       "      <td>0.562914</td>\n",
       "      <td>0.548464</td>\n",
       "      <td>0.047926</td>\n",
       "      <td>-0.851361</td>\n",
       "      <td>-0.396696</td>\n",
       "      <td>2</td>\n",
       "      <td>S010000373</td>\n",
       "      <td>0.6</td>\n",
       "    </tr>\n",
       "    <tr>\n",
       "      <th>1</th>\n",
       "      <td>경기고등학교</td>\n",
       "      <td>0.399275</td>\n",
       "      <td>-1.776470</td>\n",
       "      <td>0.548464</td>\n",
       "      <td>-0.752752</td>\n",
       "      <td>0.560222</td>\n",
       "      <td>-0.310648</td>\n",
       "      <td>4</td>\n",
       "      <td>S010000375</td>\n",
       "      <td>0.4</td>\n",
       "    </tr>\n",
       "    <tr>\n",
       "      <th>2</th>\n",
       "      <td>경기여자고등학교</td>\n",
       "      <td>0.399275</td>\n",
       "      <td>0.562914</td>\n",
       "      <td>0.548464</td>\n",
       "      <td>-0.587046</td>\n",
       "      <td>-0.851361</td>\n",
       "      <td>-0.482745</td>\n",
       "      <td>2</td>\n",
       "      <td>S010000376</td>\n",
       "      <td>0.6</td>\n",
       "    </tr>\n",
       "    <tr>\n",
       "      <th>3</th>\n",
       "      <td>국립국악고등학교</td>\n",
       "      <td>-2.504541</td>\n",
       "      <td>-1.776470</td>\n",
       "      <td>-1.823273</td>\n",
       "      <td>-0.526473</td>\n",
       "      <td>0.560222</td>\n",
       "      <td>0.700420</td>\n",
       "      <td>3</td>\n",
       "      <td>S000003540</td>\n",
       "      <td>0.2</td>\n",
       "    </tr>\n",
       "    <tr>\n",
       "      <th>4</th>\n",
       "      <td>단국대학교부속소프트웨어고등학교</td>\n",
       "      <td>-2.504541</td>\n",
       "      <td>0.562914</td>\n",
       "      <td>-1.823273</td>\n",
       "      <td>-0.238925</td>\n",
       "      <td>-0.851361</td>\n",
       "      <td>0.528323</td>\n",
       "      <td>3</td>\n",
       "      <td>S010000581</td>\n",
       "      <td>0.2</td>\n",
       "    </tr>\n",
       "    <tr>\n",
       "      <th>...</th>\n",
       "      <td>...</td>\n",
       "      <td>...</td>\n",
       "      <td>...</td>\n",
       "      <td>...</td>\n",
       "      <td>...</td>\n",
       "      <td>...</td>\n",
       "      <td>...</td>\n",
       "      <td>...</td>\n",
       "      <td>...</td>\n",
       "      <td>...</td>\n",
       "    </tr>\n",
       "    <tr>\n",
       "      <th>315</th>\n",
       "      <td>무학여자고등학교</td>\n",
       "      <td>0.399275</td>\n",
       "      <td>0.562914</td>\n",
       "      <td>0.548464</td>\n",
       "      <td>-0.401498</td>\n",
       "      <td>0.560222</td>\n",
       "      <td>0.937053</td>\n",
       "      <td>0</td>\n",
       "      <td>S010000436</td>\n",
       "      <td>1</td>\n",
       "    </tr>\n",
       "    <tr>\n",
       "      <th>316</th>\n",
       "      <td>서울방송고등학교</td>\n",
       "      <td>0.399275</td>\n",
       "      <td>0.562914</td>\n",
       "      <td>0.548464</td>\n",
       "      <td>-0.978335</td>\n",
       "      <td>0.560222</td>\n",
       "      <td>0.119594</td>\n",
       "      <td>0</td>\n",
       "      <td>S010000585</td>\n",
       "      <td>1</td>\n",
       "    </tr>\n",
       "    <tr>\n",
       "      <th>317</th>\n",
       "      <td>성수고등학교</td>\n",
       "      <td>0.399275</td>\n",
       "      <td>0.562914</td>\n",
       "      <td>0.548464</td>\n",
       "      <td>0.132172</td>\n",
       "      <td>-0.851361</td>\n",
       "      <td>-0.977522</td>\n",
       "      <td>2</td>\n",
       "      <td>S010005523</td>\n",
       "      <td>0.6</td>\n",
       "    </tr>\n",
       "    <tr>\n",
       "      <th>318</th>\n",
       "      <td>성수공업고등학교</td>\n",
       "      <td>0.399275</td>\n",
       "      <td>-1.776470</td>\n",
       "      <td>0.548464</td>\n",
       "      <td>-0.216297</td>\n",
       "      <td>0.560222</td>\n",
       "      <td>0.334715</td>\n",
       "      <td>4</td>\n",
       "      <td>S010000592</td>\n",
       "      <td>0.4</td>\n",
       "    </tr>\n",
       "    <tr>\n",
       "      <th>319</th>\n",
       "      <td>한양대학교사범대학부속고등학교</td>\n",
       "      <td>0.399275</td>\n",
       "      <td>0.562914</td>\n",
       "      <td>0.548464</td>\n",
       "      <td>-0.806363</td>\n",
       "      <td>0.560222</td>\n",
       "      <td>0.291690</td>\n",
       "      <td>0</td>\n",
       "      <td>S010000557</td>\n",
       "      <td>1</td>\n",
       "    </tr>\n",
       "  </tbody>\n",
       "</table>\n",
       "<p>320 rows × 10 columns</p>\n",
       "</div>"
      ],
      "text/plain": [
       "                  학교명  내부상담_실시여부  외부상담_실시여부  wee클래스_운영여부  \\\n",
       "0              개포고등학교   0.399275   0.562914     0.548464   \n",
       "1              경기고등학교   0.399275  -1.776470     0.548464   \n",
       "2            경기여자고등학교   0.399275   0.562914     0.548464   \n",
       "3            국립국악고등학교  -2.504541  -1.776470    -1.823273   \n",
       "4    단국대학교부속소프트웨어고등학교  -2.504541   0.562914    -1.823273   \n",
       "..                ...        ...        ...          ...   \n",
       "315          무학여자고등학교   0.399275   0.562914     0.548464   \n",
       "316          서울방송고등학교   0.399275   0.562914     0.548464   \n",
       "317            성수고등학교   0.399275   0.562914     0.548464   \n",
       "318          성수공업고등학교   0.399275  -1.776470     0.548464   \n",
       "319   한양대학교사범대학부속고등학교   0.399275   0.562914     0.548464   \n",
       "\n",
       "     학교폭력_예방교육_평균교육시간(1학급당)  500미터내_파출소개수  500미터내_CCTV개수  cluster        학교코드  \\\n",
       "0                  0.047926     -0.851361      -0.396696        2  S010000373   \n",
       "1                 -0.752752      0.560222      -0.310648        4  S010000375   \n",
       "2                 -0.587046     -0.851361      -0.482745        2  S010000376   \n",
       "3                 -0.526473      0.560222       0.700420        3  S000003540   \n",
       "4                 -0.238925     -0.851361       0.528323        3  S010000581   \n",
       "..                      ...           ...            ...      ...         ...   \n",
       "315               -0.401498      0.560222       0.937053        0  S010000436   \n",
       "316               -0.978335      0.560222       0.119594        0  S010000585   \n",
       "317                0.132172     -0.851361      -0.977522        2  S010005523   \n",
       "318               -0.216297      0.560222       0.334715        4  S010000592   \n",
       "319               -0.806363      0.560222       0.291690        0  S010000557   \n",
       "\n",
       "    score_1st  \n",
       "0         0.6  \n",
       "1         0.4  \n",
       "2         0.6  \n",
       "3         0.2  \n",
       "4         0.2  \n",
       "..        ...  \n",
       "315         1  \n",
       "316         1  \n",
       "317       0.6  \n",
       "318       0.4  \n",
       "319         1  \n",
       "\n",
       "[320 rows x 10 columns]"
      ]
     },
     "execution_count": 17,
     "metadata": {},
     "output_type": "execute_result"
    }
   ],
   "source": [
    "final"
   ]
  },
  {
   "cell_type": "code",
   "execution_count": 18,
   "metadata": {
    "ExecuteTime": {
     "end_time": "2021-05-26T08:11:19.068708Z",
     "start_time": "2021-05-26T08:11:19.055739Z"
    }
   },
   "outputs": [],
   "source": [
    "final.to_csv('./Data/final.csv',encoding='cp949')"
   ]
  },
  {
   "cell_type": "markdown",
   "metadata": {
    "ExecuteTime": {
     "end_time": "2021-05-25T07:10:30.671904Z",
     "start_time": "2021-05-25T07:10:30.658696Z"
    }
   },
   "source": [
    "## 2차 점수 산출"
   ]
  },
  {
   "cell_type": "markdown",
   "metadata": {},
   "source": [
    "### 구별 점수"
   ]
  },
  {
   "cell_type": "code",
   "execution_count": null,
   "metadata": {
    "ExecuteTime": {
     "end_time": "2021-05-26T06:30:36.563440Z",
     "start_time": "2021-05-26T06:30:36.535516Z"
    }
   },
   "outputs": [],
   "source": [
    "ingu = pd.read_csv('./Data/서울시_청소년인구수_구.txt', delimiter='\\t')[['지역','0세-18세']][2:].reset_index(drop=True)\n",
    "ingu.columns=['구','청소년인구수']"
   ]
  },
  {
   "cell_type": "code",
   "execution_count": null,
   "metadata": {
    "ExecuteTime": {
     "end_time": "2021-05-26T06:30:36.608319Z",
     "start_time": "2021-05-26T06:30:36.565436Z"
    }
   },
   "outputs": [],
   "source": [
    "police = pd.read_csv('./Data/경찰관서_2019.csv', encoding='cp949', index_col=0)[1:].reset_index(drop=True)\n",
    "police['지구대_파출소_총합']=police['경찰서']+police['지구대파출소치안센터']"
   ]
  },
  {
   "cell_type": "code",
   "execution_count": null,
   "metadata": {
    "ExecuteTime": {
     "end_time": "2021-05-26T06:30:36.623280Z",
     "start_time": "2021-05-26T06:30:36.613308Z"
    }
   },
   "outputs": [],
   "source": [
    "score_second = pd.merge(police,ingu,how='inner',on='구')"
   ]
  },
  {
   "cell_type": "code",
   "execution_count": null,
   "metadata": {
    "ExecuteTime": {
     "end_time": "2021-05-26T06:30:36.638240Z",
     "start_time": "2021-05-26T06:30:36.629264Z"
    }
   },
   "outputs": [],
   "source": [
    "score_second['청소년인구수'] = score_second['청소년인구수'].str.replace(pat=r'[^A-Za-z0-9]', repl= r'', regex=True)\n",
    "score_second['청소년인구수']= pd.to_numeric(score_second['청소년인구수'])"
   ]
  },
  {
   "cell_type": "code",
   "execution_count": null,
   "metadata": {
    "ExecuteTime": {
     "end_time": "2021-05-26T06:30:36.653199Z",
     "start_time": "2021-05-26T06:30:36.640235Z"
    }
   },
   "outputs": [],
   "source": [
    "score_second['구당_청소년수'] = round(score_second['청소년인구수'] / score_second['지구대_파출소_총합'],2)\n",
    "score_second = score_second[['구','구당_청소년수']]"
   ]
  },
  {
   "cell_type": "code",
   "execution_count": null,
   "metadata": {
    "ExecuteTime": {
     "end_time": "2021-05-26T06:30:36.683120Z",
     "start_time": "2021-05-26T06:30:36.655194Z"
    }
   },
   "outputs": [],
   "source": [
    "temp=pd.read_csv('./Data/서울시고등학교_기본정보.csv',encoding='cp949')[['지역','학교명']]\n",
    "temp.columns=['구','학교명']"
   ]
  },
  {
   "cell_type": "code",
   "execution_count": null,
   "metadata": {
    "ExecuteTime": {
     "end_time": "2021-05-26T06:30:36.698081Z",
     "start_time": "2021-05-26T06:30:36.685114Z"
    }
   },
   "outputs": [],
   "source": [
    "score_second = pd.merge(temp, score_second, how='inner', on='구')"
   ]
  },
  {
   "cell_type": "code",
   "execution_count": null,
   "metadata": {
    "ExecuteTime": {
     "end_time": "2021-05-26T06:30:36.728996Z",
     "start_time": "2021-05-26T06:30:36.701076Z"
    }
   },
   "outputs": [],
   "source": [
    "score_second"
   ]
  },
  {
   "cell_type": "code",
   "execution_count": null,
   "metadata": {
    "ExecuteTime": {
     "end_time": "2021-05-26T06:30:36.773879Z",
     "start_time": "2021-05-26T06:30:36.731990Z"
    },
    "scrolled": false
   },
   "outputs": [],
   "source": [
    "Alleviate_score_2nd = pd.merge(final, score_second,how='left',on='학교명')\n",
    "Alleviate_score_2nd "
   ]
  },
  {
   "cell_type": "code",
   "execution_count": null,
   "metadata": {
    "ExecuteTime": {
     "end_time": "2021-05-26T06:30:38.527045Z",
     "start_time": "2021-05-26T06:30:36.778864Z"
    }
   },
   "outputs": [],
   "source": [
    "Alleviate_score_2nd['score_2nd']=''\n",
    "for i in range(len(Alleviate_score_2nd)):\n",
    "    for k in range(5):\n",
    "        rank_lis = sorted(list(set(Alleviate_score_2nd[Alleviate_score_2nd['cluster']==k]['구당_청소년수'])), reverse=True) \n",
    "        for j in range(len(rank_lis)): #내림차순 정렬한 리스트의 인덱스 순서대로 적은 점수를 차감\n",
    "            if Alleviate_score_2nd['구당_청소년수'][i] == rank_lis[j]:\n",
    "                Alleviate_score_2nd['score_2nd'][i] = round((Alleviate_score_2nd['score_1st'][i]-(j/len(rank_lis))*0.2)*10,2) # 점수 만점을 10점으로 만들기"
   ]
  },
  {
   "cell_type": "code",
   "execution_count": null,
   "metadata": {
    "ExecuteTime": {
     "end_time": "2021-05-26T06:30:38.542009Z",
     "start_time": "2021-05-26T06:30:38.529040Z"
    }
   },
   "outputs": [],
   "source": [
    "score2_final = Alleviate_score_2nd[['학교명','구','score_2nd']]\n",
    "score2_final = score2_final.sort_values(by=['score_2nd'], ascending=False)"
   ]
  },
  {
   "cell_type": "code",
   "execution_count": null,
   "metadata": {
    "ExecuteTime": {
     "end_time": "2021-05-26T06:30:38.572922Z",
     "start_time": "2021-05-26T06:30:38.560954Z"
    }
   },
   "outputs": [],
   "source": [
    "score2_final.to_csv('./Data/경감지표.csv', index=False, encoding='cp949')"
   ]
  }
 ],
 "metadata": {
  "kernelspec": {
   "display_name": "Python 3",
   "language": "python",
   "name": "python3"
  },
  "language_info": {
   "codemirror_mode": {
    "name": "ipython",
    "version": 3
   },
   "file_extension": ".py",
   "mimetype": "text/x-python",
   "name": "python",
   "nbconvert_exporter": "python",
   "pygments_lexer": "ipython3",
   "version": "3.7.6"
  },
  "toc": {
   "base_numbering": 1,
   "nav_menu": {},
   "number_sections": true,
   "sideBar": true,
   "skip_h1_title": false,
   "title_cell": "Table of Contents",
   "title_sidebar": "Contents",
   "toc_cell": false,
   "toc_position": {
    "height": "calc(100% - 180px)",
    "left": "10px",
    "top": "150px",
    "width": "409.6px"
   },
   "toc_section_display": true,
   "toc_window_display": true
  }
 },
 "nbformat": 4,
 "nbformat_minor": 4
}

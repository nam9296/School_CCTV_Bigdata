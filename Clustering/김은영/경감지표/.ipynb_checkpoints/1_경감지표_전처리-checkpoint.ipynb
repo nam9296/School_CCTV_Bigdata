{
 "cells": [
  {
   "cell_type": "code",
   "execution_count": 2,
   "metadata": {
    "ExecuteTime": {
     "end_time": "2021-05-25T09:48:58.387078Z",
     "start_time": "2021-05-25T09:48:57.822006Z"
    }
   },
   "outputs": [],
   "source": [
    "import pandas as pd\n",
    "import numpy as np"
   ]
  },
  {
   "cell_type": "code",
   "execution_count": 3,
   "metadata": {
    "ExecuteTime": {
     "end_time": "2021-05-25T09:48:59.969867Z",
     "start_time": "2021-05-25T09:48:58.389119Z"
    }
   },
   "outputs": [],
   "source": [
    "import pandas as pd\n",
    "import warnings \n",
    "# import geopandas as gpd\n",
    "import numpy as np\n",
    "# from shapely.geometry import Polygon, LineString, Point\n",
    "warnings.filterwarnings(action='ignore')\n",
    "\n",
    "from sklearn.cluster import KMeans\n",
    "import matplotlib.pyplot as plt\n",
    "from sklearn.cluster import KMeans\n",
    "from scipy.spatial.distance import cdist, pdist\n",
    "from sklearn.preprocessing import StandardScaler"
   ]
  },
  {
   "cell_type": "code",
   "execution_count": 4,
   "metadata": {
    "ExecuteTime": {
     "end_time": "2021-05-25T09:48:59.984895Z",
     "start_time": "2021-05-25T09:48:59.971788Z"
    }
   },
   "outputs": [],
   "source": [
    "plt.rcParams['font.family'] = 'Malgun Gothic'"
   ]
  },
  {
   "cell_type": "markdown",
   "metadata": {},
   "source": [
    "## 경감지수 전처리"
   ]
  },
  {
   "cell_type": "markdown",
   "metadata": {},
   "source": [
    "### 학교정보 및 상담 데이터"
   ]
  },
  {
   "cell_type": "code",
   "execution_count": 25,
   "metadata": {
    "ExecuteTime": {
     "end_time": "2021-05-25T09:36:55.098824Z",
     "start_time": "2021-05-25T09:36:55.035993Z"
    }
   },
   "outputs": [],
   "source": [
    "# 필요한 파일 출력\n",
    "councel = pd.read_csv('서울시고등학교_교육여건_상담.csv', encoding='cp949')\n",
    "school_info = pd.read_csv('서울시고등학교_기본정보.csv', encoding='cp949')\n",
    "police_loc = pd.read_csv('경찰청_경찰관서 위치.csv', encoding='cp949')\n",
    "cctv_loc = pd.read_csv('서울시CCTV_방범.csv', encoding='cp949')"
   ]
  },
  {
   "cell_type": "code",
   "execution_count": 27,
   "metadata": {
    "ExecuteTime": {
     "end_time": "2021-05-25T09:37:19.835486Z",
     "start_time": "2021-05-25T09:37:19.801580Z"
    }
   },
   "outputs": [
    {
     "name": "stdout",
     "output_type": "stream",
     "text": [
      "<class 'pandas.core.frame.DataFrame'>\n",
      "RangeIndex: 320 entries, 0 to 319\n",
      "Data columns (total 7 columns):\n",
      " #   Column                  Non-Null Count  Dtype  \n",
      "---  ------                  --------------  -----  \n",
      " 0   구                       320 non-null    object \n",
      " 1   학교명                     320 non-null    object \n",
      " 2   학교코드                    320 non-null    object \n",
      " 3   내부상담_실시여부               320 non-null    int64  \n",
      " 4   외부상담_실시여부               320 non-null    int64  \n",
      " 5   wee클래스_운영여부             320 non-null    int64  \n",
      " 6   학교폭력_예방교육_평균교육시간(1학급당)  320 non-null    float64\n",
      "dtypes: float64(1), int64(3), object(3)\n",
      "memory usage: 17.6+ KB\n",
      "None\n",
      "<class 'pandas.core.frame.DataFrame'>\n",
      "RangeIndex: 320 entries, 0 to 319\n",
      "Data columns (total 19 columns):\n",
      " #   Column          Non-Null Count  Dtype  \n",
      "---  ------          --------------  -----  \n",
      " 0   지역              320 non-null    object \n",
      " 1   학교코드            320 non-null    object \n",
      " 2   학교명             320 non-null    object \n",
      " 3   설립구분            320 non-null    object \n",
      " 4   학교특성            320 non-null    object \n",
      " 5   설립유형            320 non-null    object \n",
      " 6   개교기념일           320 non-null    int64  \n",
      " 7   법정동코드           320 non-null    int64  \n",
      " 8   위도              320 non-null    float64\n",
      " 9   경도              320 non-null    float64\n",
      " 10  남녀공학 \r\n",
      " 구분      320 non-null    object \n",
      " 11  학급당 학생수         320 non-null    float64\n",
      " 12  수업 교원 1인당 학생수   320 non-null    float64\n",
      " 13  학급수             320 non-null    int64  \n",
      " 14  학생수             320 non-null    int64  \n",
      " 15  학생수_남           320 non-null    int64  \n",
      " 16  학생수_여           320 non-null    int64  \n",
      " 17  교사수             320 non-null    int64  \n",
      " 18  교사1인당_주당평균수업시수  320 non-null    float64\n",
      "dtypes: float64(5), int64(7), object(7)\n",
      "memory usage: 47.6+ KB\n",
      "None\n",
      "<class 'pandas.core.frame.DataFrame'>\n",
      "RangeIndex: 29518 entries, 0 to 29517\n",
      "Data columns (total 5 columns):\n",
      " #   Column   Non-Null Count  Dtype  \n",
      "---  ------   --------------  -----  \n",
      " 0   자치구      29518 non-null  object \n",
      " 1   CCTV 용도  29518 non-null  object \n",
      " 2   위도       29518 non-null  float64\n",
      " 3   경도       29518 non-null  float64\n",
      " 4   CCTV 수량  29518 non-null  int64  \n",
      "dtypes: float64(2), int64(1), object(2)\n",
      "memory usage: 1.1+ MB\n",
      "None\n"
     ]
    }
   ],
   "source": [
    "print(councel.info())\n",
    "print(school_info.info())\n",
    "print(cctv_loc.info())"
   ]
  },
  {
   "cell_type": "code",
   "execution_count": 6,
   "metadata": {
    "ExecuteTime": {
     "end_time": "2021-05-25T08:39:04.133509Z",
     "start_time": "2021-05-25T08:39:04.105586Z"
    }
   },
   "outputs": [
    {
     "name": "stdout",
     "output_type": "stream",
     "text": [
      "<class 'pandas.core.frame.DataFrame'>\n",
      "Int64Index: 320 entries, 0 to 319\n",
      "Data columns (total 10 columns):\n",
      " #   Column                  Non-Null Count  Dtype  \n",
      "---  ------                  --------------  -----  \n",
      " 0   구                       320 non-null    object \n",
      " 1   학교명                     320 non-null    object \n",
      " 2   학교코드                    320 non-null    object \n",
      " 3   내부상담_실시여부               320 non-null    int64  \n",
      " 4   외부상담_실시여부               320 non-null    int64  \n",
      " 5   wee클래스_운영여부             320 non-null    int64  \n",
      " 6   학교폭력_예방교육_평균교육시간(1학급당)  320 non-null    float64\n",
      " 7   위도                      320 non-null    float64\n",
      " 8   경도                      320 non-null    float64\n",
      " 9   법정동코드                   320 non-null    int64  \n",
      "dtypes: float64(3), int64(4), object(3)\n",
      "memory usage: 27.5+ KB\n"
     ]
    }
   ],
   "source": [
    "# 학교 기본정보 + 교육여건_상담 데이터 병합\n",
    "school_info = school_info[['학교코드','위도','경도','법정동코드']]\n",
    "school = pd.merge(councel, school_info, on='학교코드', how='left')\n",
    "school.info()"
   ]
  },
  {
   "cell_type": "code",
   "execution_count": 7,
   "metadata": {
    "ExecuteTime": {
     "end_time": "2021-05-25T08:39:04.148470Z",
     "start_time": "2021-05-25T08:39:04.135504Z"
    }
   },
   "outputs": [
    {
     "name": "stdout",
     "output_type": "stream",
     "text": [
      "<class 'pandas.core.frame.DataFrame'>\n",
      "RangeIndex: 274 entries, 0 to 273\n",
      "Data columns (total 5 columns):\n",
      " #   Column  Non-Null Count  Dtype  \n",
      "---  ------  --------------  -----  \n",
      " 0   청       274 non-null    object \n",
      " 1   서       274 non-null    object \n",
      " 2   지구대파출소  274 non-null    object \n",
      " 3   X좌표     274 non-null    float64\n",
      " 4   Y좌표     274 non-null    float64\n",
      "dtypes: float64(2), object(3)\n",
      "memory usage: 10.8+ KB\n"
     ]
    }
   ],
   "source": [
    "police_loc.info()"
   ]
  },
  {
   "cell_type": "code",
   "execution_count": 8,
   "metadata": {
    "ExecuteTime": {
     "end_time": "2021-05-25T08:39:04.193684Z",
     "start_time": "2021-05-25T08:39:04.153459Z"
    },
    "scrolled": false
   },
   "outputs": [
    {
     "data": {
      "text/html": [
       "<div>\n",
       "<style scoped>\n",
       "    .dataframe tbody tr th:only-of-type {\n",
       "        vertical-align: middle;\n",
       "    }\n",
       "\n",
       "    .dataframe tbody tr th {\n",
       "        vertical-align: top;\n",
       "    }\n",
       "\n",
       "    .dataframe thead th {\n",
       "        text-align: right;\n",
       "    }\n",
       "</style>\n",
       "<table border=\"1\" class=\"dataframe\">\n",
       "  <thead>\n",
       "    <tr style=\"text-align: right;\">\n",
       "      <th></th>\n",
       "      <th>청</th>\n",
       "      <th>서</th>\n",
       "      <th>지구대파출소</th>\n",
       "      <th>경도</th>\n",
       "      <th>위도</th>\n",
       "    </tr>\n",
       "  </thead>\n",
       "  <tbody>\n",
       "    <tr>\n",
       "      <th>0</th>\n",
       "      <td>서울청</td>\n",
       "      <td>서울강남경찰서</td>\n",
       "      <td>논현1파출소</td>\n",
       "      <td>127.029316</td>\n",
       "      <td>37.513791</td>\n",
       "    </tr>\n",
       "    <tr>\n",
       "      <th>1</th>\n",
       "      <td>서울청</td>\n",
       "      <td>서울강남경찰서</td>\n",
       "      <td>논현2파출소</td>\n",
       "      <td>127.033875</td>\n",
       "      <td>37.515220</td>\n",
       "    </tr>\n",
       "    <tr>\n",
       "      <th>2</th>\n",
       "      <td>서울청</td>\n",
       "      <td>서울강남경찰서</td>\n",
       "      <td>삼성1파출소</td>\n",
       "      <td>127.060440</td>\n",
       "      <td>37.514852</td>\n",
       "    </tr>\n",
       "    <tr>\n",
       "      <th>3</th>\n",
       "      <td>서울청</td>\n",
       "      <td>서울강남경찰서</td>\n",
       "      <td>삼성2파출소</td>\n",
       "      <td>127.048063</td>\n",
       "      <td>37.511289</td>\n",
       "    </tr>\n",
       "    <tr>\n",
       "      <th>4</th>\n",
       "      <td>서울청</td>\n",
       "      <td>서울강남경찰서</td>\n",
       "      <td>서울강남경찰서</td>\n",
       "      <td>127.067177</td>\n",
       "      <td>37.509036</td>\n",
       "    </tr>\n",
       "    <tr>\n",
       "      <th>...</th>\n",
       "      <td>...</td>\n",
       "      <td>...</td>\n",
       "      <td>...</td>\n",
       "      <td>...</td>\n",
       "      <td>...</td>\n",
       "    </tr>\n",
       "    <tr>\n",
       "      <th>269</th>\n",
       "      <td>서울청</td>\n",
       "      <td>서울혜화경찰서</td>\n",
       "      <td>종로5가파출소</td>\n",
       "      <td>127.001606</td>\n",
       "      <td>37.570727</td>\n",
       "    </tr>\n",
       "    <tr>\n",
       "      <th>270</th>\n",
       "      <td>서울청</td>\n",
       "      <td>서울혜화경찰서</td>\n",
       "      <td>창신파출소</td>\n",
       "      <td>127.013702</td>\n",
       "      <td>37.578482</td>\n",
       "    </tr>\n",
       "    <tr>\n",
       "      <th>271</th>\n",
       "      <td>서울청</td>\n",
       "      <td>서울혜화경찰서</td>\n",
       "      <td>혜화파출소</td>\n",
       "      <td>127.001422</td>\n",
       "      <td>37.586135</td>\n",
       "    </tr>\n",
       "    <tr>\n",
       "      <th>272</th>\n",
       "      <td>서울청</td>\n",
       "      <td>서울혜화경찰서</td>\n",
       "      <td>효제파출소</td>\n",
       "      <td>127.003606</td>\n",
       "      <td>37.574259</td>\n",
       "    </tr>\n",
       "    <tr>\n",
       "      <th>273</th>\n",
       "      <td>서울청</td>\n",
       "      <td>서울청</td>\n",
       "      <td>서울청</td>\n",
       "      <td>126.972072</td>\n",
       "      <td>37.575060</td>\n",
       "    </tr>\n",
       "  </tbody>\n",
       "</table>\n",
       "<p>274 rows × 5 columns</p>\n",
       "</div>"
      ],
      "text/plain": [
       "       청        서   지구대파출소          경도         위도\n",
       "0    서울청  서울강남경찰서   논현1파출소  127.029316  37.513791\n",
       "1    서울청  서울강남경찰서   논현2파출소  127.033875  37.515220\n",
       "2    서울청  서울강남경찰서   삼성1파출소  127.060440  37.514852\n",
       "3    서울청  서울강남경찰서   삼성2파출소  127.048063  37.511289\n",
       "4    서울청  서울강남경찰서  서울강남경찰서  127.067177  37.509036\n",
       "..   ...      ...      ...         ...        ...\n",
       "269  서울청  서울혜화경찰서  종로5가파출소  127.001606  37.570727\n",
       "270  서울청  서울혜화경찰서    창신파출소  127.013702  37.578482\n",
       "271  서울청  서울혜화경찰서    혜화파출소  127.001422  37.586135\n",
       "272  서울청  서울혜화경찰서    효제파출소  127.003606  37.574259\n",
       "273  서울청      서울청      서울청  126.972072  37.575060\n",
       "\n",
       "[274 rows x 5 columns]"
      ]
     },
     "execution_count": 8,
     "metadata": {},
     "output_type": "execute_result"
    }
   ],
   "source": [
    "Police_station = police_loc.rename({'X좌표':'경도','Y좌표':'위도'},axis=1)\n",
    "Police_station"
   ]
  },
  {
   "cell_type": "code",
   "execution_count": 9,
   "metadata": {
    "ExecuteTime": {
     "end_time": "2021-05-25T08:39:04.208643Z",
     "start_time": "2021-05-25T08:39:04.196710Z"
    }
   },
   "outputs": [],
   "source": [
    "# !pip install haversine"
   ]
  },
  {
   "cell_type": "markdown",
   "metadata": {},
   "source": [
    "### 학교 500m 내 경찰관서수"
   ]
  },
  {
   "cell_type": "code",
   "execution_count": 11,
   "metadata": {
    "ExecuteTime": {
     "end_time": "2021-05-25T09:50:00.092827Z",
     "start_time": "2021-05-25T09:50:00.001379Z"
    }
   },
   "outputs": [],
   "source": [
    "from tqdm.notebook import tqdm\n",
    "from tqdm import tqdm, tqdm_notebook\n",
    "\n",
    "from haversine import haversine"
   ]
  },
  {
   "cell_type": "code",
   "execution_count": 11,
   "metadata": {
    "ExecuteTime": {
     "end_time": "2021-05-25T08:39:04.313238Z",
     "start_time": "2021-05-25T08:39:04.300272Z"
    }
   },
   "outputs": [],
   "source": [
    "# 경찰관서수 구하는 함수 \n",
    "def close_ps(school, Police_station, column) : \n",
    "    for i in tqdm(range(len(school))) : \n",
    "        distance = [] \n",
    "        for j in range(len(Police_station)) : \n",
    "            schoolloc = tuple(school[['경도','위도']].iloc[i])\n",
    "            Police_stationloc = tuple(Police_station[['경도','위도']].iloc[j])\n",
    "            distance.append(haversine(schoolloc, Police_stationloc, unit = 'm'))\n",
    "            \n",
    "        distance = [d for d in distance if d <= 500] \n",
    "        school[column][i] = len(distance)\n",
    "        \n",
    "    return school"
   ]
  },
  {
   "cell_type": "code",
   "execution_count": 12,
   "metadata": {
    "ExecuteTime": {
     "end_time": "2021-05-25T08:40:54.199227Z",
     "start_time": "2021-05-25T08:39:04.316229Z"
    }
   },
   "outputs": [
    {
     "name": "stderr",
     "output_type": "stream",
     "text": [
      "100%|████████████████████████████████████████████████████████████████████████████████| 320/320 [01:49<00:00,  2.91it/s]\n"
     ]
    }
   ],
   "source": [
    "school[\"500미터내_파출소개수\"] = 0\n",
    "school = close_ps(school, Police_station, \"500미터내_파출소개수\")"
   ]
  },
  {
   "cell_type": "code",
   "execution_count": 13,
   "metadata": {
    "ExecuteTime": {
     "end_time": "2021-05-25T08:40:54.229183Z",
     "start_time": "2021-05-25T08:40:54.201222Z"
    }
   },
   "outputs": [
    {
     "data": {
      "text/html": [
       "<div>\n",
       "<style scoped>\n",
       "    .dataframe tbody tr th:only-of-type {\n",
       "        vertical-align: middle;\n",
       "    }\n",
       "\n",
       "    .dataframe tbody tr th {\n",
       "        vertical-align: top;\n",
       "    }\n",
       "\n",
       "    .dataframe thead th {\n",
       "        text-align: right;\n",
       "    }\n",
       "</style>\n",
       "<table border=\"1\" class=\"dataframe\">\n",
       "  <thead>\n",
       "    <tr style=\"text-align: right;\">\n",
       "      <th></th>\n",
       "      <th>구</th>\n",
       "      <th>학교명</th>\n",
       "      <th>학교코드</th>\n",
       "      <th>내부상담_실시여부</th>\n",
       "      <th>외부상담_실시여부</th>\n",
       "      <th>wee클래스_운영여부</th>\n",
       "      <th>학교폭력_예방교육_평균교육시간(1학급당)</th>\n",
       "      <th>위도</th>\n",
       "      <th>경도</th>\n",
       "      <th>법정동코드</th>\n",
       "    </tr>\n",
       "    <tr>\n",
       "      <th>500미터내_파출소개수</th>\n",
       "      <th></th>\n",
       "      <th></th>\n",
       "      <th></th>\n",
       "      <th></th>\n",
       "      <th></th>\n",
       "      <th></th>\n",
       "      <th></th>\n",
       "      <th></th>\n",
       "      <th></th>\n",
       "      <th></th>\n",
       "    </tr>\n",
       "  </thead>\n",
       "  <tbody>\n",
       "    <tr>\n",
       "      <th>0</th>\n",
       "      <td>165</td>\n",
       "      <td>165</td>\n",
       "      <td>165</td>\n",
       "      <td>165</td>\n",
       "      <td>165</td>\n",
       "      <td>165</td>\n",
       "      <td>165</td>\n",
       "      <td>165</td>\n",
       "      <td>165</td>\n",
       "      <td>165</td>\n",
       "    </tr>\n",
       "    <tr>\n",
       "      <th>1</th>\n",
       "      <td>121</td>\n",
       "      <td>121</td>\n",
       "      <td>121</td>\n",
       "      <td>121</td>\n",
       "      <td>121</td>\n",
       "      <td>121</td>\n",
       "      <td>121</td>\n",
       "      <td>121</td>\n",
       "      <td>121</td>\n",
       "      <td>121</td>\n",
       "    </tr>\n",
       "    <tr>\n",
       "      <th>2</th>\n",
       "      <td>30</td>\n",
       "      <td>30</td>\n",
       "      <td>30</td>\n",
       "      <td>30</td>\n",
       "      <td>30</td>\n",
       "      <td>30</td>\n",
       "      <td>30</td>\n",
       "      <td>30</td>\n",
       "      <td>30</td>\n",
       "      <td>30</td>\n",
       "    </tr>\n",
       "    <tr>\n",
       "      <th>3</th>\n",
       "      <td>4</td>\n",
       "      <td>4</td>\n",
       "      <td>4</td>\n",
       "      <td>4</td>\n",
       "      <td>4</td>\n",
       "      <td>4</td>\n",
       "      <td>4</td>\n",
       "      <td>4</td>\n",
       "      <td>4</td>\n",
       "      <td>4</td>\n",
       "    </tr>\n",
       "  </tbody>\n",
       "</table>\n",
       "</div>"
      ],
      "text/plain": [
       "                구  학교명  학교코드  내부상담_실시여부  외부상담_실시여부  wee클래스_운영여부  \\\n",
       "500미터내_파출소개수                                                      \n",
       "0             165  165   165        165        165          165   \n",
       "1             121  121   121        121        121          121   \n",
       "2              30   30    30         30         30           30   \n",
       "3               4    4     4          4          4            4   \n",
       "\n",
       "              학교폭력_예방교육_평균교육시간(1학급당)   위도   경도  법정동코드  \n",
       "500미터내_파출소개수                                           \n",
       "0                                165  165  165    165  \n",
       "1                                121  121  121    121  \n",
       "2                                 30   30   30     30  \n",
       "3                                  4    4    4      4  "
      ]
     },
     "execution_count": 13,
     "metadata": {},
     "output_type": "execute_result"
    }
   ],
   "source": [
    "school.groupby('500미터내_파출소개수').count()"
   ]
  },
  {
   "cell_type": "code",
   "execution_count": 15,
   "metadata": {
    "ExecuteTime": {
     "end_time": "2021-05-25T08:40:54.288985Z",
     "start_time": "2021-05-25T08:40:54.276019Z"
    }
   },
   "outputs": [],
   "source": [
    "# school.to_csv('경감지수_전처리.csv', index=False)"
   ]
  },
  {
   "cell_type": "markdown",
   "metadata": {},
   "source": [
    "## 구별 CCTV 대수 데이터"
   ]
  },
  {
   "cell_type": "code",
   "execution_count": 5,
   "metadata": {
    "ExecuteTime": {
     "end_time": "2021-05-25T09:49:03.805099Z",
     "start_time": "2021-05-25T09:49:03.763242Z"
    }
   },
   "outputs": [
    {
     "data": {
      "text/html": [
       "<div>\n",
       "<style scoped>\n",
       "    .dataframe tbody tr th:only-of-type {\n",
       "        vertical-align: middle;\n",
       "    }\n",
       "\n",
       "    .dataframe tbody tr th {\n",
       "        vertical-align: top;\n",
       "    }\n",
       "\n",
       "    .dataframe thead th {\n",
       "        text-align: right;\n",
       "    }\n",
       "</style>\n",
       "<table border=\"1\" class=\"dataframe\">\n",
       "  <thead>\n",
       "    <tr style=\"text-align: right;\">\n",
       "      <th></th>\n",
       "      <th>구</th>\n",
       "      <th>학교명</th>\n",
       "      <th>학교코드</th>\n",
       "      <th>내부상담_실시여부</th>\n",
       "      <th>외부상담_실시여부</th>\n",
       "      <th>wee클래스_운영여부</th>\n",
       "      <th>학교폭력_예방교육_평균교육시간(1학급당)</th>\n",
       "      <th>위도</th>\n",
       "      <th>경도</th>\n",
       "      <th>법정동코드</th>\n",
       "      <th>500미터내_파출소개수</th>\n",
       "    </tr>\n",
       "  </thead>\n",
       "  <tbody>\n",
       "    <tr>\n",
       "      <th>0</th>\n",
       "      <td>강남구</td>\n",
       "      <td>개포고등학교</td>\n",
       "      <td>S010000373</td>\n",
       "      <td>1</td>\n",
       "      <td>1</td>\n",
       "      <td>1</td>\n",
       "      <td>382.4</td>\n",
       "      <td>37.484959</td>\n",
       "      <td>127.059405</td>\n",
       "      <td>1168010300</td>\n",
       "      <td>0</td>\n",
       "    </tr>\n",
       "    <tr>\n",
       "      <th>1</th>\n",
       "      <td>강남구</td>\n",
       "      <td>경기고등학교</td>\n",
       "      <td>S010000375</td>\n",
       "      <td>1</td>\n",
       "      <td>0</td>\n",
       "      <td>1</td>\n",
       "      <td>152.4</td>\n",
       "      <td>37.517566</td>\n",
       "      <td>127.056074</td>\n",
       "      <td>1168010500</td>\n",
       "      <td>1</td>\n",
       "    </tr>\n",
       "    <tr>\n",
       "      <th>2</th>\n",
       "      <td>강남구</td>\n",
       "      <td>경기여자고등학교</td>\n",
       "      <td>S010000376</td>\n",
       "      <td>1</td>\n",
       "      <td>1</td>\n",
       "      <td>1</td>\n",
       "      <td>200.0</td>\n",
       "      <td>37.486887</td>\n",
       "      <td>127.065567</td>\n",
       "      <td>1168010300</td>\n",
       "      <td>0</td>\n",
       "    </tr>\n",
       "    <tr>\n",
       "      <th>3</th>\n",
       "      <td>강남구</td>\n",
       "      <td>국립국악고등학교</td>\n",
       "      <td>S000003540</td>\n",
       "      <td>0</td>\n",
       "      <td>0</td>\n",
       "      <td>0</td>\n",
       "      <td>217.4</td>\n",
       "      <td>37.476230</td>\n",
       "      <td>127.051476</td>\n",
       "      <td>1168010300</td>\n",
       "      <td>1</td>\n",
       "    </tr>\n",
       "    <tr>\n",
       "      <th>4</th>\n",
       "      <td>강남구</td>\n",
       "      <td>단국대학교부속소프트웨어고등학교</td>\n",
       "      <td>S010000581</td>\n",
       "      <td>0</td>\n",
       "      <td>1</td>\n",
       "      <td>0</td>\n",
       "      <td>300.0</td>\n",
       "      <td>37.495617</td>\n",
       "      <td>127.057767</td>\n",
       "      <td>1168010600</td>\n",
       "      <td>0</td>\n",
       "    </tr>\n",
       "    <tr>\n",
       "      <th>...</th>\n",
       "      <td>...</td>\n",
       "      <td>...</td>\n",
       "      <td>...</td>\n",
       "      <td>...</td>\n",
       "      <td>...</td>\n",
       "      <td>...</td>\n",
       "      <td>...</td>\n",
       "      <td>...</td>\n",
       "      <td>...</td>\n",
       "      <td>...</td>\n",
       "      <td>...</td>\n",
       "    </tr>\n",
       "    <tr>\n",
       "      <th>315</th>\n",
       "      <td>성동구</td>\n",
       "      <td>무학여자고등학교</td>\n",
       "      <td>S010000436</td>\n",
       "      <td>1</td>\n",
       "      <td>1</td>\n",
       "      <td>1</td>\n",
       "      <td>253.3</td>\n",
       "      <td>37.556768</td>\n",
       "      <td>127.033599</td>\n",
       "      <td>1120010700</td>\n",
       "      <td>1</td>\n",
       "    </tr>\n",
       "    <tr>\n",
       "      <th>316</th>\n",
       "      <td>성동구</td>\n",
       "      <td>서울방송고등학교</td>\n",
       "      <td>S010000585</td>\n",
       "      <td>1</td>\n",
       "      <td>1</td>\n",
       "      <td>1</td>\n",
       "      <td>87.6</td>\n",
       "      <td>37.547773</td>\n",
       "      <td>127.011036</td>\n",
       "      <td>1120011300</td>\n",
       "      <td>1</td>\n",
       "    </tr>\n",
       "    <tr>\n",
       "      <th>317</th>\n",
       "      <td>성동구</td>\n",
       "      <td>성수고등학교</td>\n",
       "      <td>S010005523</td>\n",
       "      <td>1</td>\n",
       "      <td>1</td>\n",
       "      <td>1</td>\n",
       "      <td>406.6</td>\n",
       "      <td>37.547342</td>\n",
       "      <td>127.038253</td>\n",
       "      <td>1120011400</td>\n",
       "      <td>0</td>\n",
       "    </tr>\n",
       "    <tr>\n",
       "      <th>318</th>\n",
       "      <td>성동구</td>\n",
       "      <td>성수공업고등학교</td>\n",
       "      <td>S010000592</td>\n",
       "      <td>1</td>\n",
       "      <td>0</td>\n",
       "      <td>1</td>\n",
       "      <td>306.5</td>\n",
       "      <td>37.540540</td>\n",
       "      <td>127.051298</td>\n",
       "      <td>1120011500</td>\n",
       "      <td>1</td>\n",
       "    </tr>\n",
       "    <tr>\n",
       "      <th>319</th>\n",
       "      <td>성동구</td>\n",
       "      <td>한양대학교사범대학부속고등학교</td>\n",
       "      <td>S010000557</td>\n",
       "      <td>1</td>\n",
       "      <td>1</td>\n",
       "      <td>1</td>\n",
       "      <td>137.0</td>\n",
       "      <td>37.561919</td>\n",
       "      <td>127.042326</td>\n",
       "      <td>1120010600</td>\n",
       "      <td>1</td>\n",
       "    </tr>\n",
       "  </tbody>\n",
       "</table>\n",
       "<p>320 rows × 11 columns</p>\n",
       "</div>"
      ],
      "text/plain": [
       "       구               학교명        학교코드  내부상담_실시여부  외부상담_실시여부  wee클래스_운영여부  \\\n",
       "0    강남구            개포고등학교  S010000373          1          1            1   \n",
       "1    강남구            경기고등학교  S010000375          1          0            1   \n",
       "2    강남구          경기여자고등학교  S010000376          1          1            1   \n",
       "3    강남구          국립국악고등학교  S000003540          0          0            0   \n",
       "4    강남구  단국대학교부속소프트웨어고등학교  S010000581          0          1            0   \n",
       "..   ...               ...         ...        ...        ...          ...   \n",
       "315  성동구          무학여자고등학교  S010000436          1          1            1   \n",
       "316  성동구          서울방송고등학교  S010000585          1          1            1   \n",
       "317  성동구            성수고등학교  S010005523          1          1            1   \n",
       "318  성동구          성수공업고등학교  S010000592          1          0            1   \n",
       "319  성동구   한양대학교사범대학부속고등학교  S010000557          1          1            1   \n",
       "\n",
       "     학교폭력_예방교육_평균교육시간(1학급당)         위도          경도       법정동코드  500미터내_파출소개수  \n",
       "0                     382.4  37.484959  127.059405  1168010300             0  \n",
       "1                     152.4  37.517566  127.056074  1168010500             1  \n",
       "2                     200.0  37.486887  127.065567  1168010300             0  \n",
       "3                     217.4  37.476230  127.051476  1168010300             1  \n",
       "4                     300.0  37.495617  127.057767  1168010600             0  \n",
       "..                      ...        ...         ...         ...           ...  \n",
       "315                   253.3  37.556768  127.033599  1120010700             1  \n",
       "316                    87.6  37.547773  127.011036  1120011300             1  \n",
       "317                   406.6  37.547342  127.038253  1120011400             0  \n",
       "318                   306.5  37.540540  127.051298  1120011500             1  \n",
       "319                   137.0  37.561919  127.042326  1120010600             1  \n",
       "\n",
       "[320 rows x 11 columns]"
      ]
     },
     "execution_count": 5,
     "metadata": {},
     "output_type": "execute_result"
    }
   ],
   "source": [
    "school = pd.read_csv('경감지수_전처리.csv')\n",
    "school"
   ]
  },
  {
   "cell_type": "code",
   "execution_count": 6,
   "metadata": {
    "ExecuteTime": {
     "end_time": "2021-05-25T09:49:07.762606Z",
     "start_time": "2021-05-25T09:49:07.706754Z"
    }
   },
   "outputs": [
    {
     "data": {
      "text/html": [
       "<div>\n",
       "<style scoped>\n",
       "    .dataframe tbody tr th:only-of-type {\n",
       "        vertical-align: middle;\n",
       "    }\n",
       "\n",
       "    .dataframe tbody tr th {\n",
       "        vertical-align: top;\n",
       "    }\n",
       "\n",
       "    .dataframe thead th {\n",
       "        text-align: right;\n",
       "    }\n",
       "</style>\n",
       "<table border=\"1\" class=\"dataframe\">\n",
       "  <thead>\n",
       "    <tr style=\"text-align: right;\">\n",
       "      <th></th>\n",
       "      <th>자치구</th>\n",
       "      <th>CCTV 용도</th>\n",
       "      <th>위도</th>\n",
       "      <th>경도</th>\n",
       "      <th>CCTV 수량</th>\n",
       "    </tr>\n",
       "  </thead>\n",
       "  <tbody>\n",
       "    <tr>\n",
       "      <th>0</th>\n",
       "      <td>중랑구</td>\n",
       "      <td>방범</td>\n",
       "      <td>37.580608</td>\n",
       "      <td>127.083908</td>\n",
       "      <td>2</td>\n",
       "    </tr>\n",
       "    <tr>\n",
       "      <th>1</th>\n",
       "      <td>중랑구</td>\n",
       "      <td>방범</td>\n",
       "      <td>37.588905</td>\n",
       "      <td>127.097982</td>\n",
       "      <td>2</td>\n",
       "    </tr>\n",
       "    <tr>\n",
       "      <th>2</th>\n",
       "      <td>중랑구</td>\n",
       "      <td>방범</td>\n",
       "      <td>37.581651</td>\n",
       "      <td>127.089158</td>\n",
       "      <td>2</td>\n",
       "    </tr>\n",
       "    <tr>\n",
       "      <th>3</th>\n",
       "      <td>중랑구</td>\n",
       "      <td>방범</td>\n",
       "      <td>37.599900</td>\n",
       "      <td>127.090018</td>\n",
       "      <td>2</td>\n",
       "    </tr>\n",
       "    <tr>\n",
       "      <th>4</th>\n",
       "      <td>중랑구</td>\n",
       "      <td>방범</td>\n",
       "      <td>37.593811</td>\n",
       "      <td>127.092786</td>\n",
       "      <td>2</td>\n",
       "    </tr>\n",
       "    <tr>\n",
       "      <th>...</th>\n",
       "      <td>...</td>\n",
       "      <td>...</td>\n",
       "      <td>...</td>\n",
       "      <td>...</td>\n",
       "      <td>...</td>\n",
       "    </tr>\n",
       "    <tr>\n",
       "      <th>29513</th>\n",
       "      <td>강남구</td>\n",
       "      <td>방범</td>\n",
       "      <td>37.519440</td>\n",
       "      <td>127.038720</td>\n",
       "      <td>4</td>\n",
       "    </tr>\n",
       "    <tr>\n",
       "      <th>29514</th>\n",
       "      <td>강남구</td>\n",
       "      <td>방범</td>\n",
       "      <td>37.530720</td>\n",
       "      <td>127.031450</td>\n",
       "      <td>4</td>\n",
       "    </tr>\n",
       "    <tr>\n",
       "      <th>29515</th>\n",
       "      <td>강남구</td>\n",
       "      <td>방범</td>\n",
       "      <td>37.494170</td>\n",
       "      <td>127.063010</td>\n",
       "      <td>3</td>\n",
       "    </tr>\n",
       "    <tr>\n",
       "      <th>29516</th>\n",
       "      <td>강남구</td>\n",
       "      <td>방범</td>\n",
       "      <td>37.530148</td>\n",
       "      <td>127.023759</td>\n",
       "      <td>3</td>\n",
       "    </tr>\n",
       "    <tr>\n",
       "      <th>29517</th>\n",
       "      <td>강남구</td>\n",
       "      <td>방범</td>\n",
       "      <td>37.509550</td>\n",
       "      <td>127.053830</td>\n",
       "      <td>4</td>\n",
       "    </tr>\n",
       "  </tbody>\n",
       "</table>\n",
       "<p>29518 rows × 5 columns</p>\n",
       "</div>"
      ],
      "text/plain": [
       "       자치구 CCTV 용도         위도          경도  CCTV 수량\n",
       "0      중랑구      방범  37.580608  127.083908        2\n",
       "1      중랑구      방범  37.588905  127.097982        2\n",
       "2      중랑구      방범  37.581651  127.089158        2\n",
       "3      중랑구      방범  37.599900  127.090018        2\n",
       "4      중랑구      방범  37.593811  127.092786        2\n",
       "...    ...     ...        ...         ...      ...\n",
       "29513  강남구      방범  37.519440  127.038720        4\n",
       "29514  강남구      방범  37.530720  127.031450        4\n",
       "29515  강남구      방범  37.494170  127.063010        3\n",
       "29516  강남구      방범  37.530148  127.023759        3\n",
       "29517  강남구      방범  37.509550  127.053830        4\n",
       "\n",
       "[29518 rows x 5 columns]"
      ]
     },
     "execution_count": 6,
     "metadata": {},
     "output_type": "execute_result"
    }
   ],
   "source": [
    "CCTV = pd.read_csv('서울시CCTV_방범.csv',encoding='cp949', thousands = ',')\n",
    "CCTV"
   ]
  },
  {
   "cell_type": "code",
   "execution_count": 7,
   "metadata": {
    "ExecuteTime": {
     "end_time": "2021-05-25T09:49:11.386376Z",
     "start_time": "2021-05-25T09:49:11.377399Z"
    }
   },
   "outputs": [],
   "source": [
    "CCTV = CCTV.iloc[:,:-1]"
   ]
  },
  {
   "cell_type": "code",
   "execution_count": 8,
   "metadata": {
    "ExecuteTime": {
     "end_time": "2021-05-25T09:49:12.233412Z",
     "start_time": "2021-05-25T09:49:12.206433Z"
    }
   },
   "outputs": [
    {
     "name": "stdout",
     "output_type": "stream",
     "text": [
      "<class 'pandas.core.frame.DataFrame'>\n",
      "RangeIndex: 29518 entries, 0 to 29517\n",
      "Data columns (total 4 columns):\n",
      " #   Column   Non-Null Count  Dtype  \n",
      "---  ------   --------------  -----  \n",
      " 0   자치구      29518 non-null  object \n",
      " 1   CCTV 용도  29518 non-null  object \n",
      " 2   위도       29518 non-null  float64\n",
      " 3   경도       29518 non-null  float64\n",
      "dtypes: float64(2), object(2)\n",
      "memory usage: 922.6+ KB\n"
     ]
    }
   ],
   "source": [
    "CCTV.info()"
   ]
  },
  {
   "cell_type": "code",
   "execution_count": 12,
   "metadata": {
    "ExecuteTime": {
     "end_time": "2021-05-25T09:50:05.455295Z",
     "start_time": "2021-05-25T09:50:05.445321Z"
    }
   },
   "outputs": [],
   "source": [
    "# cctv대수 구하는 함수 \n",
    "def close_CCTV(school, CCTV, column) : \n",
    "    for i in tqdm(range(len(school))) : \n",
    "        distance = [] \n",
    "        for j in range(len(CCTV)) : \n",
    "            schoolloc = tuple(school[['경도','위도']].iloc[i])\n",
    "            CCTVloc = tuple(CCTV[['경도','위도']].iloc[j])\n",
    "            distance.append(haversine(schoolloc, CCTVloc, unit = 'm'))\n",
    "            \n",
    "        distance = [d for d in distance if d <= 500] \n",
    "        school[column][i] = len(distance)\n",
    "        \n",
    "    return school"
   ]
  },
  {
   "cell_type": "code",
   "execution_count": null,
   "metadata": {
    "ExecuteTime": {
     "start_time": "2021-05-25T09:50:06.503Z"
    }
   },
   "outputs": [
    {
     "name": "stderr",
     "output_type": "stream",
     "text": [
      " 25%|███████████████████▊                                                           | 80/320 [49:52<2:33:10, 38.29s/it]"
     ]
    }
   ],
   "source": [
    "school[\"500미터내_CCTV개수\"] = 0\n",
    "school = close_CCTV(school, CCTV, \"500미터내_CCTV개수\")"
   ]
  },
  {
   "cell_type": "code",
   "execution_count": null,
   "metadata": {},
   "outputs": [],
   "source": [
    "school.to_csv('임시저장.csv',index=False)"
   ]
  },
  {
   "cell_type": "code",
   "execution_count": 20,
   "metadata": {
    "ExecuteTime": {
     "end_time": "2021-05-25T08:40:54.438586Z",
     "start_time": "2021-05-25T08:40:54.410660Z"
    }
   },
   "outputs": [
    {
     "data": {
      "text/html": [
       "<div>\n",
       "<style scoped>\n",
       "    .dataframe tbody tr th:only-of-type {\n",
       "        vertical-align: middle;\n",
       "    }\n",
       "\n",
       "    .dataframe tbody tr th {\n",
       "        vertical-align: top;\n",
       "    }\n",
       "\n",
       "    .dataframe thead th {\n",
       "        text-align: right;\n",
       "    }\n",
       "</style>\n",
       "<table border=\"1\" class=\"dataframe\">\n",
       "  <thead>\n",
       "    <tr style=\"text-align: right;\">\n",
       "      <th></th>\n",
       "      <th>구</th>\n",
       "      <th>학교명</th>\n",
       "      <th>학교코드</th>\n",
       "      <th>내부상담_실시여부</th>\n",
       "      <th>외부상담_실시여부</th>\n",
       "      <th>wee클래스_운영여부</th>\n",
       "      <th>학교폭력_예방교육_평균교육시간(1학급당)</th>\n",
       "      <th>위도</th>\n",
       "      <th>경도</th>\n",
       "      <th>법정동코드</th>\n",
       "      <th>500미터내_파출소개수</th>\n",
       "      <th>방범용CCTV</th>\n",
       "      <th>어린이보호구역CCTV</th>\n",
       "    </tr>\n",
       "  </thead>\n",
       "  <tbody>\n",
       "    <tr>\n",
       "      <th>0</th>\n",
       "      <td>강남구</td>\n",
       "      <td>개포고등학교</td>\n",
       "      <td>S010000373</td>\n",
       "      <td>1</td>\n",
       "      <td>1</td>\n",
       "      <td>1</td>\n",
       "      <td>382.4</td>\n",
       "      <td>37.484959</td>\n",
       "      <td>127.059405</td>\n",
       "      <td>1168010300</td>\n",
       "      <td>0</td>\n",
       "      <td>4525</td>\n",
       "      <td>0</td>\n",
       "    </tr>\n",
       "    <tr>\n",
       "      <th>1</th>\n",
       "      <td>강남구</td>\n",
       "      <td>경기고등학교</td>\n",
       "      <td>S010000375</td>\n",
       "      <td>1</td>\n",
       "      <td>0</td>\n",
       "      <td>1</td>\n",
       "      <td>152.4</td>\n",
       "      <td>37.517566</td>\n",
       "      <td>127.056074</td>\n",
       "      <td>1168010500</td>\n",
       "      <td>1</td>\n",
       "      <td>4525</td>\n",
       "      <td>0</td>\n",
       "    </tr>\n",
       "    <tr>\n",
       "      <th>2</th>\n",
       "      <td>강남구</td>\n",
       "      <td>경기여자고등학교</td>\n",
       "      <td>S010000376</td>\n",
       "      <td>1</td>\n",
       "      <td>1</td>\n",
       "      <td>1</td>\n",
       "      <td>200.0</td>\n",
       "      <td>37.486887</td>\n",
       "      <td>127.065567</td>\n",
       "      <td>1168010300</td>\n",
       "      <td>0</td>\n",
       "      <td>4525</td>\n",
       "      <td>0</td>\n",
       "    </tr>\n",
       "    <tr>\n",
       "      <th>3</th>\n",
       "      <td>강남구</td>\n",
       "      <td>국립국악고등학교</td>\n",
       "      <td>S000003540</td>\n",
       "      <td>0</td>\n",
       "      <td>0</td>\n",
       "      <td>0</td>\n",
       "      <td>217.4</td>\n",
       "      <td>37.476230</td>\n",
       "      <td>127.051476</td>\n",
       "      <td>1168010300</td>\n",
       "      <td>1</td>\n",
       "      <td>4525</td>\n",
       "      <td>0</td>\n",
       "    </tr>\n",
       "    <tr>\n",
       "      <th>4</th>\n",
       "      <td>강남구</td>\n",
       "      <td>단국대학교부속소프트웨어고등학교</td>\n",
       "      <td>S010000581</td>\n",
       "      <td>0</td>\n",
       "      <td>1</td>\n",
       "      <td>0</td>\n",
       "      <td>300.0</td>\n",
       "      <td>37.495617</td>\n",
       "      <td>127.057767</td>\n",
       "      <td>1168010600</td>\n",
       "      <td>0</td>\n",
       "      <td>4525</td>\n",
       "      <td>0</td>\n",
       "    </tr>\n",
       "  </tbody>\n",
       "</table>\n",
       "</div>"
      ],
      "text/plain": [
       "     구               학교명        학교코드  내부상담_실시여부  외부상담_실시여부  wee클래스_운영여부  \\\n",
       "0  강남구            개포고등학교  S010000373          1          1            1   \n",
       "1  강남구            경기고등학교  S010000375          1          0            1   \n",
       "2  강남구          경기여자고등학교  S010000376          1          1            1   \n",
       "3  강남구          국립국악고등학교  S000003540          0          0            0   \n",
       "4  강남구  단국대학교부속소프트웨어고등학교  S010000581          0          1            0   \n",
       "\n",
       "   학교폭력_예방교육_평균교육시간(1학급당)         위도          경도       법정동코드  500미터내_파출소개수  \\\n",
       "0                   382.4  37.484959  127.059405  1168010300             0   \n",
       "1                   152.4  37.517566  127.056074  1168010500             1   \n",
       "2                   200.0  37.486887  127.065567  1168010300             0   \n",
       "3                   217.4  37.476230  127.051476  1168010300             1   \n",
       "4                   300.0  37.495617  127.057767  1168010600             0   \n",
       "\n",
       "   방범용CCTV  어린이보호구역CCTV  \n",
       "0     4525            0  \n",
       "1     4525            0  \n",
       "2     4525            0  \n",
       "3     4525            0  \n",
       "4     4525            0  "
      ]
     },
     "execution_count": 20,
     "metadata": {},
     "output_type": "execute_result"
    }
   ],
   "source": [
    "data_reduce = pd.merge(school,CCTV,on='구',how='left')\n",
    "data_reduce.head()"
   ]
  },
  {
   "cell_type": "code",
   "execution_count": 21,
   "metadata": {
    "ExecuteTime": {
     "end_time": "2021-05-25T08:40:54.468516Z",
     "start_time": "2021-05-25T08:40:54.440579Z"
    }
   },
   "outputs": [
    {
     "data": {
      "text/html": [
       "<div>\n",
       "<style scoped>\n",
       "    .dataframe tbody tr th:only-of-type {\n",
       "        vertical-align: middle;\n",
       "    }\n",
       "\n",
       "    .dataframe tbody tr th {\n",
       "        vertical-align: top;\n",
       "    }\n",
       "\n",
       "    .dataframe thead th {\n",
       "        text-align: right;\n",
       "    }\n",
       "</style>\n",
       "<table border=\"1\" class=\"dataframe\">\n",
       "  <thead>\n",
       "    <tr style=\"text-align: right;\">\n",
       "      <th></th>\n",
       "      <th>구</th>\n",
       "      <th>학교명</th>\n",
       "      <th>학교코드</th>\n",
       "      <th>내부상담_실시여부</th>\n",
       "      <th>외부상담_실시여부</th>\n",
       "      <th>wee클래스_운영여부</th>\n",
       "      <th>학교폭력_예방교육_평균교육시간(1학급당)</th>\n",
       "      <th>위도</th>\n",
       "      <th>경도</th>\n",
       "      <th>법정동코드</th>\n",
       "      <th>500미터내_파출소개수</th>\n",
       "      <th>방범용CCTV</th>\n",
       "      <th>어린이보호구역CCTV</th>\n",
       "    </tr>\n",
       "  </thead>\n",
       "  <tbody>\n",
       "    <tr>\n",
       "      <th>0</th>\n",
       "      <td>강남구</td>\n",
       "      <td>개포고등학교</td>\n",
       "      <td>S010000373</td>\n",
       "      <td>1</td>\n",
       "      <td>1</td>\n",
       "      <td>1</td>\n",
       "      <td>382.4</td>\n",
       "      <td>37.484959</td>\n",
       "      <td>127.059405</td>\n",
       "      <td>1168010300</td>\n",
       "      <td>0</td>\n",
       "      <td>4525</td>\n",
       "      <td>0</td>\n",
       "    </tr>\n",
       "    <tr>\n",
       "      <th>1</th>\n",
       "      <td>강남구</td>\n",
       "      <td>경기고등학교</td>\n",
       "      <td>S010000375</td>\n",
       "      <td>1</td>\n",
       "      <td>0</td>\n",
       "      <td>1</td>\n",
       "      <td>152.4</td>\n",
       "      <td>37.517566</td>\n",
       "      <td>127.056074</td>\n",
       "      <td>1168010500</td>\n",
       "      <td>1</td>\n",
       "      <td>4525</td>\n",
       "      <td>0</td>\n",
       "    </tr>\n",
       "    <tr>\n",
       "      <th>2</th>\n",
       "      <td>강남구</td>\n",
       "      <td>경기여자고등학교</td>\n",
       "      <td>S010000376</td>\n",
       "      <td>1</td>\n",
       "      <td>1</td>\n",
       "      <td>1</td>\n",
       "      <td>200.0</td>\n",
       "      <td>37.486887</td>\n",
       "      <td>127.065567</td>\n",
       "      <td>1168010300</td>\n",
       "      <td>0</td>\n",
       "      <td>4525</td>\n",
       "      <td>0</td>\n",
       "    </tr>\n",
       "    <tr>\n",
       "      <th>3</th>\n",
       "      <td>강남구</td>\n",
       "      <td>국립국악고등학교</td>\n",
       "      <td>S000003540</td>\n",
       "      <td>0</td>\n",
       "      <td>0</td>\n",
       "      <td>0</td>\n",
       "      <td>217.4</td>\n",
       "      <td>37.476230</td>\n",
       "      <td>127.051476</td>\n",
       "      <td>1168010300</td>\n",
       "      <td>1</td>\n",
       "      <td>4525</td>\n",
       "      <td>0</td>\n",
       "    </tr>\n",
       "    <tr>\n",
       "      <th>4</th>\n",
       "      <td>강남구</td>\n",
       "      <td>단국대학교부속소프트웨어고등학교</td>\n",
       "      <td>S010000581</td>\n",
       "      <td>0</td>\n",
       "      <td>1</td>\n",
       "      <td>0</td>\n",
       "      <td>300.0</td>\n",
       "      <td>37.495617</td>\n",
       "      <td>127.057767</td>\n",
       "      <td>1168010600</td>\n",
       "      <td>0</td>\n",
       "      <td>4525</td>\n",
       "      <td>0</td>\n",
       "    </tr>\n",
       "    <tr>\n",
       "      <th>...</th>\n",
       "      <td>...</td>\n",
       "      <td>...</td>\n",
       "      <td>...</td>\n",
       "      <td>...</td>\n",
       "      <td>...</td>\n",
       "      <td>...</td>\n",
       "      <td>...</td>\n",
       "      <td>...</td>\n",
       "      <td>...</td>\n",
       "      <td>...</td>\n",
       "      <td>...</td>\n",
       "      <td>...</td>\n",
       "      <td>...</td>\n",
       "    </tr>\n",
       "    <tr>\n",
       "      <th>315</th>\n",
       "      <td>성동구</td>\n",
       "      <td>무학여자고등학교</td>\n",
       "      <td>S010000436</td>\n",
       "      <td>1</td>\n",
       "      <td>1</td>\n",
       "      <td>1</td>\n",
       "      <td>253.3</td>\n",
       "      <td>37.556768</td>\n",
       "      <td>127.033599</td>\n",
       "      <td>1120010700</td>\n",
       "      <td>1</td>\n",
       "      <td>2834</td>\n",
       "      <td>151</td>\n",
       "    </tr>\n",
       "    <tr>\n",
       "      <th>316</th>\n",
       "      <td>성동구</td>\n",
       "      <td>서울방송고등학교</td>\n",
       "      <td>S010000585</td>\n",
       "      <td>1</td>\n",
       "      <td>1</td>\n",
       "      <td>1</td>\n",
       "      <td>87.6</td>\n",
       "      <td>37.547773</td>\n",
       "      <td>127.011036</td>\n",
       "      <td>1120011300</td>\n",
       "      <td>1</td>\n",
       "      <td>2834</td>\n",
       "      <td>151</td>\n",
       "    </tr>\n",
       "    <tr>\n",
       "      <th>317</th>\n",
       "      <td>성동구</td>\n",
       "      <td>성수고등학교</td>\n",
       "      <td>S010005523</td>\n",
       "      <td>1</td>\n",
       "      <td>1</td>\n",
       "      <td>1</td>\n",
       "      <td>406.6</td>\n",
       "      <td>37.547342</td>\n",
       "      <td>127.038253</td>\n",
       "      <td>1120011400</td>\n",
       "      <td>0</td>\n",
       "      <td>2834</td>\n",
       "      <td>151</td>\n",
       "    </tr>\n",
       "    <tr>\n",
       "      <th>318</th>\n",
       "      <td>성동구</td>\n",
       "      <td>성수공업고등학교</td>\n",
       "      <td>S010000592</td>\n",
       "      <td>1</td>\n",
       "      <td>0</td>\n",
       "      <td>1</td>\n",
       "      <td>306.5</td>\n",
       "      <td>37.540540</td>\n",
       "      <td>127.051298</td>\n",
       "      <td>1120011500</td>\n",
       "      <td>1</td>\n",
       "      <td>2834</td>\n",
       "      <td>151</td>\n",
       "    </tr>\n",
       "    <tr>\n",
       "      <th>319</th>\n",
       "      <td>성동구</td>\n",
       "      <td>한양대학교사범대학부속고등학교</td>\n",
       "      <td>S010000557</td>\n",
       "      <td>1</td>\n",
       "      <td>1</td>\n",
       "      <td>1</td>\n",
       "      <td>137.0</td>\n",
       "      <td>37.561919</td>\n",
       "      <td>127.042326</td>\n",
       "      <td>1120010600</td>\n",
       "      <td>1</td>\n",
       "      <td>2834</td>\n",
       "      <td>151</td>\n",
       "    </tr>\n",
       "  </tbody>\n",
       "</table>\n",
       "<p>320 rows × 13 columns</p>\n",
       "</div>"
      ],
      "text/plain": [
       "       구               학교명        학교코드  내부상담_실시여부  외부상담_실시여부  wee클래스_운영여부  \\\n",
       "0    강남구            개포고등학교  S010000373          1          1            1   \n",
       "1    강남구            경기고등학교  S010000375          1          0            1   \n",
       "2    강남구          경기여자고등학교  S010000376          1          1            1   \n",
       "3    강남구          국립국악고등학교  S000003540          0          0            0   \n",
       "4    강남구  단국대학교부속소프트웨어고등학교  S010000581          0          1            0   \n",
       "..   ...               ...         ...        ...        ...          ...   \n",
       "315  성동구          무학여자고등학교  S010000436          1          1            1   \n",
       "316  성동구          서울방송고등학교  S010000585          1          1            1   \n",
       "317  성동구            성수고등학교  S010005523          1          1            1   \n",
       "318  성동구          성수공업고등학교  S010000592          1          0            1   \n",
       "319  성동구   한양대학교사범대학부속고등학교  S010000557          1          1            1   \n",
       "\n",
       "     학교폭력_예방교육_평균교육시간(1학급당)         위도          경도       법정동코드  500미터내_파출소개수  \\\n",
       "0                     382.4  37.484959  127.059405  1168010300             0   \n",
       "1                     152.4  37.517566  127.056074  1168010500             1   \n",
       "2                     200.0  37.486887  127.065567  1168010300             0   \n",
       "3                     217.4  37.476230  127.051476  1168010300             1   \n",
       "4                     300.0  37.495617  127.057767  1168010600             0   \n",
       "..                      ...        ...         ...         ...           ...   \n",
       "315                   253.3  37.556768  127.033599  1120010700             1   \n",
       "316                    87.6  37.547773  127.011036  1120011300             1   \n",
       "317                   406.6  37.547342  127.038253  1120011400             0   \n",
       "318                   306.5  37.540540  127.051298  1120011500             1   \n",
       "319                   137.0  37.561919  127.042326  1120010600             1   \n",
       "\n",
       "     방범용CCTV  어린이보호구역CCTV  \n",
       "0       4525            0  \n",
       "1       4525            0  \n",
       "2       4525            0  \n",
       "3       4525            0  \n",
       "4       4525            0  \n",
       "..       ...          ...  \n",
       "315     2834          151  \n",
       "316     2834          151  \n",
       "317     2834          151  \n",
       "318     2834          151  \n",
       "319     2834          151  \n",
       "\n",
       "[320 rows x 13 columns]"
      ]
     },
     "execution_count": 21,
     "metadata": {},
     "output_type": "execute_result"
    }
   ],
   "source": [
    "data_reduce"
   ]
  },
  {
   "cell_type": "code",
   "execution_count": 22,
   "metadata": {
    "ExecuteTime": {
     "end_time": "2021-05-25T08:40:54.499422Z",
     "start_time": "2021-05-25T08:40:54.473493Z"
    }
   },
   "outputs": [
    {
     "data": {
      "text/plain": [
       "구                         0\n",
       "학교명                       0\n",
       "학교코드                      0\n",
       "내부상담_실시여부                 0\n",
       "외부상담_실시여부                 0\n",
       "wee클래스_운영여부               0\n",
       "학교폭력_예방교육_평균교육시간(1학급당)    0\n",
       "위도                        0\n",
       "경도                        0\n",
       "법정동코드                     0\n",
       "500미터내_파출소개수              0\n",
       "방범용CCTV                   0\n",
       "어린이보호구역CCTV               0\n",
       "dtype: int64"
      ]
     },
     "execution_count": 22,
     "metadata": {},
     "output_type": "execute_result"
    }
   ],
   "source": [
    "data_reduce.isnull().sum()"
   ]
  },
  {
   "cell_type": "code",
   "execution_count": 23,
   "metadata": {
    "ExecuteTime": {
     "end_time": "2021-05-25T08:40:54.530339Z",
     "start_time": "2021-05-25T08:40:54.505407Z"
    }
   },
   "outputs": [
    {
     "data": {
      "text/html": [
       "<div>\n",
       "<style scoped>\n",
       "    .dataframe tbody tr th:only-of-type {\n",
       "        vertical-align: middle;\n",
       "    }\n",
       "\n",
       "    .dataframe tbody tr th {\n",
       "        vertical-align: top;\n",
       "    }\n",
       "\n",
       "    .dataframe thead th {\n",
       "        text-align: right;\n",
       "    }\n",
       "</style>\n",
       "<table border=\"1\" class=\"dataframe\">\n",
       "  <thead>\n",
       "    <tr style=\"text-align: right;\">\n",
       "      <th></th>\n",
       "      <th>구</th>\n",
       "      <th>학교명</th>\n",
       "      <th>학교코드</th>\n",
       "      <th>내부상담_실시여부</th>\n",
       "      <th>외부상담_실시여부</th>\n",
       "      <th>wee클래스_운영여부</th>\n",
       "      <th>학교폭력_예방교육_평균교육시간(1학급당)</th>\n",
       "      <th>위도</th>\n",
       "      <th>경도</th>\n",
       "      <th>법정동코드</th>\n",
       "      <th>500미터내_파출소개수</th>\n",
       "      <th>방범용CCTV</th>\n",
       "      <th>어린이보호구역CCTV</th>\n",
       "    </tr>\n",
       "  </thead>\n",
       "  <tbody>\n",
       "  </tbody>\n",
       "</table>\n",
       "</div>"
      ],
      "text/plain": [
       "Empty DataFrame\n",
       "Columns: [구, 학교명, 학교코드, 내부상담_실시여부, 외부상담_실시여부, wee클래스_운영여부, 학교폭력_예방교육_평균교육시간(1학급당), 위도, 경도, 법정동코드, 500미터내_파출소개수, 방범용CCTV, 어린이보호구역CCTV]\n",
       "Index: []"
      ]
     },
     "execution_count": 23,
     "metadata": {},
     "output_type": "execute_result"
    }
   ],
   "source": [
    "a=data_reduce[data_reduce['방범용CCTV'].isnull()].index\n",
    "data_reduce.iloc[a]"
   ]
  },
  {
   "cell_type": "code",
   "execution_count": 24,
   "metadata": {
    "ExecuteTime": {
     "end_time": "2021-05-25T08:40:54.560259Z",
     "start_time": "2021-05-25T08:40:54.535326Z"
    }
   },
   "outputs": [],
   "source": [
    "data_reduce.to_csv('경감지수_전처리2.csv', index=False)"
   ]
  }
 ],
 "metadata": {
  "kernelspec": {
   "display_name": "Python 3",
   "language": "python",
   "name": "python3"
  },
  "language_info": {
   "codemirror_mode": {
    "name": "ipython",
    "version": 3
   },
   "file_extension": ".py",
   "mimetype": "text/x-python",
   "name": "python",
   "nbconvert_exporter": "python",
   "pygments_lexer": "ipython3",
   "version": "3.7.6"
  },
  "toc": {
   "base_numbering": 1,
   "nav_menu": {},
   "number_sections": true,
   "sideBar": true,
   "skip_h1_title": false,
   "title_cell": "Table of Contents",
   "title_sidebar": "Contents",
   "toc_cell": false,
   "toc_position": {
    "height": "calc(100% - 180px)",
    "left": "10px",
    "top": "150px",
    "width": "409.6px"
   },
   "toc_section_display": true,
   "toc_window_display": true
  }
 },
 "nbformat": 4,
 "nbformat_minor": 2
}

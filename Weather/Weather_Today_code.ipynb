{
 "cells": [
  {
   "cell_type": "code",
   "execution_count": 4,
   "metadata": {},
   "outputs": [
    {
     "name": "stdout",
     "output_type": "stream",
     "text": [
      "** 구름많음\n",
      " -  서울\n",
      " -  인천\n",
      " -  수원\n",
      " -  파주\n",
      " -  이천\n",
      " -  평택\n",
      " -  춘천\n",
      " -  원주\n",
      " -  대전\n",
      " -  세종\n",
      " -  홍성\n",
      " -  청주\n",
      " -  충주\n",
      " -  영동\n",
      " -  광주\n",
      " -  목포\n",
      " -  여수\n",
      " -  순천\n",
      " -  광양\n",
      " -  나주\n",
      " -  전주\n",
      " -  군산\n",
      " -  정읍\n",
      " -  남원\n",
      " -  고창\n",
      " -  무주\n",
      " -  부산\n",
      " -  울산\n",
      " -  창원\n",
      " -  진주\n",
      " -  거창\n",
      " -  통영\n",
      " -  대구\n",
      " -  안동\n",
      " -  포항\n",
      " -  경주\n",
      " -  울진\n",
      " -  울릉도\n",
      " -  제주\n",
      " -  서귀포\n",
      "** 맑음\n",
      " -  강릉\n"
     ]
    }
   ],
   "source": [
    "from bs4 import BeautifulSoup\n",
    "import urllib.request as req\n",
    "\n",
    "import os.path\n",
    "\n",
    "#XML 다운로드\n",
    "url =\"http://www.kma.go.kr/weather/forecast/mid-term-rss3.jsp?stnId=108\"\n",
    "\n",
    "fileName = \"forecast.xml\"\n",
    "\n",
    "if not os.path.exists(fileName):\n",
    " req.urlretrieve(url, fileName)\n",
    "\n",
    "# 다운받은 파일을 분석하기\n",
    "\n",
    "xml_data = open(fileName, \"r\", encoding=\"utf-8\").read()\n",
    "\n",
    "soup = BeautifulSoup(xml_data, 'html.parser')\n",
    "\n",
    "# 각 지역 확인하기\n",
    "info = {}\n",
    "for location in soup.find_all(\"location\"):\n",
    "  cityName = location.find(\"city\").string\n",
    "  weather = location.find(\"wf\").string\n",
    "  \n",
    "  if not (weather in info):\n",
    "    info[weather] = []\n",
    "  \n",
    "  info[weather].append(cityName)  \n",
    "\n",
    "# 지역의 날씨를 구분해서 분류하기\n",
    "\n",
    "for weather in info.keys():\n",
    "  print(\"**\", weather)\n",
    "  for name in info[weather]: \n",
    "    print(\" - \", name) "
   ]
  },
  {
   "cell_type": "markdown",
   "metadata": {},
   "source": [
    "## 도곡1동 XML_data"
   ]
  },
  {
   "cell_type": "code",
   "execution_count": null,
   "metadata": {},
   "outputs": [],
   "source": [
    "url =\"https://www.kma.go.kr/wid/queryDFSRSS.jsp?zone=1168065500\""
   ]
  },
  {
   "cell_type": "markdown",
   "metadata": {},
   "source": [
    "동기준으로 아마 매일매일 3시간 단위로 온도 습도 풍량 풍향등을 알 수 있을듯\n",
    "- 위 코드를 이해하고 새로운 코드 작성해야함"
   ]
  },
  {
   "cell_type": "code",
   "execution_count": null,
   "metadata": {},
   "outputs": [],
   "source": []
  }
 ],
 "metadata": {
  "kernelspec": {
   "display_name": "Python 3",
   "language": "python",
   "name": "python3"
  },
  "language_info": {
   "codemirror_mode": {
    "name": "ipython",
    "version": 3
   },
   "file_extension": ".py",
   "mimetype": "text/x-python",
   "name": "python",
   "nbconvert_exporter": "python",
   "pygments_lexer": "ipython3",
   "version": "3.8.3"
  }
 },
 "nbformat": 4,
 "nbformat_minor": 4
}

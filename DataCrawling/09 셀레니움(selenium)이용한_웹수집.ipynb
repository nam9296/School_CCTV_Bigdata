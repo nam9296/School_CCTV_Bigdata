{
 "cells": [
  {
   "cell_type": "markdown",
   "metadata": {},
   "source": [
    "# 셀레니움 설치"
   ]
  },
  {
   "cell_type": "code",
   "execution_count": 1,
   "metadata": {
    "ExecuteTime": {
     "end_time": "2021-03-25T05:05:55.306259Z",
     "start_time": "2021-03-25T05:05:48.455433Z"
    },
    "scrolled": true
   },
   "outputs": [
    {
     "name": "stdout",
     "output_type": "stream",
     "text": [
      "Collecting selenium\n",
      "  Downloading selenium-3.141.0-py2.py3-none-any.whl (904 kB)\n",
      "Requirement already satisfied: urllib3 in c:\\programdata\\anaconda3\\lib\\site-packages (from selenium) (1.25.8)\n",
      "Installing collected packages: selenium\n",
      "Successfully installed selenium-3.141.0\n"
     ]
    }
   ],
   "source": [
    "# !pip install selenium"
   ]
  },
  {
   "cell_type": "markdown",
   "metadata": {},
   "source": [
    "# 관련 메서드\n",
    "\n",
    "##  url에 접근하는 메서드\n",
    "- `get(url)`\n",
    "- `driver.get(url)`\n",
    "\n",
    "## 페이지 단일 element에 접근하는 메서드\n",
    "- `find_element_by_name('html_name')`\n",
    "- `find_element_by_id('html_id')`\n",
    "- `find_element_by_xpath('패스경로')` : 스크립트 실행 경로 찾아 접근\n",
    "\n",
    "## 페이지의 여러 element에 접근하는 메서드\n",
    "- `find_element_by_class_selector('html seleoctor')`\n",
    "- `find_element_by_class_name('html_class')`\n",
    "- `find_element_by_tag_name('html tag')`\n",
    "\n",
    "## Webdriver 객체 생성\n",
    "- `driver = webdrver.Chrome('드라이버 경로')`\n",
    "\n",
    "## 접근한 페이지 source 추출\n",
    "- `html=driver.page_source`"
   ]
  },
  {
   "cell_type": "markdown",
   "metadata": {},
   "source": [
    "# 실습"
   ]
  },
  {
   "cell_type": "markdown",
   "metadata": {},
   "source": [
    "## 패키지 임포트"
   ]
  },
  {
   "cell_type": "code",
   "execution_count": 27,
   "metadata": {
    "ExecuteTime": {
     "end_time": "2021-03-25T05:44:55.024695Z",
     "start_time": "2021-03-25T05:44:55.014721Z"
    }
   },
   "outputs": [],
   "source": [
    "import selenium\n",
    "from selenium import webdriver\n",
    "import pandas as pd\n",
    "import numpy as np\n",
    "from bs4 import BeautifulSoup "
   ]
  },
  {
   "cell_type": "markdown",
   "metadata": {},
   "source": [
    "## webdriver 객체 생성"
   ]
  },
  {
   "cell_type": "code",
   "execution_count": 5,
   "metadata": {
    "ExecuteTime": {
     "end_time": "2021-03-25T05:16:17.817537Z",
     "start_time": "2021-03-25T05:16:16.238079Z"
    }
   },
   "outputs": [],
   "source": [
    "driver = webdriver.Chrome('./driver/chromedriver.exe') "
   ]
  },
  {
   "cell_type": "markdown",
   "metadata": {},
   "source": [
    "## 페이지 접근"
   ]
  },
  {
   "cell_type": "code",
   "execution_count": 7,
   "metadata": {
    "ExecuteTime": {
     "end_time": "2021-03-25T05:18:56.210808Z",
     "start_time": "2021-03-25T05:18:55.755066Z"
    }
   },
   "outputs": [],
   "source": [
    "url = 'https://nid.naver.com/nidlogin.login'\n",
    "driver.get(url)"
   ]
  },
  {
   "cell_type": "markdown",
   "metadata": {},
   "source": [
    "## 화면 캡쳐"
   ]
  },
  {
   "cell_type": "code",
   "execution_count": 10,
   "metadata": {
    "ExecuteTime": {
     "end_time": "2021-03-25T05:20:00.034669Z",
     "start_time": "2021-03-25T05:19:59.606671Z"
    }
   },
   "outputs": [
    {
     "data": {
      "text/plain": [
       "True"
      ]
     },
     "execution_count": 10,
     "metadata": {},
     "output_type": "execute_result"
    }
   ],
   "source": [
    "driver.save_screenshot('./수집자료/sshot.png') # true 시 이미지 캡쳐 완료"
   ]
  },
  {
   "cell_type": "markdown",
   "metadata": {},
   "source": [
    "## 로그인 진행"
   ]
  },
  {
   "cell_type": "markdown",
   "metadata": {},
   "source": [
    "### ID"
   ]
  },
  {
   "cell_type": "code",
   "execution_count": 12,
   "metadata": {
    "ExecuteTime": {
     "end_time": "2021-03-25T05:23:57.442525Z",
     "start_time": "2021-03-25T05:23:57.418587Z"
    }
   },
   "outputs": [],
   "source": [
    "### id 값 전달\n",
    "id_elem = driver.find_element_by_id('id')\n",
    "\n",
    "### 인풋박스 기존 값 지우기\n",
    "id_elem.clear()\n",
    "\n",
    "### 값 전달\n",
    "id_elem.send_keys('sunoju0321')"
   ]
  },
  {
   "cell_type": "markdown",
   "metadata": {
    "ExecuteTime": {
     "end_time": "2021-03-25T05:23:58.787522Z",
     "start_time": "2021-03-25T05:23:58.661304Z"
    }
   },
   "source": [
    "### PW"
   ]
  },
  {
   "cell_type": "code",
   "execution_count": 14,
   "metadata": {
    "ExecuteTime": {
     "end_time": "2021-03-25T05:25:10.661906Z",
     "start_time": "2021-03-25T05:25:10.536203Z"
    }
   },
   "outputs": [],
   "source": [
    "### 비밀번호 값 전달\n",
    "id_elem = driver.find_element_by_id('pw')\n",
    "\n",
    "### 인풋박스 기존 값 지우기\n",
    "id_elem.clear()\n",
    "\n",
    "### 값 전달\n",
    "id_elem.send_keys('password')"
   ]
  },
  {
   "cell_type": "markdown",
   "metadata": {},
   "source": [
    "### 로그인 버튼"
   ]
  },
  {
   "cell_type": "code",
   "execution_count": 15,
   "metadata": {
    "ExecuteTime": {
     "end_time": "2021-03-25T05:26:45.986336Z",
     "start_time": "2021-03-25T05:26:45.360551Z"
    }
   },
   "outputs": [],
   "source": [
    "### 로그인 버튼 클릭\n",
    "xpath = '//*[@id=\"log.login\"]'\n",
    "\n",
    "driver.find_element_by_xpath(xpath).click() \n",
    "## 자동입력 방지 문자가 나타남\n",
    "## send_keys() 함수 사용 - 봇으로 인식"
   ]
  },
  {
   "cell_type": "markdown",
   "metadata": {},
   "source": [
    "### 자동입력 방지 문자 우회하기"
   ]
  },
  {
   "cell_type": "code",
   "execution_count": 23,
   "metadata": {
    "ExecuteTime": {
     "end_time": "2021-03-25T05:43:38.838142Z",
     "start_time": "2021-03-25T05:43:35.990000Z"
    }
   },
   "outputs": [],
   "source": [
    "## send_keys() 함수 대신 직접 script 코드를 작성 후 실행\n",
    "## 새로 창 띄우기\n",
    "driver = webdriver.Chrome('./driver/chromedriver.exe') \n",
    "url = 'https://nid.naver.com/nidlogin.login'\n",
    "driver.get(url)"
   ]
  },
  {
   "cell_type": "code",
   "execution_count": 24,
   "metadata": {
    "ExecuteTime": {
     "end_time": "2021-03-25T05:43:39.470012Z",
     "start_time": "2021-03-25T05:43:39.465020Z"
    }
   },
   "outputs": [],
   "source": [
    "id_input = 'sunoju0321'\n",
    "pw_input = 'dlsgkans03!!'"
   ]
  },
  {
   "cell_type": "code",
   "execution_count": 25,
   "metadata": {
    "ExecuteTime": {
     "end_time": "2021-03-25T05:43:40.494481Z",
     "start_time": "2021-03-25T05:43:40.457574Z"
    }
   },
   "outputs": [],
   "source": [
    "# key 전달하지 않는 script 소스 직접 실행되게 설정\n",
    "# driver로 script 실행시킬 때 : driver.execute_script()\n",
    "# id 전달\n",
    "driver.execute_script(\"document.getElementsByName('id')[0].value=\\'\"+id_input+\"\\'\") # 입력한 id(id_input)을 문자열로 바꾸어 넘겨줌\n",
    "\n",
    "# pw 전달\n",
    "driver.execute_script(\"document.getElementsByName('pw')[0].value=\\'\"+pw_input+\"\\'\")"
   ]
  },
  {
   "cell_type": "code",
   "execution_count": 26,
   "metadata": {
    "ExecuteTime": {
     "end_time": "2021-03-25T05:43:42.480183Z",
     "start_time": "2021-03-25T05:43:42.394378Z"
    }
   },
   "outputs": [],
   "source": [
    "### 로그인 버튼 클릭\n",
    "xpath = '//*[@id=\"log.login\"]'\n",
    "\n",
    "driver.find_element_by_xpath(xpath).click() \n",
    "## 자동입력 방지 문자가 나타남\n",
    "## send_keys() 함수 사용 - 봇으로 인식"
   ]
  },
  {
   "cell_type": "markdown",
   "metadata": {},
   "source": [
    "## 메일 페이지로 접근"
   ]
  },
  {
   "cell_type": "code",
   "execution_count": 28,
   "metadata": {
    "ExecuteTime": {
     "end_time": "2021-03-25T05:47:51.031057Z",
     "start_time": "2021-03-25T05:47:50.649247Z"
    }
   },
   "outputs": [],
   "source": [
    "driver.get('https://mail.naver.com/')"
   ]
  },
  {
   "cell_type": "code",
   "execution_count": 34,
   "metadata": {
    "ExecuteTime": {
     "end_time": "2021-03-25T05:49:15.501538Z",
     "start_time": "2021-03-25T05:49:15.220784Z"
    }
   },
   "outputs": [],
   "source": [
    "## 코드 추출\n",
    "html=driver.page_source\n",
    "soup=BeautifulSoup(html,'html.parser')"
   ]
  },
  {
   "cell_type": "markdown",
   "metadata": {},
   "source": [
    "<div class=\"name _ccr(lst.from) \"><span class=\"blind\">보낸 이:</span><a title=\"&quot;독취사스텝&quot; <jetaime0328@naver.com>\" class=\"_c1(myContextMenu|showSenderContextLayer|list|50809) _stopDefault\" href=\"#\">독취사스텝</a></div>"
   ]
  },
  {
   "cell_type": "code",
   "execution_count": 38,
   "metadata": {
    "ExecuteTime": {
     "end_time": "2021-03-25T05:51:08.021819Z",
     "start_time": "2021-03-25T05:51:07.981960Z"
    }
   },
   "outputs": [
    {
     "data": {
      "text/plain": [
       "[<div class=\"name _ccr(lst.from)\"><span class=\"blind\">보낸 이:</span><a class=\"_c1(myContextMenu|showSenderContextLayer|list|50809) _stopDefault\" href=\"#\" title='\"독취사스텝\" &lt;jetaime0328@naver.com&gt;'>독취사스텝</a></div>,\n",
       " <div class=\"name _ccr(lst.from)\"><span class=\"blind\">보낸 이:</span><a class=\"_c1(myContextMenu|showSenderContextLayer|list|50408) _stopDefault\" href=\"#\" title='\"채움에이치알디고양지사\" &lt;gio01536@naver.com&gt;'>채움에이치알디고양..</a></div>,\n",
       " <div class=\"name _ccr(lst.from)\"><span class=\"blind\">보낸 이:</span><a class=\"_c1(myContextMenu|showSenderContextLayer|list|50154) _stopDefault\" href=\"#\" title='\"김대원/담당/산업경영공학과\" &lt;220318@inha.ac.kr&gt;'>김대원/담당/산업..</a></div>,\n",
       " <div class=\"name _ccr(lst.from)\"><span class=\"blind\">보낸 이:</span><a class=\"_c1(myContextMenu|showSenderContextLayer|list|50146) _stopDefault\" href=\"#\" title='\"유한솔/담당/컴퓨터공학과\" &lt;220287@inha.ac.kr&gt;'>유한솔/담당/컴퓨..</a></div>,\n",
       " <div class=\"name _ccr(lst.from)\"><span class=\"blind\">보낸 이:</span><a class=\"_c1(myContextMenu|showSenderContextLayer|list|50093) _stopDefault\" href=\"#\" title='\"김대원/담당/산업경영공학과\" &lt;220318@inha.ac.kr&gt;'>김대원/담당/산업..</a></div>,\n",
       " <div class=\"name _ccr(lst.from)\"><span class=\"blind\">보낸 이:</span><a class=\"_c1(myContextMenu|showSenderContextLayer|list|50088) _stopDefault\" href=\"#\" title='\"김형기/초빙교수/경영학과\" &lt;khk611@inha.ac.kr&gt;'>김형기/초빙교수/..</a></div>,\n",
       " <div class=\"name _ccr(lst.from)\"><span class=\"blind\">보낸 이:</span><a class=\"_c1(myContextMenu|showSenderContextLayer|list|50072) _stopDefault\" href=\"#\" title='\"김형기/초빙교수/경영학과\" &lt;khk611@inha.ac.kr&gt;'>김형기/초빙교수/..</a></div>,\n",
       " <div class=\"name _ccr(lst.from)\"><span class=\"blind\">보낸 이:</span><a class=\"_c1(myContextMenu|showSenderContextLayer|list|49868) _stopDefault\" href=\"#\" title='\"교수학습개발센터\" &lt;ctl-t@inha.ac.kr&gt;'>교수학습개발센터</a></div>,\n",
       " <div class=\"name _ccr(lst.from)\"><span class=\"blind\">보낸 이:</span><a class=\"_c1(myContextMenu|showSenderContextLayer|list|49536) _stopDefault\" href=\"#\" title='\"유신영\" &lt;syy.yoo@multicampus.com&gt;'>유신영</a></div>,\n",
       " <div class=\"name _ccr(lst.from)\"><span class=\"blind\">보낸 이:</span><a class=\"_c1(myContextMenu|showSenderContextLayer|list|49477) _stopDefault\" href=\"#\" title='\"트위터\" &lt;verify@twitter.com&gt;'>트위터</a></div>,\n",
       " <div class=\"name _ccr(lst.from)\"><span class=\"blind\">보낸 이:</span><a class=\"_c1(myContextMenu|showSenderContextLayer|list|49403) _stopDefault\" href=\"#\" title='\"김은영\" &lt;sunoju0321@naver.com&gt;'>김은영</a></div>,\n",
       " <div class=\"name _ccr(lst.from)\"><span class=\"blind\">보낸 이:</span><a class=\"_c1(myContextMenu|showSenderContextLayer|list|49390) _stopDefault\" href=\"#\" title=\"&lt;bookk.contact.kr@bookk&gt;\">bookk.contact.kr@b..</a></div>,\n",
       " <div class=\"name _ccr(lst.from)\"><span class=\"blind\">보낸 이:</span><a class=\"_c1(myContextMenu|showSenderContextLayer|list|49385) _stopDefault\" href=\"#\" title='\"큐레터\" &lt;Q-letter@i-boss.co.kr&gt;'>큐레터</a></div>,\n",
       " <div class=\"name _ccr(lst.from)\"><span class=\"blind\">보낸 이:</span><a class=\"_c1(myContextMenu|showSenderContextLayer|list|49316) _stopDefault\" href=\"#\" title='\"박혜진\" &lt;hjhj2@korea.kr&gt;'>박혜진</a></div>,\n",
       " <div class=\"name _ccr(lst.from)\"><span class=\"blind\">보낸 이:</span><a class=\"_c1(myContextMenu|showSenderContextLayer|list|49306) _stopDefault\" href=\"#\" title='\"MTEST\" &lt;info@mtest.kr&gt;'>MTEST</a></div>]"
      ]
     },
     "execution_count": 38,
     "metadata": {},
     "output_type": "execute_result"
    }
   ],
   "source": [
    "raw_list = soup.find_all('div',{'class':'name _ccr(lst.from)'})\n",
    "raw_list"
   ]
  },
  {
   "cell_type": "code",
   "execution_count": 39,
   "metadata": {
    "ExecuteTime": {
     "end_time": "2021-03-25T05:51:10.979747Z",
     "start_time": "2021-03-25T05:51:10.969772Z"
    }
   },
   "outputs": [
    {
     "data": {
      "text/plain": [
       "['독취사스텝',\n",
       " '채움에이치알디고양..',\n",
       " '김대원/담당/산업..',\n",
       " '유한솔/담당/컴퓨..',\n",
       " '김대원/담당/산업..',\n",
       " '김형기/초빙교수/..',\n",
       " '김형기/초빙교수/..',\n",
       " '교수학습개발센터',\n",
       " '유신영',\n",
       " '트위터',\n",
       " '김은영',\n",
       " 'bookk.contact.kr@b..',\n",
       " '큐레터',\n",
       " '박혜진',\n",
       " 'MTEST']"
      ]
     },
     "execution_count": 39,
     "metadata": {},
     "output_type": "execute_result"
    }
   ],
   "source": [
    "send_list=[raw_list[n].find('a').get_text() for n in range(0,len(raw_list))]\n",
    "send_list"
   ]
  },
  {
   "cell_type": "code",
   "execution_count": 40,
   "metadata": {
    "ExecuteTime": {
     "end_time": "2021-03-25T05:51:24.769290Z",
     "start_time": "2021-03-25T05:51:24.401185Z"
    }
   },
   "outputs": [],
   "source": [
    "# 드라이버 연결 끊기\n",
    "driver.close()"
   ]
  }
 ],
 "metadata": {
  "kernelspec": {
   "display_name": "Python 3",
   "language": "python",
   "name": "python3"
  },
  "language_info": {
   "codemirror_mode": {
    "name": "ipython",
    "version": 3
   },
   "file_extension": ".py",
   "mimetype": "text/x-python",
   "name": "python",
   "nbconvert_exporter": "python",
   "pygments_lexer": "ipython3",
   "version": "3.7.6"
  },
  "toc": {
   "base_numbering": 1,
   "nav_menu": {},
   "number_sections": true,
   "sideBar": true,
   "skip_h1_title": false,
   "title_cell": "Table of Contents",
   "title_sidebar": "Contents",
   "toc_cell": false,
   "toc_position": {},
   "toc_section_display": true,
   "toc_window_display": false
  }
 },
 "nbformat": 4,
 "nbformat_minor": 4
}

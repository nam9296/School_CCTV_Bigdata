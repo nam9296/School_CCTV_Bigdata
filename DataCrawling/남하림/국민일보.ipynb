{
 "cells": [
  {
   "cell_type": "code",
   "execution_count": null,
   "metadata": {},
   "outputs": [],
   "source": [
    "#url = 'http://www.kmib.co.kr/search/searchResult.asp?searchWord=%uD559%uAD50%uD3ED%uB825&pageNo=1&period=&sort=score'"
   ]
  },
  {
   "cell_type": "code",
   "execution_count": 19,
   "metadata": {},
   "outputs": [],
   "source": [
    "from selenium import webdriver\n",
    "from selenium.webdriver.common.keys import Keys\n",
    "from bs4 import BeautifulSoup\n",
    "import time"
   ]
  },
  {
   "cell_type": "code",
   "execution_count": 24,
   "metadata": {},
   "outputs": [],
   "source": [
    "chrome = webdriver.Chrome('chromedriver.exe')"
   ]
  },
  {
   "cell_type": "code",
   "execution_count": 25,
   "metadata": {},
   "outputs": [],
   "source": [
    "chrome.get('http://www.kmib.co.kr/search/searchResult.asp?searchWord=%uD559%uAD50%uD3ED%uB825&pageNo=1&period=&sort=score')"
   ]
  },
  {
   "cell_type": "code",
   "execution_count": 26,
   "metadata": {},
   "outputs": [],
   "source": [
    "#searchList > div:nth-child(1) > dl > dt > a"
   ]
  },
  {
   "cell_type": "code",
   "execution_count": 27,
   "metadata": {},
   "outputs": [
    {
     "name": "stdout",
     "output_type": "stream",
     "text": [
      "[]\n"
     ]
    }
   ],
   "source": [
    "link = chrome.find_element_by_css_selector('#searchList > div:nth-child(1) > dl > dt > a')\n",
    "link.click()\n",
    "source = chrome.page_source\n",
    "soup = BeautifulSoup(source, 'html.parser')\n",
    "bin = soup.find_all(id_='articleBody')\n",
    "print(bin)\n",
    "time.sleep(3) # 3초간 정지\n",
    "chrome.quit()"
   ]
  },
  {
   "cell_type": "code",
   "execution_count": 8,
   "metadata": {},
   "outputs": [],
   "source": [
    "# time.sleep(3) # 3초간 정지\n",
    "# chrome.quit()"
   ]
  }
 ],
 "metadata": {
  "kernelspec": {
   "display_name": "Python 3",
   "language": "python",
   "name": "python3"
  },
  "language_info": {
   "codemirror_mode": {
    "name": "ipython",
    "version": 3
   },
   "file_extension": ".py",
   "mimetype": "text/x-python",
   "name": "python",
   "nbconvert_exporter": "python",
   "pygments_lexer": "ipython3",
   "version": "3.8.3"
  }
 },
 "nbformat": 4,
 "nbformat_minor": 4
}

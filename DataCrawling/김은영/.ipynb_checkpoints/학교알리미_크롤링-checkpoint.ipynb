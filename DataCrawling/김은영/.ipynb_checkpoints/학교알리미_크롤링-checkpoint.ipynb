{
 "cells": [
  {
   "cell_type": "code",
   "execution_count": 1,
   "metadata": {
    "ExecuteTime": {
     "end_time": "2021-05-20T02:26:36.186080Z",
     "start_time": "2021-05-20T02:26:35.443622Z"
    }
   },
   "outputs": [],
   "source": [
    "# 필요 패키지 임포트\n",
    "import selenium\n",
    "from selenium import webdriver\n",
    "import pandas as pd\n",
    "import numpy as np\n",
    "from bs4 import BeautifulSoup \n",
    "from tqdm import tqdm_notebook\n",
    "import time\n",
    "from selenium.webdriver.common.keys import Keys\n",
    "from html_table_parser import parser_functions as parser"
   ]
  },
  {
   "cell_type": "code",
   "execution_count": 2,
   "metadata": {
    "ExecuteTime": {
     "end_time": "2021-05-20T02:26:36.596630Z",
     "start_time": "2021-05-20T02:26:36.581709Z"
    }
   },
   "outputs": [],
   "source": [
    "def double_list(list):\n",
    "    double_list=[]\n",
    "    for i in list:\n",
    "        double_list.append(i)\n",
    "        double_list.append(i)\n",
    "    return double_list"
   ]
  },
  {
   "cell_type": "markdown",
   "metadata": {},
   "source": [
    "## 평균교육시간"
   ]
  },
  {
   "cell_type": "code",
   "execution_count": 57,
   "metadata": {
    "ExecuteTime": {
     "end_time": "2021-05-20T02:46:41.334676Z",
     "start_time": "2021-05-20T02:46:26.894353Z"
    }
   },
   "outputs": [
    {
     "name": "stdout",
     "output_type": "stream",
     "text": [
      "시군구 번호 입력: 16\n"
     ]
    }
   ],
   "source": [
    "url = 'https://www.schoolinfo.go.kr/ei/ss/pneiss_a05_s0.do'\n",
    "\n",
    "# 브라우저 창\n",
    "driver = webdriver.Chrome('./driver/chromedriver.exe')\n",
    "\n",
    "# 페이지 이동 (페이지 폭 모바일로 줄여줘야 함)\n",
    "driver.get(url)\n",
    "time.sleep(5)\n",
    "\n",
    "# 학교 급\n",
    "class_btn = driver.find_element_by_xpath(\n",
    "    '//*[@id=\"searchForm\"]/div/div/div[1]/div/ul/li[3]/label')\n",
    "driver.execute_script(\"arguments[0].click();\", class_btn)\n",
    "\n",
    "# 지역\n",
    "# 시도\n",
    "filetype_sel = driver.find_element_by_xpath('//*[@id=\"sidoCode\"]')\n",
    "filetype_sel.send_keys(\"서울특별시\")\n",
    "\n",
    "# 구\n",
    "# 구 list 추출\n",
    "sigungu_list_raw = driver.find_element_by_xpath('//*[@id=\"sigunguCode\"]')\n",
    "sigungu_list = sigungu_list_raw.find_elements_by_tag_name('option')\n",
    "sigungu_options = [option.get_attribute('text') for option in sigungu_list]\n",
    "\n",
    "\n",
    "num = int(input('시군구 번호 입력: '))\n",
    "\n",
    "# 구 선택\n",
    "filetype_sel = driver.find_element_by_xpath('//*[@id=\"sigunguCode\"]')\n",
    "filetype_sel.send_keys(sigungu_options[num])\n",
    "\n",
    "# 공시년도\n",
    "# 연도 선택\n",
    "filetype_sel = driver.find_element_by_xpath('//*[@id=\"gsYear\"]')\n",
    "filetype_sel.send_keys('2020년')\n",
    "\n",
    "# 연도 선택 버튼 클릭\n",
    "year_select_btn = driver.find_element_by_xpath('//*[@id=\"gsYearBtn\"]')\n",
    "driver.execute_script(\"arguments[0].click();\", year_select_btn)\n",
    "\n",
    "# 공시항목\n",
    "# 항목분류\n",
    "filetype_sel = driver.find_element_by_xpath('//*[@id=\"m_buryu\"]')\n",
    "filetype_sel.send_keys('교육여건')\n",
    "\n",
    "# 공시항목 - 1\n",
    "filetype_sel = driver.find_element_by_xpath('//*[@id=\"m_gongsi\"]')\n",
    "filetype_sel.send_keys('학교폭력대책자치위원회 운영현황 및 심의결과')\n",
    "\n",
    "# 안쓰는 항목 지우기\n",
    "useless_1 = driver.find_element_by_xpath('//*[@id=\"searchForm\"]/div/div/div[5]/div[3]/ul/li[1]/a')\n",
    "driver.execute_script(\"arguments[0].click();\", useless_1)\n",
    "\n",
    "useless_2 = driver.find_element_by_xpath(\n",
    "    '//*[@id=\"searchForm\"]/div/div/div[5]/div[3]/ul/li[2]/a')\n",
    "driver.execute_script(\"arguments[0].click();\", useless_2)\n",
    "\n",
    "# 공시항목 - 2\n",
    "filetype_sel = driver.find_element_by_xpath('//*[@id=\"m_buryu\"]')\n",
    "filetype_sel.send_keys('교육여건')\n",
    "\n",
    "filetype_sel = driver.find_element_by_xpath('//*[@id=\"m_gongsi\"]')\n",
    "filetype_sel.send_keys('대상별 학교폭력 예방교육 실적')\n",
    "\n",
    "# 학교 급\n",
    "search_btn = driver.find_element_by_xpath('//*[@id=\"searchForm\"]/input')\n",
    "driver.execute_script(\"arguments[0].click();\", search_btn)"
   ]
  },
  {
   "cell_type": "code",
   "execution_count": 58,
   "metadata": {
    "ExecuteTime": {
     "end_time": "2021-05-20T02:46:46.531251Z",
     "start_time": "2021-05-20T02:46:41.337671Z"
    }
   },
   "outputs": [],
   "source": [
    "# 학교별 code list\n",
    "time.sleep(5)\n",
    "school_list_raw = driver.find_element_by_xpath('//*[@id=\"contents\"]/div/div/div[2]/div/table/tbody')\n",
    "school_list = school_list_raw.find_elements_by_tag_name('tr')\n",
    "school_options = [option.get_attribute('id') for option in school_list]\n",
    "\n",
    "# 학교별 name list\n",
    "school_name_list = school_list_raw.find_elements_by_class_name('col_schoolname')\n",
    "school_names = [name.text[2:] for name in school_name_list]\n",
    "\n"
   ]
  },
  {
   "cell_type": "code",
   "execution_count": 59,
   "metadata": {
    "ExecuteTime": {
     "end_time": "2021-05-20T02:46:52.812748Z",
     "start_time": "2021-05-20T02:46:46.532811Z"
    }
   },
   "outputs": [
    {
     "name": "stdout",
     "output_type": "stream",
     "text": [
      "보안코드입력 : 436444\n"
     ]
    }
   ],
   "source": [
    "# 학교별 code list 사용하여 xpath list 생성\n",
    "school_xpaths = []\n",
    "for school_code in school_options:\n",
    "    xpath1 = '//*[@id=\"gongsiSelect_'\n",
    "    school_code = school_code[3:]\n",
    "    xpath2 = '\"]'\n",
    "    school_xpath = xpath1+school_code+xpath2\n",
    "    school_xpaths.append(school_xpath)\n",
    "\n",
    "time.sleep(1)\n",
    "filetype_sel = driver.find_element_by_xpath(school_xpaths[0])\n",
    "filetype_sel.send_keys('대상별 학교폭력 예방교육 실적')\n",
    "\n",
    "time.sleep(1)\n",
    "filetype_sel = driver.find_element_by_xpath('//*[@id=\"passLine66\"]')\n",
    "sec_num=input('보안코드입력 : ')\n",
    "filetype_sel.send_keys(str(sec_num))\n",
    "\n",
    "sec_num_btn = driver.find_element_by_xpath('//*[@id=\"frmSubmit66\"]')\n",
    "driver.execute_script(\"arguments[0].click();\", sec_num_btn)\n",
    "\n"
   ]
  },
  {
   "cell_type": "code",
   "execution_count": 60,
   "metadata": {
    "ExecuteTime": {
     "end_time": "2021-05-20T02:46:53.974222Z",
     "start_time": "2021-05-20T02:46:52.814779Z"
    }
   },
   "outputs": [],
   "source": [
    "# 초기 df 생성\n",
    "time.sleep(1)\n",
    "html = driver.page_source\n",
    "soup = BeautifulSoup(html, 'html.parser')\n",
    "temp = soup.find_all('table')\n",
    "p = parser.make2d(temp[1])\n",
    "\n",
    "df = pd.DataFrame(p[1:], columns=p[0])\n"
   ]
  },
  {
   "cell_type": "code",
   "execution_count": 61,
   "metadata": {
    "ExecuteTime": {
     "end_time": "2021-05-20T02:48:05.235383Z",
     "start_time": "2021-05-20T02:46:53.975912Z"
    }
   },
   "outputs": [
    {
     "name": "stdout",
     "output_type": "stream",
     "text": [
      "보안코드입력 : 048778\n",
      "보안코드입력 : 368767\n",
      "보안코드입력 : 257986\n",
      "보안코드입력 : 762421\n",
      "보안코드입력 : 536697\n",
      "보안코드입력 : 379946\n",
      "보안코드입력 : 594458\n",
      "보안코드입력 : 530876\n"
     ]
    }
   ],
   "source": [
    "for school_xpath in school_xpaths[1:]:\n",
    "    filetype_sel = driver.find_element_by_xpath(school_xpath)\n",
    "    filetype_sel.send_keys('대상별 학교폭력 예방교육 실적')\n",
    "\n",
    "    time.sleep(1)\n",
    "    filetype_sel = driver.find_element_by_xpath('//*[@id=\"passLine66\"]')\n",
    "    sec_num = input('보안코드입력 : ')\n",
    "    filetype_sel.send_keys(str(sec_num))\n",
    "\n",
    "    time.sleep(1)\n",
    "    sec_num_btn = driver.find_element_by_xpath('//*[@id=\"frmSubmit66\"]')\n",
    "    driver.execute_script(\"arguments[0].click();\", sec_num_btn)\n",
    "\n",
    "    time.sleep(1)\n",
    "    html = driver.page_source\n",
    "    soup = BeautifulSoup(html, 'html.parser')\n",
    "    temp = soup.find_all('table')\n",
    "    p = parser.make2d(temp[1])\n",
    "\n",
    "    time.sleep(1)\n",
    "    tempdf = pd.DataFrame(p[1:], columns=p[0])\n",
    "    df = pd.concat([df, tempdf])\n",
    "\n",
    "names = double_list(school_names)\n",
    "df['학교명'] = names\n",
    "df['구'] = sigungu_options[num]\n",
    "new = df[['구', '학교명', '구분', '평균 교육 시간(1학급당)']].reset_index(drop=True)\n",
    "file_name = sigungu_options[num]+'_평균_교육_시간.xlsx'\n",
    "new.to_excel(file_name)"
   ]
  },
  {
   "cell_type": "markdown",
   "metadata": {},
   "source": [
    "## 학교폭력대책자치위원회 운영현황 및 심의결과"
   ]
  },
  {
   "cell_type": "code",
   "execution_count": 62,
   "metadata": {
    "ExecuteTime": {
     "end_time": "2021-05-20T02:48:25.562908Z",
     "start_time": "2021-05-20T02:48:05.237298Z"
    }
   },
   "outputs": [
    {
     "name": "stdout",
     "output_type": "stream",
     "text": [
      "시군구 번호 입력 : 16\n"
     ]
    }
   ],
   "source": [
    "url='https://www.schoolinfo.go.kr/ei/ss/pneiss_a05_s0.do'\n",
    "\n",
    "num=int(input('시군구 번호 입력 : '))\n",
    "# 브라우저 창 \n",
    "driver = webdriver.Chrome('./driver/chromedriver.exe')\n",
    "\n",
    "# 페이지 이동 (페이지 폭 모바일로 줄여줘야 함)\n",
    "driver.get(url)\n",
    "time.sleep(5)\n",
    "\n",
    "### 학교 급 \n",
    "class_btn = driver.find_element_by_xpath('//*[@id=\"searchForm\"]/div/div/div[1]/div/ul/li[3]/label')\n",
    "driver.execute_script(\"arguments[0].click();\", class_btn)\n",
    "\n",
    "## 지역\n",
    "# 시도\n",
    "filetype_sel = driver.find_element_by_xpath('//*[@id=\"sidoCode\"]')\n",
    "filetype_sel.send_keys(\"서울특별시\") \n",
    "\n",
    "# 구\n",
    "# 구 list 추출\n",
    "sigungu_list_raw = driver.find_element_by_xpath('//*[@id=\"sigunguCode\"]')\n",
    "sigungu_list = sigungu_list_raw.find_elements_by_tag_name('option')\n",
    "sigungu_options = [option.get_attribute('text') for option in sigungu_list]\n",
    "\n",
    "# 구 선택\n",
    "filetype_sel = driver.find_element_by_xpath('//*[@id=\"sigunguCode\"]')\n",
    "filetype_sel.send_keys(sigungu_options[num])\n",
    "\n",
    "## 공시년도\n",
    "# 연도 선택\n",
    "filetype_sel = driver.find_element_by_xpath('//*[@id=\"gsYear\"]')\n",
    "filetype_sel.send_keys('2020년')\n",
    "\n",
    "# 연도 선택 버튼 클릭\n",
    "year_select_btn = driver.find_element_by_xpath('//*[@id=\"gsYearBtn\"]')\n",
    "driver.execute_script(\"arguments[0].click();\", year_select_btn)\n",
    "\n",
    "## 공시항목\n",
    "# 항목분류\n",
    "filetype_sel = driver.find_element_by_xpath('//*[@id=\"m_buryu\"]')\n",
    "filetype_sel.send_keys('교육여건')\n",
    "\n",
    "# 공시항목 - 1\n",
    "filetype_sel = driver.find_element_by_xpath('//*[@id=\"m_gongsi\"]')\n",
    "filetype_sel.send_keys('학교폭력대책자치위원회 운영현황 및 심의결과')\n",
    "\n",
    "search_btn = driver.find_element_by_xpath('//*[@id=\"searchForm\"]/input')\n",
    "driver.execute_script(\"arguments[0].click();\", search_btn)\n",
    "\n",
    "######################################################################################################################################\n"
   ]
  },
  {
   "cell_type": "code",
   "execution_count": 63,
   "metadata": {
    "ExecuteTime": {
     "end_time": "2021-05-20T02:48:29.800355Z",
     "start_time": "2021-05-20T02:48:25.563910Z"
    }
   },
   "outputs": [],
   "source": [
    "time.sleep(3)\n",
    "\n",
    "# 학교별 code list\n",
    "school_list_raw = driver.find_element_by_xpath('//*[@id=\"contents\"]/div/div/div[2]/div/table/tbody')\n",
    "school_list = school_list_raw.find_elements_by_tag_name('tr')\n",
    "school_options = [option.get_attribute('id') for option in school_list]\n",
    "\n",
    "# 학교별 name list\n",
    "school_name_list = school_list_raw.find_elements_by_class_name('col_schoolname')\n",
    "school_names = [name.text[2:] for name in school_name_list]\n",
    "\n",
    "time.sleep(1)\n",
    "\n"
   ]
  },
  {
   "cell_type": "code",
   "execution_count": 64,
   "metadata": {
    "ExecuteTime": {
     "end_time": "2021-05-20T02:48:29.815326Z",
     "start_time": "2021-05-20T02:48:29.802354Z"
    }
   },
   "outputs": [],
   "source": [
    "# 학교별 code list 사용하여 xpath list 생성\n",
    "\n",
    "school_xpaths = []\n",
    "for school_code in school_options:\n",
    "    xpath1 = '//*[@id=\"gongsiSelect_'\n",
    "    school_code = school_code[3:]\n",
    "    xpath2 = '\"]'\n",
    "    school_xpath = xpath1+school_code+xpath2\n",
    "    school_xpaths.append(school_xpath)"
   ]
  },
  {
   "cell_type": "code",
   "execution_count": 65,
   "metadata": {
    "ExecuteTime": {
     "end_time": "2021-05-20T02:48:40.181298Z",
     "start_time": "2021-05-20T02:48:29.819307Z"
    }
   },
   "outputs": [
    {
     "name": "stdout",
     "output_type": "stream",
     "text": [
      "보안코드입력 : 697001\n"
     ]
    }
   ],
   "source": [
    "#####################################################################################################################################\n",
    "time.sleep(1)\n",
    "filetype_sel = driver.find_element_by_xpath(school_xpaths[0])\n",
    "filetype_sel.send_keys('학교폭력대책자치위원회 운영현황 및 심의결과')\n",
    "\n",
    "time.sleep(1)\n",
    "filetype_sel = driver.find_element_by_xpath('//*[@id=\"passLine69\"]')\n",
    "sec_num=input('보안코드입력 : ')\n",
    "filetype_sel.send_keys(str(sec_num))\n",
    "\n",
    "time.sleep(1)\n",
    "sec_num_btn = driver.find_element_by_xpath('//*[@id=\"frmSubmit69\"]')\n",
    "driver.execute_script(\"arguments[0].click();\", sec_num_btn)\n",
    "\n",
    "time.sleep(1)\n",
    "\n",
    "# 초기 df1, df2 생성\n",
    "html=driver.page_source\n",
    "soup=BeautifulSoup(html,'html.parser')\n",
    "temp=soup.find_all('table')\n",
    "\n",
    "t1 = parser.make2d(temp[2])\n",
    "t2 = parser.make2d(temp[3])\n",
    "\n",
    "df1=pd.DataFrame(t1[1:], columns=t1[0])\n",
    "df2=pd.DataFrame(t2[1:], columns=t2[0])"
   ]
  },
  {
   "cell_type": "code",
   "execution_count": 66,
   "metadata": {
    "ExecuteTime": {
     "end_time": "2021-05-20T02:49:36.931448Z",
     "start_time": "2021-05-20T02:48:40.183300Z"
    }
   },
   "outputs": [
    {
     "name": "stdout",
     "output_type": "stream",
     "text": [
      "보안코드입력 : 970027\n",
      "보안코드입력 : 125533\n",
      "보안코드입력 : 162573\n",
      "보안코드입력 : 495577\n",
      "보안코드입력 : 642804\n",
      "보안코드입력 : 403241\n",
      "보안코드입력 : 989153\n",
      "보안코드입력 : 509855\n"
     ]
    }
   ],
   "source": [
    "for school_xpath in school_xpaths[1:]:\n",
    "    filetype_sel = driver.find_element_by_xpath(school_xpath)\n",
    "    filetype_sel.send_keys('학교폭력대책심의위원회 운영 현황 및 심의 결과, 학교의 장의 학교폭력사건 자체해결 결과')\n",
    "\n",
    "    time.sleep(1)\n",
    "    filetype_sel = driver.find_element_by_xpath('//*[@id=\"passLine69\"]')\n",
    "    sec_num=input('보안코드입력 : ')\n",
    "    filetype_sel.send_keys(str(sec_num))\n",
    "\n",
    "    time.sleep(1)\n",
    "    sec_num_btn = driver.find_element_by_xpath('//*[@id=\"frmSubmit69\"]')\n",
    "    driver.execute_script(\"arguments[0].click();\", sec_num_btn)\n",
    "    \n",
    "    time.sleep(1)\n",
    "    html=driver.page_source\n",
    "    soup=BeautifulSoup(html,'html.parser')\n",
    "    temp=soup.find_all('table')\n",
    "    \n",
    "    t1 = parser.make2d(temp[2])\n",
    "    t2 = parser.make2d(temp[3])\n",
    "    \n",
    "    temp_df1=pd.DataFrame(t1[2:], columns=t1[0])\n",
    "    temp_df2=pd.DataFrame(t2[1:], columns=t2[0])\n",
    "    \n",
    "    df1=pd.concat([df1,temp_df1])    \n",
    "    df2=pd.concat([df2,temp_df2])"
   ]
  },
  {
   "cell_type": "code",
   "execution_count": 67,
   "metadata": {
    "ExecuteTime": {
     "end_time": "2021-05-20T02:49:36.946982Z",
     "start_time": "2021-05-20T02:49:36.932999Z"
    }
   },
   "outputs": [
    {
     "data": {
      "text/plain": [
       "['경일고등학교',\n",
       " '금호고등학교',\n",
       " '덕수고등학교',\n",
       " '도선고등학교',\n",
       " '무학여자고등학교',\n",
       " '서울방송고등학교',\n",
       " '성수고등학교',\n",
       " '성수공업고등학교',\n",
       " '한양대학교사범대학부속고등학교']"
      ]
     },
     "execution_count": 67,
     "metadata": {},
     "output_type": "execute_result"
    }
   ],
   "source": [
    "school_names"
   ]
  },
  {
   "cell_type": "code",
   "execution_count": 68,
   "metadata": {
    "ExecuteTime": {
     "end_time": "2021-05-20T02:49:37.022806Z",
     "start_time": "2021-05-20T02:49:36.948979Z"
    }
   },
   "outputs": [],
   "source": [
    "names = double_list(school_names)\n",
    "names=names.insert(0,'구분2')\n",
    "df1.reset_index(drop=True,inplace=True)\n",
    "df1['학교명']=names\n",
    "df1['구']=sigungu_options[num]\n",
    "final_df=df1[['구','학교명','구분', '개최횟수', '심의건수', '학교장의자체해결 건수', '피해학생', '피해학생', '가해학생', '가해학생']]\n",
    "file_name=sigungu_options[num]+'_학교폭력대책자치위원회_운영현황_및_심의결과.xlsx'\n",
    "final_df.to_excel(file_name)"
   ]
  },
  {
   "cell_type": "code",
   "execution_count": 69,
   "metadata": {
    "ExecuteTime": {
     "end_time": "2021-05-20T02:49:37.097526Z",
     "start_time": "2021-05-20T02:49:37.024807Z"
    }
   },
   "outputs": [],
   "source": [
    "names = double_list(school_names)\n",
    "df2.reset_index(drop=True,inplace=True)\n",
    "df2['학교명']=names\n",
    "df2['구']=sigungu_options[num]\n",
    "final_df=df2[['구','학교명','구분', '신체폭력', '언어폭력', '금품갈취', '강요', '따돌림', '성폭력', '사이버폭력', '기타']]\n",
    "file_name=sigungu_options[num]+'_학교폭력대책자치위원회_운영현황_및_심의결과2.xlsx'\n",
    "final_df.to_excel(file_name)"
   ]
  }
 ],
 "metadata": {
  "kernelspec": {
   "display_name": "Python 3",
   "language": "python",
   "name": "python3"
  },
  "language_info": {
   "codemirror_mode": {
    "name": "ipython",
    "version": 3
   },
   "file_extension": ".py",
   "mimetype": "text/x-python",
   "name": "python",
   "nbconvert_exporter": "python",
   "pygments_lexer": "ipython3",
   "version": "3.7.6"
  },
  "toc": {
   "base_numbering": 1,
   "nav_menu": {},
   "number_sections": true,
   "sideBar": true,
   "skip_h1_title": false,
   "title_cell": "Table of Contents",
   "title_sidebar": "Contents",
   "toc_cell": false,
   "toc_position": {},
   "toc_section_display": true,
   "toc_window_display": true
  }
 },
 "nbformat": 4,
 "nbformat_minor": 4
}

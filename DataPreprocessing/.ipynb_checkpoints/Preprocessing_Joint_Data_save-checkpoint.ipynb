{
 "cells": [
  {
   "cell_type": "code",
   "execution_count": null,
   "metadata": {},
   "outputs": [],
   "source": [
    "import json\n",
    "import pandas as pd\n",
    "import pickle\n",
    "import glob, os"
   ]
  },
  {
   "cell_type": "code",
   "execution_count": null,
   "metadata": {},
   "outputs": [],
   "source": [
    "file_list = glob.glob('./joint_Json/*')"
   ]
  },
  {
   "cell_type": "code",
   "execution_count": null,
   "metadata": {},
   "outputs": [],
   "source": [
    "# joint 값 전처리 함수\n",
    "def prepro(file_list=None):\n",
    "    result = [] \n",
    "    for file_path in file_list:\n",
    "        with open(file_path, \"r\") as json_file:\n",
    "            jsonObject = json.load(json_file)\n",
    "            jsonArray = jsonObject.get('people') # joint 값 추출\n",
    "            lst = []\n",
    "            keypoints = []\n",
    "            for list in jsonArray:\n",
    "                keypoint = list.get('pose_keypoints_2d')\n",
    "                for i in range(len(keypoint)): # x,y 좌표 뒤에 위치한 확률값 제외하고 가져오기\n",
    "                    if i % 3 != 2:\n",
    "                        lst.append(keypoint[i])\n",
    "                    else:\n",
    "                        pass\n",
    "                keypoints.append(lst[:36])\n",
    "                lst=[]\n",
    "            result.append(keypoints)   \n",
    "            \n",
    "    return result"
   ]
  },
  {
   "cell_type": "code",
   "execution_count": null,
   "metadata": {},
   "outputs": [],
   "source": [
    "pre = prepro(file_list)"
   ]
  },
  {
   "cell_type": "code",
   "execution_count": null,
   "metadata": {},
   "outputs": [],
   "source": [
    "with open('./output_result.txt', 'w') as text_file:\n",
    "    for i in range(len(pre)):\n",
    "        for j in range(len(pre[i])):\n",
    "            for k in range(36):\n",
    "                text_file.write('{}'.format(pre[i][j][k]))\n",
    "                if j < 35:\n",
    "                    text_file.write(',')\n",
    "            text_file.write('\\n')"
   ]
  }
 ],
 "metadata": {
  "kernelspec": {
   "display_name": "Python 3",
   "language": "python",
   "name": "python3"
  },
  "language_info": {
   "codemirror_mode": {
    "name": "ipython",
    "version": 3
   },
   "file_extension": ".py",
   "mimetype": "text/x-python",
   "name": "python",
   "nbconvert_exporter": "python",
   "pygments_lexer": "ipython3",
   "version": "3.7.6"
  },
  "toc": {
   "base_numbering": 1,
   "nav_menu": {},
   "number_sections": true,
   "sideBar": true,
   "skip_h1_title": false,
   "title_cell": "Table of Contents",
   "title_sidebar": "Contents",
   "toc_cell": false,
   "toc_position": {},
   "toc_section_display": true,
   "toc_window_display": false
  }
 },
 "nbformat": 4,
 "nbformat_minor": 2
}

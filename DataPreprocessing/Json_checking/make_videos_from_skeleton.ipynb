{
 "cells": [
  {
   "cell_type": "markdown",
   "metadata": {
    "id": "VX8uo8ZyQtyi"
   },
   "source": [
    "# Our Videos"
   ]
  },
  {
   "cell_type": "code",
   "execution_count": 1,
   "metadata": {
    "colab": {
     "base_uri": "https://localhost:8080/"
    },
    "executionInfo": {
     "elapsed": 1004,
     "status": "ok",
     "timestamp": 1620868388671,
     "user": {
      "displayName": "Gilbert Lim",
      "photoUrl": "https://lh3.googleusercontent.com/a-/AOh14GjwcbshxcCHERWh50XPKtBiG3JN7W7moOjJPdp_=s64",
      "userId": "07062558111207590160"
     },
     "user_tz": -540
    },
    "id": "jOTzK7e91RmU",
    "outputId": "3945af0a-bad7-4376-ec93-d644b531d2f6"
   },
   "outputs": [
    {
     "name": "stdout",
     "output_type": "stream",
     "text": [
      "Drive already mounted at /content/drive; to attempt to forcibly remount, call drive.mount(\"/content/drive\", force_remount=True).\n"
     ]
    }
   ],
   "source": [
    "from google.colab import drive\n",
    "drive.mount('/content/drive')"
   ]
  },
  {
   "cell_type": "code",
   "execution_count": 2,
   "metadata": {
    "executionInfo": {
     "elapsed": 1539,
     "status": "ok",
     "timestamp": 1620868391238,
     "user": {
      "displayName": "Gilbert Lim",
      "photoUrl": "https://lh3.googleusercontent.com/a-/AOh14GjwcbshxcCHERWh50XPKtBiG3JN7W7moOjJPdp_=s64",
      "userId": "07062558111207590160"
     },
     "user_tz": -540
    },
    "id": "iu2zjVqy1ng8"
   },
   "outputs": [],
   "source": [
    "import cv2\n",
    "import numpy as np\n",
    "import pandas as pd"
   ]
  },
  {
   "cell_type": "code",
   "execution_count": 3,
   "metadata": {
    "colab": {
     "base_uri": "https://localhost:8080/",
     "height": 419
    },
    "executionInfo": {
     "elapsed": 3200,
     "status": "ok",
     "timestamp": 1620868393308,
     "user": {
      "displayName": "Gilbert Lim",
      "photoUrl": "https://lh3.googleusercontent.com/a-/AOh14GjwcbshxcCHERWh50XPKtBiG3JN7W7moOjJPdp_=s64",
      "userId": "07062558111207590160"
     },
     "user_tz": -540
    },
    "id": "3yTSLBOy2WRf",
    "outputId": "571e928b-6177-4e51-d5eb-b445767d8d26"
   },
   "outputs": [
    {
     "data": {
      "text/html": [
       "<div>\n",
       "<style scoped>\n",
       "    .dataframe tbody tr th:only-of-type {\n",
       "        vertical-align: middle;\n",
       "    }\n",
       "\n",
       "    .dataframe tbody tr th {\n",
       "        vertical-align: top;\n",
       "    }\n",
       "\n",
       "    .dataframe thead th {\n",
       "        text-align: right;\n",
       "    }\n",
       "</style>\n",
       "<table border=\"1\" class=\"dataframe\">\n",
       "  <thead>\n",
       "    <tr style=\"text-align: right;\">\n",
       "      <th></th>\n",
       "      <th>p_1</th>\n",
       "      <th>p_2</th>\n",
       "    </tr>\n",
       "  </thead>\n",
       "  <tbody>\n",
       "    <tr>\n",
       "      <th>0</th>\n",
       "      <td>[380.343, 134.948, 358.107, 162.386, 355.5, 16...</td>\n",
       "      <td>[495.219, 138.845, 517.383, 163.653, 514.745, ...</td>\n",
       "    </tr>\n",
       "    <tr>\n",
       "      <th>1</th>\n",
       "      <td>[380.305, 137.513, 358.076, 162.39, 352.898, 1...</td>\n",
       "      <td>[487.311, 137.525, 509.543, 162.376, 505.647, ...</td>\n",
       "    </tr>\n",
       "    <tr>\n",
       "      <th>2</th>\n",
       "      <td>[380.285, 134.96, 356.785, 162.383, 351.604, 1...</td>\n",
       "      <td>[484.767, 136.251, 506.958, 162.33, 505.55, 16...</td>\n",
       "    </tr>\n",
       "    <tr>\n",
       "      <th>3</th>\n",
       "      <td>[380.254, 134.954, 354.209, 162.368, 350.323, ...</td>\n",
       "      <td>[482.122, 134.921, 505.651, 162.403, 502.978, ...</td>\n",
       "    </tr>\n",
       "    <tr>\n",
       "      <th>4</th>\n",
       "      <td>[376.403, 138.798, 351.592, 162.372, 350.262, ...</td>\n",
       "      <td>[474.302, 137.56, 497.76, 163.622, 495.174, 16...</td>\n",
       "    </tr>\n",
       "    <tr>\n",
       "      <th>...</th>\n",
       "      <td>...</td>\n",
       "      <td>...</td>\n",
       "    </tr>\n",
       "    <tr>\n",
       "      <th>7043</th>\n",
       "      <td>[522.551, 144.064, 536.966, 181.901, 517.351, ...</td>\n",
       "      <td>[298.079, 161.022, 282.402, 193.69, 275.852, 1...</td>\n",
       "    </tr>\n",
       "    <tr>\n",
       "      <th>7044</th>\n",
       "      <td>[521.286, 144.074, 536.962, 181.909, 517.342, ...</td>\n",
       "      <td>[298.08, 161.009, 281.104, 193.665, 274.604, 1...</td>\n",
       "    </tr>\n",
       "    <tr>\n",
       "      <th>7045</th>\n",
       "      <td>[522.551, 144.066, 536.961, 181.906, 517.345, ...</td>\n",
       "      <td>[298.093, 161.012, 281.117, 193.689, 274.555, ...</td>\n",
       "    </tr>\n",
       "    <tr>\n",
       "      <th>7046</th>\n",
       "      <td>[522.55, 144.062, 536.961, 181.908, 517.343, 1...</td>\n",
       "      <td>[298.119, 161.01, 281.093, 193.652, 273.267, 1...</td>\n",
       "    </tr>\n",
       "    <tr>\n",
       "      <th>7047</th>\n",
       "      <td>[521.282, 144.08, 536.968, 181.913, 517.336, 1...</td>\n",
       "      <td>[298.138, 161.045, 279.813, 193.715, 271.953, ...</td>\n",
       "    </tr>\n",
       "  </tbody>\n",
       "</table>\n",
       "<p>7048 rows × 2 columns</p>\n",
       "</div>"
      ],
      "text/plain": [
       "                                                    p_1                                                p_2\n",
       "0     [380.343, 134.948, 358.107, 162.386, 355.5, 16...  [495.219, 138.845, 517.383, 163.653, 514.745, ...\n",
       "1     [380.305, 137.513, 358.076, 162.39, 352.898, 1...  [487.311, 137.525, 509.543, 162.376, 505.647, ...\n",
       "2     [380.285, 134.96, 356.785, 162.383, 351.604, 1...  [484.767, 136.251, 506.958, 162.33, 505.55, 16...\n",
       "3     [380.254, 134.954, 354.209, 162.368, 350.323, ...  [482.122, 134.921, 505.651, 162.403, 502.978, ...\n",
       "4     [376.403, 138.798, 351.592, 162.372, 350.262, ...  [474.302, 137.56, 497.76, 163.622, 495.174, 16...\n",
       "...                                                 ...                                                ...\n",
       "7043  [522.551, 144.064, 536.966, 181.901, 517.351, ...  [298.079, 161.022, 282.402, 193.69, 275.852, 1...\n",
       "7044  [521.286, 144.074, 536.962, 181.909, 517.342, ...  [298.08, 161.009, 281.104, 193.665, 274.604, 1...\n",
       "7045  [522.551, 144.066, 536.961, 181.906, 517.345, ...  [298.093, 161.012, 281.117, 193.689, 274.555, ...\n",
       "7046  [522.55, 144.062, 536.961, 181.908, 517.343, 1...  [298.119, 161.01, 281.093, 193.652, 273.267, 1...\n",
       "7047  [521.282, 144.08, 536.968, 181.913, 517.336, 1...  [298.138, 161.045, 279.813, 193.715, 271.953, ...\n",
       "\n",
       "[7048 rows x 2 columns]"
      ]
     },
     "execution_count": 3,
     "metadata": {
      "tags": []
     },
     "output_type": "execute_result"
    }
   ],
   "source": [
    "df = pd.read_csv('/content/drive/MyDrive/Colab Notebooks/OpenPose/datasets/X_joint_data.csv')\n",
    "df"
   ]
  },
  {
   "cell_type": "code",
   "execution_count": 4,
   "metadata": {
    "colab": {
     "base_uri": "https://localhost:8080/",
     "height": 419
    },
    "executionInfo": {
     "elapsed": 2828,
     "status": "ok",
     "timestamp": 1620868393309,
     "user": {
      "displayName": "Gilbert Lim",
      "photoUrl": "https://lh3.googleusercontent.com/a-/AOh14GjwcbshxcCHERWh50XPKtBiG3JN7W7moOjJPdp_=s64",
      "userId": "07062558111207590160"
     },
     "user_tz": -540
    },
    "id": "7xhMN-uV4rky",
    "outputId": "3f131908-c7b0-4bc1-a6a7-ef19d757b918"
   },
   "outputs": [
    {
     "data": {
      "text/html": [
       "<div>\n",
       "<style scoped>\n",
       "    .dataframe tbody tr th:only-of-type {\n",
       "        vertical-align: middle;\n",
       "    }\n",
       "\n",
       "    .dataframe tbody tr th {\n",
       "        vertical-align: top;\n",
       "    }\n",
       "\n",
       "    .dataframe thead th {\n",
       "        text-align: right;\n",
       "    }\n",
       "</style>\n",
       "<table border=\"1\" class=\"dataframe\">\n",
       "  <thead>\n",
       "    <tr style=\"text-align: right;\">\n",
       "      <th></th>\n",
       "      <th>p_1</th>\n",
       "      <th>p_2</th>\n",
       "    </tr>\n",
       "  </thead>\n",
       "  <tbody>\n",
       "    <tr>\n",
       "      <th>0</th>\n",
       "      <td>380.343, 134.948, 358.107, 162.386, 355.5, 163...</td>\n",
       "      <td>495.219, 138.845, 517.383, 163.653, 514.745, 1...</td>\n",
       "    </tr>\n",
       "    <tr>\n",
       "      <th>1</th>\n",
       "      <td>380.305, 137.513, 358.076, 162.39, 352.898, 16...</td>\n",
       "      <td>487.311, 137.525, 509.543, 162.376, 505.647, 1...</td>\n",
       "    </tr>\n",
       "    <tr>\n",
       "      <th>2</th>\n",
       "      <td>380.285, 134.96, 356.785, 162.383, 351.604, 16...</td>\n",
       "      <td>484.767, 136.251, 506.958, 162.33, 505.55, 162...</td>\n",
       "    </tr>\n",
       "    <tr>\n",
       "      <th>3</th>\n",
       "      <td>380.254, 134.954, 354.209, 162.368, 350.323, 1...</td>\n",
       "      <td>482.122, 134.921, 505.651, 162.403, 502.978, 1...</td>\n",
       "    </tr>\n",
       "    <tr>\n",
       "      <th>4</th>\n",
       "      <td>376.403, 138.798, 351.592, 162.372, 350.262, 1...</td>\n",
       "      <td>474.302, 137.56, 497.76, 163.622, 495.174, 162...</td>\n",
       "    </tr>\n",
       "    <tr>\n",
       "      <th>...</th>\n",
       "      <td>...</td>\n",
       "      <td>...</td>\n",
       "    </tr>\n",
       "    <tr>\n",
       "      <th>7043</th>\n",
       "      <td>522.551, 144.064, 536.966, 181.901, 517.351, 1...</td>\n",
       "      <td>298.079, 161.022, 282.402, 193.69, 275.852, 19...</td>\n",
       "    </tr>\n",
       "    <tr>\n",
       "      <th>7044</th>\n",
       "      <td>521.286, 144.074, 536.962, 181.909, 517.342, 1...</td>\n",
       "      <td>298.08, 161.009, 281.104, 193.665, 274.604, 19...</td>\n",
       "    </tr>\n",
       "    <tr>\n",
       "      <th>7045</th>\n",
       "      <td>522.551, 144.066, 536.961, 181.906, 517.345, 1...</td>\n",
       "      <td>298.093, 161.012, 281.117, 193.689, 274.555, 1...</td>\n",
       "    </tr>\n",
       "    <tr>\n",
       "      <th>7046</th>\n",
       "      <td>522.55, 144.062, 536.961, 181.908, 517.343, 18...</td>\n",
       "      <td>298.119, 161.01, 281.093, 193.652, 273.267, 19...</td>\n",
       "    </tr>\n",
       "    <tr>\n",
       "      <th>7047</th>\n",
       "      <td>521.282, 144.08, 536.968, 181.913, 517.336, 18...</td>\n",
       "      <td>298.138, 161.045, 279.813, 193.715, 271.953, 1...</td>\n",
       "    </tr>\n",
       "  </tbody>\n",
       "</table>\n",
       "<p>7048 rows × 2 columns</p>\n",
       "</div>"
      ],
      "text/plain": [
       "                                                    p_1                                                p_2\n",
       "0     380.343, 134.948, 358.107, 162.386, 355.5, 163...  495.219, 138.845, 517.383, 163.653, 514.745, 1...\n",
       "1     380.305, 137.513, 358.076, 162.39, 352.898, 16...  487.311, 137.525, 509.543, 162.376, 505.647, 1...\n",
       "2     380.285, 134.96, 356.785, 162.383, 351.604, 16...  484.767, 136.251, 506.958, 162.33, 505.55, 162...\n",
       "3     380.254, 134.954, 354.209, 162.368, 350.323, 1...  482.122, 134.921, 505.651, 162.403, 502.978, 1...\n",
       "4     376.403, 138.798, 351.592, 162.372, 350.262, 1...  474.302, 137.56, 497.76, 163.622, 495.174, 162...\n",
       "...                                                 ...                                                ...\n",
       "7043  522.551, 144.064, 536.966, 181.901, 517.351, 1...  298.079, 161.022, 282.402, 193.69, 275.852, 19...\n",
       "7044  521.286, 144.074, 536.962, 181.909, 517.342, 1...  298.08, 161.009, 281.104, 193.665, 274.604, 19...\n",
       "7045  522.551, 144.066, 536.961, 181.906, 517.345, 1...  298.093, 161.012, 281.117, 193.689, 274.555, 1...\n",
       "7046  522.55, 144.062, 536.961, 181.908, 517.343, 18...  298.119, 161.01, 281.093, 193.652, 273.267, 19...\n",
       "7047  521.282, 144.08, 536.968, 181.913, 517.336, 18...  298.138, 161.045, 279.813, 193.715, 271.953, 1...\n",
       "\n",
       "[7048 rows x 2 columns]"
      ]
     },
     "execution_count": 4,
     "metadata": {
      "tags": []
     },
     "output_type": "execute_result"
    }
   ],
   "source": [
    "# df['p_1'] = df['p_1'].str.replace(pat='[', repl=\"\", regex=True)\n",
    "# df['p_1'] = df['p_1'].str.replace(pat=']', repl=\"\", regex=True)\n",
    "# df['p_2'] = df['p_2'].str.replace(pat='[', repl=\"\", regex=True)\n",
    "# df['p_2'] = df['p_2'].str.replace(pat=']', repl=\"\", regex=True)\n",
    "# df"
   ]
  },
  {
   "cell_type": "code",
   "execution_count": 5,
   "metadata": {
    "executionInfo": {
     "elapsed": 2644,
     "status": "ok",
     "timestamp": 1620868393764,
     "user": {
      "displayName": "Gilbert Lim",
      "photoUrl": "https://lh3.googleusercontent.com/a-/AOh14GjwcbshxcCHERWh50XPKtBiG3JN7W7moOjJPdp_=s64",
      "userId": "07062558111207590160"
     },
     "user_tz": -540
    },
    "id": "IminACRo7KyD"
   },
   "outputs": [],
   "source": [
    "from google.colab.patches import cv2_imshow\n",
    "import os\n",
    "\n",
    "\n",
    "if not os.path.exists('Videos'):\n",
    "    os.mkdir('Videos')\n",
    "\n",
    "if not os.path.exists('Images'):\n",
    "    os.mkdir('Images')\n",
    "\n",
    "\n",
    "size = (480, 640)\n",
    "fps = 30\n",
    "img_arr = []\n",
    "\n",
    "\n",
    "for i in range(49):\n",
    "    img = np.zeros(size + (3,))\n",
    "\n",
    "    p1 = df['p_1'][i].split(',')\n",
    "    p2 = df['p_2'][i].split(',')\n",
    "\n",
    "    for idx, xy in enumerate(p1):\n",
    "        if (idx + 1)% 2 == 0 :\n",
    "            x,y = (np.float32(p1[idx - 1]), np.float32(p1[idx]))\n",
    "            cv2.circle(img, (x,y), 1, (0,255,0), cv2.LINE_4) # image, (x,y), radius, color)\n",
    "\n",
    "    for idx, xy in enumerate(p2):\n",
    "        if (idx + 1)% 2 == 0 :\n",
    "            x,y = (np.float32(p2[idx - 1]), np.float32(p2[idx]))\n",
    "            cv2.circle(img, (x,y), 1, (0,255,0), cv2.LINE_4) # image, (x,y), radius, color)\n",
    "\n",
    "    img_path = './Images/img_' + str('%02d' %i) + '.jpg'\n",
    "    cv2.imwrite(img_path, img)"
   ]
  },
  {
   "cell_type": "code",
   "execution_count": 6,
   "metadata": {
    "colab": {
     "base_uri": "https://localhost:8080/"
    },
    "executionInfo": {
     "elapsed": 4646,
     "status": "ok",
     "timestamp": 1620868396152,
     "user": {
      "displayName": "Gilbert Lim",
      "photoUrl": "https://lh3.googleusercontent.com/a-/AOh14GjwcbshxcCHERWh50XPKtBiG3JN7W7moOjJPdp_=s64",
      "userId": "07062558111207590160"
     },
     "user_tz": -540
    },
    "id": "kcLY3QryyKR2",
    "outputId": "61049be1-3f43-43b5-e3ca-aedd74868088"
   },
   "outputs": [
    {
     "name": "stdout",
     "output_type": "stream",
     "text": [
      "ffmpeg version 3.4.8-0ubuntu0.2 Copyright (c) 2000-2020 the FFmpeg developers\n",
      "  built with gcc 7 (Ubuntu 7.5.0-3ubuntu1~18.04)\n",
      "  configuration: --prefix=/usr --extra-version=0ubuntu0.2 --toolchain=hardened --libdir=/usr/lib/x86_64-linux-gnu --incdir=/usr/include/x86_64-linux-gnu --enable-gpl --disable-stripping --enable-avresample --enable-avisynth --enable-gnutls --enable-ladspa --enable-libass --enable-libbluray --enable-libbs2b --enable-libcaca --enable-libcdio --enable-libflite --enable-libfontconfig --enable-libfreetype --enable-libfribidi --enable-libgme --enable-libgsm --enable-libmp3lame --enable-libmysofa --enable-libopenjpeg --enable-libopenmpt --enable-libopus --enable-libpulse --enable-librubberband --enable-librsvg --enable-libshine --enable-libsnappy --enable-libsoxr --enable-libspeex --enable-libssh --enable-libtheora --enable-libtwolame --enable-libvorbis --enable-libvpx --enable-libwavpack --enable-libwebp --enable-libx265 --enable-libxml2 --enable-libxvid --enable-libzmq --enable-libzvbi --enable-omx --enable-openal --enable-opengl --enable-sdl2 --enable-libdc1394 --enable-libdrm --enable-libiec61883 --enable-chromaprint --enable-frei0r --enable-libopencv --enable-libx264 --enable-shared\n",
      "  libavutil      55. 78.100 / 55. 78.100\n",
      "  libavcodec     57.107.100 / 57.107.100\n",
      "  libavformat    57. 83.100 / 57. 83.100\n",
      "  libavdevice    57. 10.100 / 57. 10.100\n",
      "  libavfilter     6.107.100 /  6.107.100\n",
      "  libavresample   3.  7.  0 /  3.  7.  0\n",
      "  libswscale      4.  8.100 /  4.  8.100\n",
      "  libswresample   2.  9.100 /  2.  9.100\n",
      "  libpostproc    54.  7.100 / 54.  7.100\n",
      "Input #0, image2, from './Images/img_%02d.jpg':\n",
      "  Duration: 00:00:01.63, start: 0.000000, bitrate: N/A\n",
      "    Stream #0:0: Video: mjpeg, yuvj420p(pc, bt470bg/unknown/unknown), 640x480 [SAR 1:1 DAR 4:3], 30 fps, 30 tbr, 30 tbn, 30 tbc\n",
      "Stream mapping:\n",
      "  Stream #0:0 -> #0:0 (mjpeg (native) -> h264 (libx264))\n",
      "Press [q] to stop, [?] for help\n",
      "\u001b[1;36m[libx264 @ 0x5616457a1e00] \u001b[0musing SAR=1/1\n",
      "\u001b[1;36m[libx264 @ 0x5616457a1e00] \u001b[0musing cpu capabilities: MMX2 SSE2Fast SSSE3 SSE4.2 AVX FMA3 BMI2 AVX2\n",
      "\u001b[1;36m[libx264 @ 0x5616457a1e00] \u001b[0mprofile High, level 3.0\n",
      "\u001b[1;36m[libx264 @ 0x5616457a1e00] \u001b[0m264 - core 152 r2854 e9a5903 - H.264/MPEG-4 AVC codec - Copyleft 2003-2017 - http://www.videolan.org/x264.html - options: cabac=1 ref=3 deblock=1:0:0 analyse=0x3:0x113 me=hex subme=7 psy=1 psy_rd=1.00:0.00 mixed_ref=1 me_range=16 chroma_me=1 trellis=1 8x8dct=1 cqm=0 deadzone=21,11 fast_pskip=1 chroma_qp_offset=-2 threads=3 lookahead_threads=1 sliced_threads=0 nr=0 decimate=1 interlaced=0 bluray_compat=0 constrained_intra=0 bframes=3 b_pyramid=2 b_adapt=1 b_bias=0 direct=1 weightb=1 open_gop=0 weightp=2 keyint=250 keyint_min=25 scenecut=40 intra_refresh=0 rc_lookahead=40 rc=crf mbtree=1 crf=23.0 qcomp=0.60 qpmin=0 qpmax=69 qpstep=4 ip_ratio=1.40 aq=1:1.00\n",
      "Output #0, mp4, to './test.mp4':\n",
      "  Metadata:\n",
      "    encoder         : Lavf57.83.100\n",
      "    Stream #0:0: Video: h264 (libx264) (avc1 / 0x31637661), yuvj420p(pc), 640x480 [SAR 1:1 DAR 4:3], q=-1--1, 30 fps, 15360 tbn, 30 tbc\n",
      "    Metadata:\n",
      "      encoder         : Lavc57.107.100 libx264\n",
      "    Side data:\n",
      "      cpb: bitrate max/min/avg: 0/0/0 buffer size: 0 vbv_delay: -1\n",
      "frame=   49 fps=0.0 q=-1.0 Lsize=      31kB time=00:00:01.53 bitrate= 164.8kbits/s speed=5.74x    \n",
      "video:29kB audio:0kB subtitle:0kB other streams:0kB global headers:0kB muxing overhead: 4.723705%\n",
      "\u001b[1;36m[libx264 @ 0x5616457a1e00] \u001b[0mframe I:1     Avg QP:17.26  size:  1832\n",
      "\u001b[1;36m[libx264 @ 0x5616457a1e00] \u001b[0mframe P:15    Avg QP:25.65  size:   931\n",
      "\u001b[1;36m[libx264 @ 0x5616457a1e00] \u001b[0mframe B:33    Avg QP:30.72  size:   415\n",
      "\u001b[1;36m[libx264 @ 0x5616457a1e00] \u001b[0mconsecutive B-frames:  6.1%  8.2% 12.2% 73.5%\n",
      "\u001b[1;36m[libx264 @ 0x5616457a1e00] \u001b[0mmb I  I16..4: 32.0% 65.2%  2.8%\n",
      "\u001b[1;36m[libx264 @ 0x5616457a1e00] \u001b[0mmb P  I16..4:  0.2%  1.7%  0.8%  P16..4:  2.7%  0.9%  0.1%  0.0%  0.0%    skip:93.5%\n",
      "\u001b[1;36m[libx264 @ 0x5616457a1e00] \u001b[0mmb B  I16..4:  0.1%  0.2%  0.2%  B16..8:  5.1%  0.8%  0.1%  direct: 0.0%  skip:93.5%  L0:54.0% L1:45.1% BI: 0.9%\n",
      "\u001b[1;36m[libx264 @ 0x5616457a1e00] \u001b[0m8x8 transform intra:62.9% inter:6.5%\n",
      "\u001b[1;36m[libx264 @ 0x5616457a1e00] \u001b[0mcoded y,uvDC,uvAC intra: 5.7% 13.8% 13.2% inter: 0.2% 1.3% 1.2%\n",
      "\u001b[1;36m[libx264 @ 0x5616457a1e00] \u001b[0mi16 v,h,dc,p: 85%  6%  9%  0%\n",
      "\u001b[1;36m[libx264 @ 0x5616457a1e00] \u001b[0mi8 v,h,dc,ddl,ddr,vr,hd,vl,hu: 32%  3% 65%  0%  0%  0%  0%  0%  0%\n",
      "\u001b[1;36m[libx264 @ 0x5616457a1e00] \u001b[0mi4 v,h,dc,ddl,ddr,vr,hd,vl,hu: 18% 10% 57%  3%  4%  2%  2%  2%  2%\n",
      "\u001b[1;36m[libx264 @ 0x5616457a1e00] \u001b[0mi8c dc,h,v,p: 87%  6%  7%  0%\n",
      "\u001b[1;36m[libx264 @ 0x5616457a1e00] \u001b[0mWeighted P-Frames: Y:6.7% UV:0.0%\n",
      "\u001b[1;36m[libx264 @ 0x5616457a1e00] \u001b[0mref P L0: 57.3% 14.7% 15.5% 12.2%  0.4%\n",
      "\u001b[1;36m[libx264 @ 0x5616457a1e00] \u001b[0mref B L0: 80.9% 15.8%  3.3%\n",
      "\u001b[1;36m[libx264 @ 0x5616457a1e00] \u001b[0mref B L1: 94.1%  5.9%\n",
      "\u001b[1;36m[libx264 @ 0x5616457a1e00] \u001b[0mkb/s:144.38\n"
     ]
    }
   ],
   "source": [
    "!ffmpeg -f image2 -r 30 -i ./Images/img_%02d.jpg -vcodec libx264 ./test.mp4"
   ]
  },
  {
   "cell_type": "code",
   "execution_count": 7,
   "metadata": {
    "colab": {
     "base_uri": "https://localhost:8080/",
     "height": 501
    },
    "executionInfo": {
     "elapsed": 4216,
     "status": "ok",
     "timestamp": 1620868396152,
     "user": {
      "displayName": "Gilbert Lim",
      "photoUrl": "https://lh3.googleusercontent.com/a-/AOh14GjwcbshxcCHERWh50XPKtBiG3JN7W7moOjJPdp_=s64",
      "userId": "07062558111207590160"
     },
     "user_tz": -540
    },
    "id": "fg8d4L3lr7ff",
    "outputId": "0ea2a162-e642-4b49-89d7-7256e62d9b81"
   },
   "outputs": [
    {
     "data": {
      "text/html": [
       "<video width=\"640\" height=\"480\" alt=\"test\" controls>\n",
       "                        <source src=\"data:video/mp4;base64,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\" type=\"video/mp4\" />\n",
       "                      </video>"
      ],
      "text/plain": [
       "<IPython.core.display.HTML object>"
      ]
     },
     "execution_count": 7,
     "metadata": {
      "tags": []
     },
     "output_type": "execute_result"
    }
   ],
   "source": [
    "def show_local_mp4_video(file_name, width=640, height=480):\n",
    "  import io\n",
    "  import base64\n",
    "  from IPython.display import HTML\n",
    "  video_encoded = base64.b64encode(io.open(file_name, 'rb').read())\n",
    "  return HTML(data='''<video width=\"{0}\" height=\"{1}\" alt=\"test\" controls>\n",
    "                        <source src=\"data:video/mp4;base64,{2}\" type=\"video/mp4\" />\n",
    "                      </video>'''.format(width, height, video_encoded.decode('ascii')))\n",
    "\n",
    "show_local_mp4_video('test.mp4', width=640, height=480)"
   ]
  },
  {
   "cell_type": "markdown",
   "metadata": {
    "id": "Iu8UJ-IBQqnr"
   },
   "source": [
    "# Another Videos"
   ]
  },
  {
   "cell_type": "markdown",
   "metadata": {
    "id": "FkhBpSPQQ6kO"
   },
   "source": [
    "#### valid\n"
   ]
  },
  {
   "cell_type": "code",
   "execution_count": 8,
   "metadata": {
    "colab": {
     "base_uri": "https://localhost:8080/"
    },
    "executionInfo": {
     "elapsed": 1709,
     "status": "ok",
     "timestamp": 1620868396679,
     "user": {
      "displayName": "Gilbert Lim",
      "photoUrl": "https://lh3.googleusercontent.com/a-/AOh14GjwcbshxcCHERWh50XPKtBiG3JN7W7moOjJPdp_=s64",
      "userId": "07062558111207590160"
     },
     "user_tz": -540
    },
    "id": "P-PrFzCnz0K3",
    "outputId": "dc5ff8b0-b272-47a9-c063-54443985362d"
   },
   "outputs": [
    {
     "data": {
      "text/plain": [
       "<bound method NDFrame.head of           0         1        2        3  ...       32       33       34        35\n",
       "0   307.567  162.9790  319.362  205.947  ...    0.000    0.000  328.527  161.6550\n",
       "1   306.298  162.9510  319.351  205.937  ...    0.000    0.000  328.495  161.6810\n",
       "2   306.245  161.7040  319.334  204.683  ...    0.000    0.000  328.481  161.6570\n",
       "3   305.000  161.6520  318.097  204.647  ...    0.000    0.000  328.431  161.6530\n",
       "4   303.722  161.6330  318.080  203.405  ...    0.000    0.000  327.182  161.6010\n",
       "5   302.412  161.6700  318.023  203.412  ...    0.000    0.000  327.123  161.6270\n",
       "6   299.781  161.6780  316.793  203.395  ...    0.000    0.000  325.838  161.6510\n",
       "7   297.190  162.9550  316.709  204.640  ...    0.000    0.000  321.942  161.6600\n",
       "8   295.942  162.9700  315.458  207.249  ...    0.000    0.000  318.103  162.9640\n",
       "9   293.291  170.7610  312.854  211.148  ...    0.000    0.000  317.996  168.1210\n",
       "10  293.274  173.4070  310.235  215.074  ...    0.000    0.000  315.445  172.0960\n",
       "11  288.068  183.7630  308.968  224.152  ...    0.000    0.000  314.127  182.5070\n",
       "12  286.779  196.8430  308.920  233.373  ...    0.000    0.000  311.538  194.2110\n",
       "13  288.044  208.5300  307.634  243.710  ...    0.000    0.000  310.205  203.3830\n",
       "14  286.797  212.4660  307.604  251.544  ...  273.744  216.349  308.956  212.4330\n",
       "15  286.840  212.4980  307.677  254.158  ...    0.000    0.000  314.122  213.7680\n",
       "16  286.826  211.1620  307.665  245.117  ...    0.000    0.000  314.102  209.8370\n",
       "17  286.758  198.1400  307.655  233.352  ...    0.000    0.000  314.140  198.1020\n",
       "18  291.983  182.4600  307.597  213.715  ...    0.000    0.000  316.688  181.1430\n",
       "19  298.499  160.3280  308.934  191.650  ...    0.000    0.000  318.056  159.0320\n",
       "20  295.868  140.8200  308.926  172.033  ...    0.000    0.000  318.012  139.4320\n",
       "21  297.151  126.4180  308.895  157.733  ...  289.350  129.090  318.027  121.2360\n",
       "22  295.824  109.4940  307.661  143.400  ...    0.000    0.000  316.776  108.2020\n",
       "23  295.815  104.2790  307.632  138.131  ...    0.000    0.000  316.779   99.1223\n",
       "24  294.538   99.0829  307.650  131.677  ...    0.000    0.000  316.720   97.7247\n",
       "25  293.278   99.0890  307.646  131.680  ...    0.000    0.000  316.711   97.7471\n",
       "26  293.296  104.2870  307.646  138.128  ...    0.000    0.000  316.706   99.1314\n",
       "27  293.246  109.5030  307.660  143.387  ...    0.000    0.000  315.441  108.1600\n",
       "28  293.291  122.5340  307.676  157.714  ...  285.453  128.953  315.438  119.8840\n",
       "29  289.392  140.7430  307.615  172.083  ...    0.000    0.000  315.393  139.4080\n",
       "30  295.848  161.6580  307.628  192.919  ...  306.272  160.331  314.112  160.2640\n",
       "\n",
       "[31 rows x 36 columns]>"
      ]
     },
     "execution_count": 8,
     "metadata": {
      "tags": []
     },
     "output_type": "execute_result"
    }
   ],
   "source": [
    "df2 = pd.read_csv('/content/drive/MyDrive/Colab Notebooks/OpenPose/datasets/X_val.txt')\n",
    "\n",
    "df2.columns = [str(i) for i in range(36)]\n",
    "\n",
    "df2.head"
   ]
  },
  {
   "cell_type": "code",
   "execution_count": 9,
   "metadata": {
    "executionInfo": {
     "elapsed": 1329,
     "status": "ok",
     "timestamp": 1620868396680,
     "user": {
      "displayName": "Gilbert Lim",
      "photoUrl": "https://lh3.googleusercontent.com/a-/AOh14GjwcbshxcCHERWh50XPKtBiG3JN7W7moOjJPdp_=s64",
      "userId": "07062558111207590160"
     },
     "user_tz": -540
    },
    "id": "jps7fq6R2XJh"
   },
   "outputs": [],
   "source": [
    "col = [str(i) for i in range(36)]\n",
    "\n",
    "arr = [[] * i for i in range(32)]\n",
    "\n",
    "for i in range(31):\n",
    "    for c in col:\n",
    "        arr[i].append(df2[c][i])"
   ]
  },
  {
   "cell_type": "code",
   "execution_count": 10,
   "metadata": {
    "executionInfo": {
     "elapsed": 990,
     "status": "ok",
     "timestamp": 1620868396681,
     "user": {
      "displayName": "Gilbert Lim",
      "photoUrl": "https://lh3.googleusercontent.com/a-/AOh14GjwcbshxcCHERWh50XPKtBiG3JN7W7moOjJPdp_=s64",
      "userId": "07062558111207590160"
     },
     "user_tz": -540
    },
    "id": "eHGM1XUINTzQ"
   },
   "outputs": [],
   "source": [
    "from google.colab.patches import cv2_imshow\n",
    "import os\n",
    "\n",
    "\n",
    "if not os.path.exists('Videos'):\n",
    "    os.mkdir('Videos')\n",
    "\n",
    "if not os.path.exists('Images'):\n",
    "    os.mkdir('Images')\n",
    "\n",
    "\n",
    "size = (480, 640)\n",
    "fps = 30\n",
    "img_arr = []\n",
    "\n",
    "\n",
    "for i in range(31):\n",
    "    img = np.zeros(size + (3,))\n",
    "\n",
    "    for idx, xy in enumerate(arr[i]):\n",
    "        if (idx + 1)% 2 == 0 :\n",
    "            x,y = (np.float32(arr[i][idx - 1]), np.float32(arr[i][idx]))\n",
    "            cv2.circle(img, (x,y), 1, (0,255,0), cv2.LINE_4) # image, (x,y), radius, color)\n",
    "\n",
    "\n",
    "    img_path = './Images/img2_' + str('%02d' %i) + '.jpg'\n",
    "    cv2.imwrite(img_path, img)"
   ]
  },
  {
   "cell_type": "code",
   "execution_count": 11,
   "metadata": {
    "colab": {
     "base_uri": "https://localhost:8080/"
    },
    "executionInfo": {
     "elapsed": 1105,
     "status": "ok",
     "timestamp": 1620868397172,
     "user": {
      "displayName": "Gilbert Lim",
      "photoUrl": "https://lh3.googleusercontent.com/a-/AOh14GjwcbshxcCHERWh50XPKtBiG3JN7W7moOjJPdp_=s64",
      "userId": "07062558111207590160"
     },
     "user_tz": -540
    },
    "id": "74r-EyTMN-QF",
    "outputId": "a3028997-1cc7-4979-c639-b8cbdcf69802"
   },
   "outputs": [
    {
     "name": "stdout",
     "output_type": "stream",
     "text": [
      "ffmpeg version 3.4.8-0ubuntu0.2 Copyright (c) 2000-2020 the FFmpeg developers\n",
      "  built with gcc 7 (Ubuntu 7.5.0-3ubuntu1~18.04)\n",
      "  configuration: --prefix=/usr --extra-version=0ubuntu0.2 --toolchain=hardened --libdir=/usr/lib/x86_64-linux-gnu --incdir=/usr/include/x86_64-linux-gnu --enable-gpl --disable-stripping --enable-avresample --enable-avisynth --enable-gnutls --enable-ladspa --enable-libass --enable-libbluray --enable-libbs2b --enable-libcaca --enable-libcdio --enable-libflite --enable-libfontconfig --enable-libfreetype --enable-libfribidi --enable-libgme --enable-libgsm --enable-libmp3lame --enable-libmysofa --enable-libopenjpeg --enable-libopenmpt --enable-libopus --enable-libpulse --enable-librubberband --enable-librsvg --enable-libshine --enable-libsnappy --enable-libsoxr --enable-libspeex --enable-libssh --enable-libtheora --enable-libtwolame --enable-libvorbis --enable-libvpx --enable-libwavpack --enable-libwebp --enable-libx265 --enable-libxml2 --enable-libxvid --enable-libzmq --enable-libzvbi --enable-omx --enable-openal --enable-opengl --enable-sdl2 --enable-libdc1394 --enable-libdrm --enable-libiec61883 --enable-chromaprint --enable-frei0r --enable-libopencv --enable-libx264 --enable-shared\n",
      "  libavutil      55. 78.100 / 55. 78.100\n",
      "  libavcodec     57.107.100 / 57.107.100\n",
      "  libavformat    57. 83.100 / 57. 83.100\n",
      "  libavdevice    57. 10.100 / 57. 10.100\n",
      "  libavfilter     6.107.100 /  6.107.100\n",
      "  libavresample   3.  7.  0 /  3.  7.  0\n",
      "  libswscale      4.  8.100 /  4.  8.100\n",
      "  libswresample   2.  9.100 /  2.  9.100\n",
      "  libpostproc    54.  7.100 / 54.  7.100\n",
      "Input #0, image2, from './Images/img2_%02d.jpg':\n",
      "  Duration: 00:00:01.03, start: 0.000000, bitrate: N/A\n",
      "    Stream #0:0: Video: mjpeg, yuvj420p(pc, bt470bg/unknown/unknown), 640x480 [SAR 1:1 DAR 4:3], 30 fps, 30 tbr, 30 tbn, 30 tbc\n",
      "Stream mapping:\n",
      "  Stream #0:0 -> #0:0 (mjpeg (native) -> h264 (libx264))\n",
      "Press [q] to stop, [?] for help\n",
      "\u001b[1;36m[libx264 @ 0x557bcea45e00] \u001b[0musing SAR=1/1\n",
      "\u001b[1;36m[libx264 @ 0x557bcea45e00] \u001b[0musing cpu capabilities: MMX2 SSE2Fast SSSE3 SSE4.2 AVX FMA3 BMI2 AVX2\n",
      "\u001b[1;36m[libx264 @ 0x557bcea45e00] \u001b[0mprofile High, level 3.0\n",
      "\u001b[1;36m[libx264 @ 0x557bcea45e00] \u001b[0m264 - core 152 r2854 e9a5903 - H.264/MPEG-4 AVC codec - Copyleft 2003-2017 - http://www.videolan.org/x264.html - options: cabac=1 ref=3 deblock=1:0:0 analyse=0x3:0x113 me=hex subme=7 psy=1 psy_rd=1.00:0.00 mixed_ref=1 me_range=16 chroma_me=1 trellis=1 8x8dct=1 cqm=0 deadzone=21,11 fast_pskip=1 chroma_qp_offset=-2 threads=3 lookahead_threads=1 sliced_threads=0 nr=0 decimate=1 interlaced=0 bluray_compat=0 constrained_intra=0 bframes=3 b_pyramid=2 b_adapt=1 b_bias=0 direct=1 weightb=1 open_gop=0 weightp=2 keyint=250 keyint_min=25 scenecut=40 intra_refresh=0 rc_lookahead=40 rc=crf mbtree=1 crf=23.0 qcomp=0.60 qpmin=0 qpmax=69 qpstep=4 ip_ratio=1.40 aq=1:1.00\n",
      "Output #0, mp4, to './test2.mp4':\n",
      "  Metadata:\n",
      "    encoder         : Lavf57.83.100\n",
      "    Stream #0:0: Video: h264 (libx264) (avc1 / 0x31637661), yuvj420p(pc), 640x480 [SAR 1:1 DAR 4:3], q=-1--1, 30 fps, 15360 tbn, 30 tbc\n",
      "    Metadata:\n",
      "      encoder         : Lavc57.107.100 libx264\n",
      "    Side data:\n",
      "      cpb: bitrate max/min/avg: 0/0/0 buffer size: 0 vbv_delay: -1\n",
      "frame=   31 fps=0.0 q=-1.0 Lsize=      15kB time=00:00:00.93 bitrate= 134.4kbits/s speed=6.79x    \n",
      "video:14kB audio:0kB subtitle:0kB other streams:0kB global headers:0kB muxing overhead: 8.053738%\n",
      "\u001b[1;36m[libx264 @ 0x557bcea45e00] \u001b[0mframe I:1     Avg QP:13.52  size:  1608\n",
      "\u001b[1;36m[libx264 @ 0x557bcea45e00] \u001b[0mframe P:18    Avg QP:28.33  size:   453\n",
      "\u001b[1;36m[libx264 @ 0x557bcea45e00] \u001b[0mframe B:12    Avg QP:30.98  size:   339\n",
      "\u001b[1;36m[libx264 @ 0x557bcea45e00] \u001b[0mconsecutive B-frames: 38.7% 25.8%  9.7% 25.8%\n",
      "\u001b[1;36m[libx264 @ 0x557bcea45e00] \u001b[0mmb I  I16..4: 72.3% 24.9%  2.8%\n",
      "\u001b[1;36m[libx264 @ 0x557bcea45e00] \u001b[0mmb P  I16..4:  0.1%  1.0%  0.4%  P16..4:  3.2%  0.4%  0.1%  0.0%  0.0%    skip:94.8%\n",
      "\u001b[1;36m[libx264 @ 0x557bcea45e00] \u001b[0mmb B  I16..4:  0.0%  0.2%  0.3%  B16..8:  3.7%  0.4%  0.0%  direct: 0.0%  skip:95.3%  L0:61.9% L1:37.7% BI: 0.4%\n",
      "\u001b[1;36m[libx264 @ 0x557bcea45e00] \u001b[0m8x8 transform intra:33.3% inter:7.0%\n",
      "\u001b[1;36m[libx264 @ 0x557bcea45e00] \u001b[0mcoded y,uvDC,uvAC intra: 4.3% 11.4% 10.8% inter: 0.1% 0.7% 0.7%\n",
      "\u001b[1;36m[libx264 @ 0x557bcea45e00] \u001b[0mi16 v,h,dc,p: 94%  2%  4%  0%\n",
      "\u001b[1;36m[libx264 @ 0x557bcea45e00] \u001b[0mi8 v,h,dc,ddl,ddr,vr,hd,vl,hu: 32%  5% 63%  0%  0%  0%  0%  0%  0%\n",
      "\u001b[1;36m[libx264 @ 0x557bcea45e00] \u001b[0mi4 v,h,dc,ddl,ddr,vr,hd,vl,hu: 16% 11% 59%  2%  3%  2%  2%  2%  2%\n",
      "\u001b[1;36m[libx264 @ 0x557bcea45e00] \u001b[0mi8c dc,h,v,p: 89%  5%  5%  0%\n",
      "\u001b[1;36m[libx264 @ 0x557bcea45e00] \u001b[0mWeighted P-Frames: Y:5.6% UV:0.0%\n",
      "\u001b[1;36m[libx264 @ 0x557bcea45e00] \u001b[0mref P L0: 66.5% 11.4% 13.3%  8.2%  0.5%\n",
      "\u001b[1;36m[libx264 @ 0x557bcea45e00] \u001b[0mref B L0: 86.2% 13.0%  0.8%\n",
      "\u001b[1;36m[libx264 @ 0x557bcea45e00] \u001b[0mref B L1: 97.8%  2.2%\n",
      "\u001b[1;36m[libx264 @ 0x557bcea45e00] \u001b[0mkb/s:107.04\n"
     ]
    }
   ],
   "source": [
    "!ffmpeg -f image2 -r 30 -i ./Images/img2_%02d.jpg -vcodec libx264 ./test2.mp4"
   ]
  },
  {
   "cell_type": "code",
   "execution_count": 12,
   "metadata": {
    "colab": {
     "base_uri": "https://localhost:8080/",
     "height": 501
    },
    "executionInfo": {
     "elapsed": 1085,
     "status": "ok",
     "timestamp": 1620868397702,
     "user": {
      "displayName": "Gilbert Lim",
      "photoUrl": "https://lh3.googleusercontent.com/a-/AOh14GjwcbshxcCHERWh50XPKtBiG3JN7W7moOjJPdp_=s64",
      "userId": "07062558111207590160"
     },
     "user_tz": -540
    },
    "id": "EY_CAs4pQEsW",
    "outputId": "76b60671-0ad2-4993-840e-7720c4f03608"
   },
   "outputs": [
    {
     "data": {
      "text/html": [
       "<video width=\"640\" height=\"480\" alt=\"test\" controls>\n",
       "                        <source src=\"data:video/mp4;base64,AAAAIGZ0eXBpc29tAAACAGlzb21pc28yYXZjMW1wNDEAAAAIZnJlZQAAOLxtZGF0AAACrgYF//+q3EXpvebZSLeWLNgg2SPu73gyNjQgLSBjb3JlIDE1MiByMjg1NCBlOWE1OTAzIC0gSC4yNjQvTVBFRy00IEFWQyBjb2RlYyAtIENvcHlsZWZ0IDIwMDMtMjAxNyAtIGh0dHA6Ly93d3cudmlkZW9sYW4ub3JnL3gyNjQuaHRtbCAtIG9wdGlvbnM6IGNhYmFjPTEgcmVmPTMgZGVibG9jaz0xOjA6MCBhbmFseXNlPTB4MzoweDExMyBtZT1oZXggc3VibWU9NyBwc3k9MSBwc3lfcmQ9MS4wMDowLjAwIG1peGVkX3JlZj0xIG1lX3JhbmdlPTE2IGNocm9tYV9tZT0xIHRyZWxsaXM9MSA4eDhkY3Q9MSBjcW09MCBkZWFkem9uZT0yMSwxMSBmYXN0X3Bza2lwPTEgY2hyb21hX3FwX29mZnNldD0tMiB0aHJlYWRzPTMgbG9va2FoZWFkX3RocmVhZHM9MSBzbGljZWRfdGhyZWFkcz0wIG5yPTAgZGVjaW1hdGU9MSBpbnRlcmxhY2VkPTAgYmx1cmF5X2NvbXBhdD0wIGNvbnN0cmFpbmVkX2ludHJhPTAgYmZyYW1lcz0zIGJfcHlyYW1pZD0yIGJfYWRhcHQ9MSBiX2JpYXM9MCBkaXJlY3Q9MSB3ZWlnaHRiPTEgb3Blbl9nb3A9MCB3ZWlnaHRwPTIga2V5aW50PTI1MCBrZXlpbnRfbWluPTI1IHNjZW5lY3V0PTQwIGludHJhX3JlZnJlc2g9MCByY19sb29rYWhlYWQ9NDAgcmM9Y3JmIG1idHJlZT0xIGNyZj0yMy4wIHFjb21wPTAuNjAgcXBtaW49MCBxcG1heD02OSBxcHN0ZXA9NCBpcF9yYXRpbz0xLjQwIGFxPTE6MS4wMACAAAAGRGWIhACf7IN48mD0+VA8IZOEDaHYDPGHtAlSiRsBXtrnKDuv92y6QjWDeI6tfrvRjpbQBQB4DOt7dnr5gwJ03ZGaZXnMi2rgAAADAAADAAFEHLrnNTPq78kd6arLAAADAEBAOYFmC1h1BcBqB6yMkuUv7g+vmIdg29DZY32rxKHMJ46JbTO9JU6C+hXF1zjMLBoEPMaTWueYDia5PzERyoOcnO11rwJt5Y2Gs8KUWBx/bDVEZ5LhO78sOaLWJOu/FGJnVXkbuU0kXLW7cgOVIt8VugIR0qGHvqtx+syKQcoiSonqzTWQhQHDty93XZ9Fn/tbbla4dQxP13+diHTcB5c4Yz4aArtekiNmxc4SeYplnNif4PO4bvid++wWQW6rrnl8PwAP80XouFML03R9mE7IPNszr+thhoHuaygSI4M5QVAVwPiCWo5YIQUdaKAQ7ctYb4InQj5UEoUQesYZH+7sNPoHfsHGACU/dJEjQidnSbdO+vUwnc2aQUhiYGXL+eCdLcsovQtca/FdZIYYBo4GpXp4fFR0TD/dKGxfiGjzOFR1ULWtbMTUBU0lYn6NfPcsh9nk2W0AVmBTXEgPDP/CMsLnBqqlP9I09A8vyqBRrdweKYfNJvXnOHswzxkkoJUCoBa0k6+WGBtpYQW2SvTU2t0VQMad3u0n49YxP2g+er3/JxG47JdSv/PBrrvuvcJ+IGRmKPHlVM7sA2I7mCLq9CsoBtUB7yJemmb6B1dzIvaOYcjLe+EZSDPb37T+WMIO5Czw/YdWYXnAEdyHkNRqXZ77JL1WtKt0ocTo/W52Eidh9gm9LTZt0FRz6UnPZhmV3xhrLwC9AaLKB2b1cikt3vWK9eWnH55vvL8ZjMcvWbOPm7e3peCjs4ck6mdw6zm9XpJLpzy9IYAzEG5aKGjwbH0gzwft3JUxo1WsKrLSgoFpV1UnlzHO3BsWXMTV6yBpp9jkb+fu3izq3AJ6CheOMd1BfwHotWUIiedqS9OQon3H2RquOYRu/06nDUln/r7QHo2D0bl/f+NvX/fBHO4OzlHiTGHpz7DjXIH6JlOA3PI94qHIfTNRu6KW8ic2IW0edXwq0ZQqoOcgGTBb5bPA1hnc4iEwaIUR01KkmKbecj5N4zMigCXLL9mdkI5Z57LGxqAxynaGt4Ugx+h+YK5ajC3cWXB8XO8fJv9t9FOP1d8tU/GSxWLlThpaT8UfzNOkBzU27o/km+sbPEc9j8e5qtWoZ4FvP4q69K6xsU2ex62nHRUBvKunKf/IfN7rAhX4CKgCNJmmo8OGM99+yCV3OuqBVC4DwAgRzRCcW8Hj7yntfnbeb95MFOqx9s0Sperpb12CV5DkobG44QIM1kPb38uuUMQcfitevegPOeGg8PVNtPG7gsalDCSYnRjX8+NDn2+EgYaVYt4rXBnBIGag/VuQ8c4vTBLDShcg8cqBS9/+NFXRIrczwt3NaFkKowxds3Bpz5OvOWyN69fG1PC7ahUellUcVQiwmacWHJ/NEnbN877NJi4hFl0jh+403hzbS2yaPFtvYyusAXDB+edr/NkbVHUbGUZTfbnsdc3A3csnO1jbSJOsheFvUopoxsIvJcVqZ02bNzHfQgdIi0hZouQAA/pCgr/8b4IV1Q89Oh7KZAE7F9Sd9abevplPqqaelJla2+AxHX3GJEELrxdOFxHCDy0EOuEKCEGEp2Iv65pmupME2CwExzh0ifGC1fORwExXt5ajfV1mHrJNErU1M9xKoGtl8RN6ddse2NHvpC1g4mpJy6GqWJjrwJsu0UenEBZxT4/f0O6zIh+lGzF/XbQmYgEfwOQ4UUn0brA5k765l1vbCDltVS2Pcbmj4BF4AAt9kOPAAAwxTw9sTv0vcDcVlvIjmHZQYUTA2sHRTFrm0ECJYv5AmA0JsJYPbu2AC0dPDPQ6aGdnsWDJ7Asu3nO82CNG5IzyY+Qd+w9nTa0d7aGuppT9yN+KVNvLLdI2gJECaHS/xQskSZP+XhenCml19exYawlmDFoGi9X80VOsiO7d3vr5vPBJL9NfoeZy+dFx16T3g5J+U9imeHRN64n6xKqltTFfXeRm8SF77gWQQPDmYIGntG26nnu1DVanfbAAEP9gYqKwAAADAAADAAMDAAABXkGaJGxN/2u3sNQAAAMAAAMAD3mQ2+7aplgTACxzo36ix1KV33wltNJYc+f/s9pP29dgc9+FM7vkeFEtWQBD7u2ha+D630r9bZmNjFDmzBxzXwzuQmKtrATzDxZQTRVhHnZFfzi3X/sZQnrE63q1SlGKrG+uYU5w+Z6rbr6EgdzkI+8GNfupAsCIZ3cEvQ1/y9PYd3ssqGAVsQwAQSXpTm3ElSf/JfxCOTCnpllPmBFAnTd8M4K3AZ1XIrH7FeHXEr727EW4L8JPppg8tZPgWrKF9oi7l17iw6tmLZmQDedVRESa41biLqf11gkX/+UGLPeZ6mqgHc/T9khWw73kfRAWpJ5AKpO8hYFOVdk8Tyr7SRjtlFNTQRF9oA5C20DITR5an5INzEzEvjf1sD3eWKNgbM2OnBaN1OnYsepvjQsqMGW/bazM0nPyIAzsqWyil8vJtDp9B1S7OL4f7AWgAAAAl0GeQniEP9cXBNeH4UatI9jsq9SJ/jb/setj/SFCWVXHklkDImbsoo//6Jc6Nho0MgvqexKJ4BfIRz3vLDzy6ZIIGgYNg1bGc2sZStcsU+cWS5oL3pelf6QgKO1tQkRRwYdZv+Tw1BDNjkAsmwXN67IexGtBrWbR+L/uJX5dJejPR46Oh/WNXCRest3Eda27e3+hAn8QN6EAAABCAZ5hdEKf3MQapgYgqCSBnG+hIpHgav0pF22XC9beTUy/SgJhyhAdZg+AEqNx8OiuovfL1ZRiNA48XrsKpiDMYQu4AAAAVgGeY2pCnwACRdpFlERUidH8cMiyo2MNJRPwrE+ahAE4j2OhE/rbNJSIHpMkaeRW4qNzLI0JOsiLf+7PsmnRywaMItnNSkqnRlHXT/QFBFm7E7ZriUTdAAAA1kGaZUmoQWiZTAm/AAADAUUEZopXNtVrXM/8/msbw1zU/GCDZdwsVItAnmJfDzQeKNV3iNH7FO37+ASC4MZ/vaWNFP1rurUHgRkwOLlbwjh5QvUatebIsjUBf61/rdbaGt3g4GwgUMBdlFzoI4VS9tF0Klr2fIqf4g7rDxmCjPZHTgIeMGVLxksjZcJ/BBBrlBtK3YCs4tBs1NcKZO0xF7ke5Ts8ZbbgwP/oDE6yn5xKgbq53dlRKnBg+gnfPs26iK2AFubOyTxyuskZ2iDIV1s1BSFii2kAAAEKQZqHSeEKUmUwURLEfwAAAwJsrX7MJa846resgWihoOVoijyGM/8wmlNf4HI+QpYvCBoUhxAwIvRhwO9E2aKsSMro5/c3r16DcGlOqhWRNWWYc1pDwKGWoE6V6pxiwkMesIOyK1xO9nJxX0muoZhQBJDCLjuGHXaxu4L4LSMzCIPu3tdznIZO4tbFuKWbmyrvGEapYXWxBV8XBVl2/mpcSolfKquTs1tFyWNBdKD1Pt/wI2wa9k2QYPCnxXtSVT8aKiLbH4WG6AMVLUArVo5J8gjd6DTpOoFdGuzsZ7dSz//tmM2wdWRAEUOEu/p8Q/oqN8mwTiAPH/yoPjnp22pGjKRMxXdUPwGfwj8AAABbAZ6makKfAAJF3s9r7HOf/VE63JUCNfcS3Spd4xhdu1e02G4iRgK8u4NdrBWzRMyPutJFsmnPIycWpozNVmK55g1u65lnnmA0fR1P26fHs4gC0eZ4pH4Ek68PSQAAAPdBmqhJ4Q6JlMCK/wAABWjQnt8dHM9YmqIX1dLIY+OMT1VUplhopKpcuz+oO5RYmSc/cWVFqxrIrH6iTtdWzA8WZzgwNC0hZRDrpDT0NEqUIsVYyqInerm3oIzc+ihtvs2GVghvMDcWK08PsHx/1j90BNT6ZmMUvai6PizpYThy3oJ4yIIRVdNn2WeySo13U2ln0NRAPKdKrEA32bJDAuKhOBlC4aunxASRn5JmDtot9Zaz9+z3IH0xfnMJmX5ZELTq408yf6FrpMW+fkztL6gvyLOJ3FyCvaPX0IPPyC9MvwbHmzuQtBRuDG9mvNr/F7IXhKZUKjHQAAABC0GayUvhCEPJ01FAIr8AAAVeB6yRdkAIpxsZerC7ElTxsyC3RVCdg6jJ0qHWF5+fL/Wy2eWOr4UhpB+TC6gP3jord5Odec9w7wJV+SPgff9imiZ6KYWoqGcQprOVlg5kew58eFCvXGsAKowPN2+OdtTKWpgif0TRDEaksP6UqMmNMsTRuZhOt57cVwbqmvhw0j1xV7qJC4F8nmBEEiygvajPJqx75DwsdBrgRzdQaDbzy37NNb34xKobvWvq4sH/N9/BqawFgHV884DYnrizcema6ebH2ob37wDBN07FH/9S9zxQfrhP5lUb5ixEv+FrReUhwfzEw9W/2DgEFY10ZOJExmH0G7VW27fDmgAAAURBmutJ4Q8mUwURPHcAAA0/hAE3Itfr03np/0Mv9Nl/YKZdncYx9TXsLyGNnwghYoxWZqpjrqNZlSeK8UG83/09bNhQpD3V70Zmj31wugns70CX/O1+YZ/FAVO+oK7vjMEACXM3XfgdrvqO+El1pET/1npNEqmA5OBvBcDSE008bzltDusEwdo6OeswcBSNvnV79T93zMvuRWEAnSwvJuuo6v6i1Uxvzdrq2aKL7lsx/kSl76MtRrDzHh3s393NltlZRn0FnJ8f9upEieJMxekEHLb7j54gfopS0rBjoSaN04uWX2tyibX57gsV46NmO0afbxjRmi20URHbtDA5sYx+rNcNWSYBgcuGSNRmzIBFDBk1tCfHa0CBEJY+ciziVDKH2ooRufelDP56OMPg1VvCXabaK20KoWh+EQa5xTfvUGQJ4hUAAACpAZ8KakKfAAJDimRC3bw9IHRbU5b//Na/In/ewMfqReqt3ahypR4ii8QUntsjBLrmyqny+jRqSWot8QDGrC0UU3Qje4Xwu8XfLyxlTUGJO/v8r7+/3gVPywsdYJMWMr8arR8FkfahzdZsN+QheRPlMx8KnzyAPIX9gXIXmnPnj6lCfS21JqTk5V4hpxxnQcmVtSjuwLvoiLh8lTphB6H1QqvkKDaQDjKtnAAAAUZBmwxJ4Q8mUwIQ/wAABnfE6cyqskuWcLFsOgqBa+gJLbp09Y29hFd1+eh3Fs2aNIbCUCVvhX+iztMeBLm/ehcMNYyH7cJngXDp1vYFPsuCXAprTJzlctKTpJ73CVfL2YAgcoUdMPvkBDVpp+Dql1c1453LOQCXGDOMmZoMigueY4vNCNNLzrFp5vU6JXw831kZ3+yEZXCZ/KGmmTUs0Rp/mFMMWO+g7gum02XbweK59qH5Qj3Ld2xK/GyBzen8ue6PRUIcjSN8OOcsHi2nAOXu4StFEKrxUK18YL45pSZNkU8PjEXImKs+DODxob5adb+/HzqBuXX1VFlNQA/8YNTIEEEoR+1eSKcuqD86xEoioHHpnNnX55Uve6IR24yfilGwRwd07+qiUYRunpjMwLrsRZ+BBU5RF4XczNHsdjuLR6WmNtRV9AAAAORBmy1J4Q8mUwIU/wAABP+MLSzgQf6+IP32o46angv3gG8j25bARmyT/xfZpwL9KR4BkLh6tn0tdZtMAuLhRY0lnaVble7/lNdxkVSCGKuTJHFW0pCLr0qvCtlGTDYyecug+AObgoHXxtg481GQ4+oTlurptlf5yeReD9cUD788KuqICDAHGQcdaD296cvb0hcEOjk1m9E3LoVvkfwH0mieyXppWNiTBbwGD+AJ++cjmiAocSJAvj3Yg/51gbqpFi+vNk/p0FO1482mkytpKgJW8NqwmSjwy1Lvz9wPWLCYHYWCKDkAAAJiQZtOSeEPJlMCE/+YlB6j0FymeOF85i5QvAAAAwAAAwAG5nb7tqmWCUqfCA7Hur9g/VAl/TfpR3T1wh67g53VwAz+9QN3NN22qc+5uSAczrLLAkcdoTZF7Ad2/bp0j4+m+rE6WpP7VG1pGyvRE5N/rCEcJD+j+7Gs3z74lKjmO8mMeGclGOi0dFDn5QgoXFSlng1gjAEmF5REAF3R0BSRYh2iJpnq11QGrEBtXaw1J7uDccbYGL1kZCzD1gIjZmkZh3ebgPIUE/T2nBz+7p5yxs4KfOi9eUpydtsyXpvQkpgCNLfBteXG7bLBRjdzg2a8RfxLzL4/NG1hFFO09uM7Zst9u+WPSNDQOE/hYxvzVB+5B8cu4R4WR0/A+Hz9QgCp3IR4A+r71Y4wXqg5jBP74zk2D+/W8DQYfBl/b1+WXO8oFuo+Vj9Bs0vqGiHl1UWhUmH/bYqjX/abDFfHZ5lCQVm9GV7NhEFNLnJWByNAUQwLV6fAQB4bMGQQAEaVA3e2P22KVGQuieygNHPHkgqc6x6UpR5KLmLOeru4zDbJ7KHEo2fzm0gAFkVOgBRmP+SK36xymHa/4WYLwTfOKKnpvZsqLPRl0zANG8i66xruSEwMzSLvcgEarHcXzxUEwMQTeCPdqHn2WUFZugq4QzyZASBE+ALV4vcGkdBDe4qZCkv0YC91uNvHWmZw6WrFuPLfxVz86ZcbiNx7wmcocq50efzpS1YIcqGAb2envmUtVVRstYUilpr94cZQGBkbBhEcEJ8l7WHOslW1jKmbwSP9sp6LK4aY5UZLnqmt/QudbPZtgQAAAoNBm3JJ4Q8mUwI7/+C/YrAChXDJY1I8bCdvxk8GoTcNih7PDGEL5eMbF4wbSCWfvv4priLtkicfyzGb38P4oNDq8oVSfiEd6An9JyW7bTFFZ2iUsVl7H4dJ25cV4pBbn7kSUnzHrT7RvzLfajjOBOWz1DKmkZz5ij8Zquq/t9PU4QG4b23J91/aKv6gOkwie/M9Ltk1+k/BxHIRd1xoU8mwlAWdtZcUo4xMq0ywJ43KUtVzPPqmr1iQ8GpzWHswc0m7lv9yWv9s+zeBDQNlVZgui4xUqXX0qqRXnkp8Ra+aTFmVWmhRl4wVP+demP7PA0eS4n4MmIwbbAmPiqPCu8sPEakt+C0VKy5w4Kn7eJLdI6SAQne8zNcYJKMVuTOSco1wkd1odaVb8v2kEaOO2/G5A47+blfxv/bJChoRF9W0+eVbf56eWO0EmMhDxDclUhVfKBM3lx6ymyYsdBr+p9ESmHUh+QQDOGR/Hffv9HIxBhCN/bhndFi0rzuxuX5MCHN06sKLks7UKmChJ/MdkJXdR4x7uKbueIFYE8WMTP1jHBUNXlASVyOFLB8pfu46NHkyhnODDn2FCnX0FV7Uovipa/US3ehIzkZN3Do2wEjRUZRoHDy3NS7MkUryhFY1pk9bDRBMcJ0h5YfprxwZ0uUsXM/CZlmrQsi6ZeAq1vVfY+/dMWTGK4qFJ5PJYu5DyYBepyUgw0MjyaeUTs8/5ot1IjBMvlrP3/2I6WsIie6cZVcjVaFnxCQAglWdBHqp4FF/Vm29lCzEHq17aEkXuEEDdw2WkTbHtBKtO6HT12ri3SJAGshk3+Qh5GQ+Lh64fEUBkZAA3teuxrokyaiN/TtOEknpAAABckGfkEURPHfr64olDI/yVUI9pM2exTuzeOKnK0fGLw3PZ7jjMeAn8/3wWQwFSt+NVuha2n99XfClGujOqIuwS2Fw22mXr2tWPsNugaiI/bSoqtDcUsrxKoGb19NMRkiiZ//h3Rz1TcXXbDWVEUDhxkqeN/NB8ORSnsRlcROpyPINlEjTdKpKjybl4sKJaLtmFcqcMDj4XWYKOBZNxA//0vlgliAHwvST297hxrWap2vpUiX/V2OgEAx7RWG2GeRo89AkjncN5tx2YqOEy7sx30m9Yv7b/DPZaN+IgTIVgo/aeME7vh0NI0QGtqxvjbFPoStd/VZlB+xkpLptgoH4SOksjdVMQT68mjSmrA73NB87vdz+LyNyHfWddScuKE5ClU/2PyusYWYKskE2V4wavx0s4QdGX4sXP+26pXm0Ua2YaDn1BSC4UQbcCYHNZyoP9lXLNyLxh7S4jXY0EP2xf+JtgnU5HzH5O7PWqY3EmpjhH+AAAADNAZ+vdEKf70v4ARWYMfYIIOzePXS05/796m4hkfSRmydOjsCYnHbDuPaWi4CNUUpItaqGI4LTCqz8ZqRH8ocVeqpP75QdUQbEk+UpV8li9BJgr7c01KYN/Y/xKI2tYhLIdRmzrHk3gnB3mEIertIdivc7rkrf0QL57V4+d1z2EERMqPuPEehJuBa+N8h2ziL0Kbq72jDK6zq5S2T532VVmslZ58+xijqYvtam6D+HJy7zjRJRWFA7wUKAuup35mPCmD497ZruxpUHMKLHzAAAAycBn7FqQp8ABhmyJZe28Qo1PxCc/9+4S4L5OAwn1F+/yrshFLZsOGn5a//9qd5XtP//XYtCB0826aHCiz44021SMrWy6uUHe+pJdE5oQ6vE0jlTrAZM9yz7kNh0Ab0j91b/99GvRoel4NY8L1/wppbAwyMgvtYTETcL1HC8ly3w5TuD8GnPG0dcmqquzyjlXCoLTS/ZPLGeFJqrGu7JF0BbjWh4t+nbN/hpEWq1lwbhS60mgLMQHp9fBr++yZ+TR+ZYEQ0vbGWaF/Bief9jvnKYFhmV24EodpKjO5TTywllGo1gRi0CWdfEBAfDBSvmugZwhkbA6W3M1Cyd01CyPgEqBayJ/bStjkAjKL8sm54XOPrkBTLdfwqnjAFdGOZYGvW+HhhRSaljngu2R1fgQUNr/1coEq5gKedavZ7GVi9z+JX8RwIL4Jullj4FUHzZ6z3+HhnKIFEJ8j+dlHmOynpQQTzT8Q1zo+Qh6Gx1O2KTVN5Hf5w3zaHlyhAaXbgtMvCD6A9aUCWFcqGoi5+5IWPEQBCiaRYE8pV1I++1v+TMnJR+exnsvIm5We6F4o0lkUPhWHazyKiDgVLpdNItApTKmKqRjXsjYTFuRUGkuKCcopa7oQdk0FzDBnhFoAAElFHoHWhbLAk55nmYpNKjtanw6sSkCeBI/D5j/sAKVZ+wVdL3m+x+YHWRlFKgzkLC25YJ3N8XYvNf2a+Z610uqH1u5ggmXdClfr0Z0R1l9G8L2UjHipOYr7LnrQOS0QjHeItIuIqIpNTjQ0YFvO5pkTNkZ9B25WnnEbU/gE0QH6qocAHj2F7jx3jMoE9AJoQe3qqJdSdaJP2BgZWAsiqBKZZjdD708JpbGGZFLa0WwEc9ZesRqRHqMz4ayq37hX5p9Wl3nfT3A27bXotwX6+ONG2qu78L7GqXr5fxxiade1CJRxLY0Gf20r6RCttQ+Xf3fhnawmJ13sejO1G6qGhRsYGq811wVO14v71VpVigmDhWq536gvWFiBexCgWBm5NHRmGjuAAOMpNg7PoeLqYkv6kQB/9WXu3iTCASqQLZLYBCxrCgflKfY9EAAAQDQZu0SahBaJlMFPCnAABp/BzNPz3st/TzmUvgWCDAb3V36c/w7yJbaVwKhZh9tF7K3W8OeiqwexYvUB2YID+WSUcNzxCIFqTweve6T59TX4aKIQ2Qzob403sw9NI4/8406Z6511+RQc1AvdGbGFeH9PY8fcPlLpxAy9IEzzX/Fyuu11+OgaC5+efwiWEoggImuyxz9fVoWVDvLo6MWraqKnyBgo2EhAIKQsfmH0vu0+IT8E5K/dWj1DGQUh7WEWsLBtv5xLVMbKKxv0ENv5hXP8NbH1zVDmonFTX3YaD6/V0UtCE9I0UgDgPOcrhCARvZSgjpkgQuoHwUfJ/C5gy6oV8MB7hsTZZ1G3sd/5tETEoOvcSrJdimAxAsy2pGJU1WgW68JRM9B2/PQXIAfzh7uXN8m57O4bUvaFes3iUga/xzW0iUUUUgONXJFfO6SHqDKwZk4OZVumiYUcpnwp8yO1k+ZwHlmDM/raW2V4mYFo3x5H9Ld73wwb4iUYwBKQDTH0RAHILwE5nT/AgNJD9b540gKZ4R/XnL8shLbgh1r/bMbkPELhprR4vQWxI91wAmSF/4L1iD397MdVQd93V+00+SbfqN7XIcdOw+ZYejooXpt6ygEtf9CFTcMQ+GpIT3/Wbt/N8QLsWAiGrwJ6j8Uw2F8alMJNXuT3Dkfu3zNh6DVAIWymzp5CA3+nAPmJs0Jm0p2kX+LgnKSqonD+vY83ROHV04v6AaiKuelih1xEkjE8sh6TnBcv5sm5d3tjsbKTzLGY5j5f2ocZHyAD39g0DUR5TY1OqPT9y7neM8ZK0k1D5HPzmYZEoM46bOotUNUOamIEODL8uG+GmFcpuMD4sSJ4tw3qC4zjXpWnqkVrONYTidPufd0ySxh1RxsL6zclwqqR85Mvw6N6+D3BewAKo6ev9SnPaSU518j4zIFDErUMANYfJkfaxxUtEyXUdUQKWDSaI0W7ym/pJ8BdR/9fxkf+MiHqf8t9VKOsV7Y8+Gh9+c/eSOGWKL0h8hy9LOwwnGAo2A021cahpNFW4JTLKmoaOPuiHhXJO+WwJqUOoBoWOiWZ4plioreQ0dGtkjmUatmJzLTbYFAUL3+VSzGfLeb7bT0vJ5NxAwn9sAqtNsHMRVAZ7+nfn/3YsGi1UK/zS5uEQnNdIIgUklroqnSQdzZHHjnSLvso0PR7Gm84k0OrNUpvGYEzDuds02sVVJAGvl5uk8Qqds+EQPfvyK7g5AbxzNM9ON1BehAlleMlsOch481d/eaZjwbaoy5hyK5EkL4yeO0Z6yPDMGw9OkqjwnkWiSvL4E7vy5UNsoNB1BNJ4uf15Qa5jL9GFytEHVThP2mymfQITN63SkwlQC1AI/IAAAArcBn9NqQp8ABpEM2ob4jRLW/T+ikxPZ5t4fmWuLSQG5wMg4T+9A8Y6eRBTwY274o1KQxazYcaoUr6kflPTxsiSc0vsrp2wayJ/DVAqkLRm/5C8Tg4Jn0QWWtEtsl93e285TuhNRr+Rsv8BcO/B6S9iColUQkjweZNDv6vSP8qhtk9N/2MTHBs6RKySXAa1c+1AsI6p6/pJk6jczb1vJOAlcKWFiP2oXk22L9uFPvnN3OXN/H10RqVSUkt7KnYw2aaXPf7rceoB0INTejcSj8vNq5qjrbCpXDkYqA6GwUhgMBXXOhksHvMmLsOaWnrdU636Who7scS/z2WKLcWaTSLJvy8sOzLeUp5q6RvoYxDvvFQ0T/wP0TC6FFXkseIKrxbt4K7c8QHsFq6AYQWoVRLkYfJ11F7iQSoP78kyhMn6YiDJpWlKeAAwT+HMzdvt/iMsFRHN8c85bisgSh+RtBI5/XDQ3U0hodt/BbycVsrkIyQ7xqTbsRGOltrjEl7uqy81k+3sZUiFyh3aA9bT1C8if/8Z16MB9fCyeuP70bYZ/9HPj1869zx8/hXv3EdBFeSd5mGBozR0e0dbhCc25KMUyutRFemzEKSXqyCaT8zJ4ucNT9aewhAEiT/nK1VwTn2Sz1fbeOPFkdmewr0nLXDKQDWugqz4U0giArcwFHCsqoqzEyL1g5Azl0J9nxSiGbT+F2wAwGhvoyRLYi+pjZLRi2pV3dzpR9+8MfIfHYTXFLOR1AEVhir4ejY4CvQ0e8xyH8K0W/ovtS8+OYECtnCAVLjtVtuSt88i7mgOytcYLto/iH/x++kkdw1RZWJzvxXoL+j8TBBYO03YFHnYOoNnFnTlcnOwqm144KDMYj1/RJNIm+oWJGAqwF7T4BWfSXKVZ8C03jGk0+rc8ueABKUhaEIllNIPn+AAAAqFBm9VJ4QpSZTAhP5iUHqPQXKZ44XzmLlC8AAADAAADAAbmdvu2qZYJSp8IDse6v2S/pvzHzWczekPgLAA2gq68F5FOKDo5LtmW446/Z73+SRpdleM2YX5svgy6enXhrajGaoiS+7ugGjUP3PQZSL7AwYtprYjGuNvoGEBAdCvggYIAa298Qf39/wCVFiGAnLvIWp6r7eH/rE4UYuecK79UBJuVJ5VggHZlpF4dxwH8ZZ/QStGpvH/6t1t62F2y+iVeeI0A/lhyTIdxTYsV1DC/Owz/SQ/0KReZqlC78FZ169cOXLqxdMOowZpBPREI/AwOUIlHRnVWWjnSkBYpduFWtutYmO7z6IU4ibaqzhyUDTij6lIbpHbe8tqqhJu/J5z46s9C33AjljXiV8+twsdnkNAwY3aGYmsPqXgLLkQxVny1wnTIrVKX8ppfVDvK52+kT+ewS0xyfhYAlGhw3opdd//u4EB3FOypoIBcz2EgOPHODUVwanbYPj2k0AC/GDiHonV5HaDdGt1lhZM9wtQmvsDR+/qfu/a+5h1ER5hzaYU0IJNgIiXCzCCayCDrlTp2Sm3BXXZoM59hAbnmelyN0JWN+00yLJWtvU/mqDkaw4eH9HAvDWRymg9iDMkQPqu4iUqc7geLxGZB0z2y4uhE7fVQEZZiIYkeZAr1BYtpfsnzry/WVAr/TQg/tWRSe/aTzMKJ7HUF379XySombm2djAN3lXWDUn0aTS1hBf31TGbC0PQPhQIQ7nsfBw94twoyZ56YPPH+PpkJgGen6V11XxK/vxoFd/kmW/5/yUO5db65JBNk2Lr9tK9T2Dk5jCTN/fiAQAiMEjtjSyFZ/qMh7fv1mzLIBkrm2tCWJ1Fws3514Oo/Mxlyb/BfLeqTaxfBAAAB70Gb9knhDomUwIr/15ogyCj2EOOzorT08P7Q/PrRZI/oXTgYd1Hv6T7VLrZDxYbUTyus6DNPFA5qyuk2vgeS/qTNx0GKfhusB9zkfnWjZg4ybinO4vRbRwHc5zulvCmd6xgG8+6hLkqfGZnbAyXp+jSZqYkrzpFJMDkpoWOl2Goxp9L95fYHkp1UsBKezFI8Rg8xzbYmL7Ni3kB8j+ufI/htMzOU37w16+ehQcW20hxYQZt50Gnwc2WlLsUddfb/8uup/wSXjxOZKaXoRel+OENjnuhxGyzhwiCOgw89aurSu5s7DBL/IsaH1BVZbviDCUaify5jIOcVU7+s+p/DRof0NSqud0QdIvHDvAOd32ZbfPYXdjM6ESHBPS9pojbtjd3cL0twdAVfJVqe/kG3AlcIF8O5xfrb0MH82nW35b2icIfDP6M0uiNHEpQ8Ru4UjOQN0OUctPT3atPJTjXbqHQGU+m37QGMvwmNUClCwPAmf8lPe96l+c9Eqy5rs2Q00CKpuTKKJdceMZpBdHYVbe9o0qp5bDDHsfyLRS71BPScOPf2dCAPCfkN6cb3d2G4RqC9E6CFDF2vhyEqKzIvBsF1CYyCPXBQMke8MDpUW3lvLgmE84g6r7W8S+mUnQPKvpRlgP3ZlH+xT/irjjbcQAAAAcpBmhdJ4Q8mUwIr/wABSFvxtm92iKfRW2uUEXZTKV0wxnR+ageio3VYk/fiV2Y+If/+uunOQIb75xYOEVZSxkF7i1iGwOTgfu1XNYF2/ykQH49nvlEvk0zJoji2iAGFVW46pvK67Y27LtDLU9KdRLw+FusXakK6OnPiWIlQ6DdT9e0XOyhn+7FOokvvZZW7qIsFEHyvb3Wkr+CirDVxD/XBAdbg+4aIc+u1aH6VnZIOagPTv1zqZj0nwt0vyJAFY+kkpiT9TZhSMPohKXBDO/GQ4PJU2x1IQy4X4GQWvBIb7okyPnErex2p8hKS5gWVf/QW7gBrziYcNs73DHqEHULSQY4IUbBiXpfADy5vI2xNvuUe4E0regb+AU+pA6rtOXX+6363qQ6DjtfAKEtUKRANln7uCAsMYbrNwwwj5dxffg076IDyVZrXZ+hZ8D1LIhuEj1yYy+C/rqIv9DPRtesZmw/uxrKRElVjV/eBXYTcqrexsxNK6kns4FwYP4j8Yn14fKsKSsutw2eDnsLR5s/djw7XX3ZKBL+nDnzyC+XZcEDzUYbXgae/9MWosUPCzA8/Oov3fSk5i6YE1m2s3bhkwmm/3Q8KA15qpwAAAMNBmjhJ4Q8mUwIz/wABzVXbzLS972K/8x/wbKOnwUPFy/QgaULl1U6FDcxd9hTDZG7TsFEpndfMUOpUalM+3LMBJ0ef2J8Xv/RJ1bgM6iAJWyOFfMj19QeTE4XplBhZztxuL2UPynGu1DF5g+rzvYc6xj20WvW3YnLt1C017hQ7oTGBGgj1xIk/gaa7dkokcvO/KJUIO5dlNjFrt1EYBF+CUT6BYPBjpdEQ/9hH0x6cu1ggAk9zedIV9iS5bfz+88+7xWEAAAEeQZpaSeEPJlMFETwh/wAEW9gGwWAfRzq+eQBVQCgCjdW+BNNR05bNQiU8SrCFwKr8Yb+D/614rsKV82aZ6qtj6qMMEdi3wsTb/LFx874gf8sXCy69OO9nAfCTxZDTqfXoeJ2Feu5NDVH5S28PqT4QcCeHFDZpfuR2leyj6PkcdwDEEc2GEx+rJ2O5Auqu1cB1dkOPcumZyN8DTURpgX07vQLJJxP8TXQZlEo81r+ReczvxaHldAqp+wdNwrdK/TVVQDYOM+Q4oD1Gw4jtXeOAjJjWC4WMW1E/YpacplUxMsUZ+drk2rfZqFqJH4MmVTMLSF6Ss3xGzCC1HvSe+nssacunUk9Tn2hkG9ONGlDUv9loZ9pjNJIOdj3c3AAVsAAAALIBnnlqQp8AjmATaeUIXKG48pYu99g/tClZSCDvui0ok28YyO5LMkWpdXthHxoDFnLNZ18Uo97H8ADACb/JEcshnMoCCoUrm4GDba/0pF8qTLIe15E4C/srh+gi7d7a6ES2p4Kdi0aWk7k/mWxOOL0hkh9D5apG3ckcT+c/eTy7QFmR5WJZA6/sKxFKCYZWPliBTmsLtn1zwsEa3FuSpSYpb/mWHqrt8m3WScDtMdMDAAspAAABrUGae0nhDyZTAhT/AAj3PJXXGvUDW+arMvibn4+up0i396SORgAelA0JHR+uKbXTMGdB5p1XD9ddsMTQRwUBt1U6DB+7EJTf7DcM27/wMyrZ9l1iql/brGK7pEBC5/3I+vdBCFeMmRxeUHS8D8v+JF4vPR/oUfMN6rti8rpsqrraag279BTVpcLvRoy24iiFiUvEEHp3/JvQMT4/rza+JvS5nT7zoFnC55/zmOn6N94gjFT2U83EYZkxEmORR2K3mMjw3jjfbGfIu2nFtYX/sNsZ3ZAM90MCl7CTst8pvlcVgEqoPiEIRh7fpIRhg+pIM4RbrWNRD9bk1TmGWukIpc+HlBGE8YwogFXsozfnGzV+Ze5nmDVUK5Bg+ovr8od+X4aiF8hNErduEY2BrvyMBC772c7GMFpaSOpIWiqeZHVhnnM5A2M3MNbVR/+b0TAf18+hAirRqJ1Vl6cRRcLcTqMFdjInBVX+BVPx/BPTpGDiQ2Sh4WYEDdh+Yw/bbsfHYb7NhtpcvEc/6it7XRTxNBYJPIpMmsRIKQxi95mlXVBAhirIAKLwA+TczkcBFwAABA5Bmp5J4Q8mUwIT/5iUHqPQXKZ44XzmLlC8AAADAAADAAbmdvu2qZYJSp8IDse67H+Iu/x6c5VTAruqEYEDA5PYWeLaATLP5bH7Lyz/zcAGxfHObXhrskJb0DzwFuvc+o1N8sLtKkD0RHQt8cGc8u+pMXCc0E/mJukTEm4OELzlbSNDYwD+nNcoz1BxYVuC3bjSDgcp/iqg99I9ahYn5zZKmX1OVOcwvEypylNLNC3XYqj9enOjQBXrOSWcI7oCELJ5x39AeVaYtifddV8DD5IX/MHV2rIdCiAX4cRdiANFRg75coDGeW+gnMgQmcg92w0wvHBza0+NVsC/91uUA43nnIhxBNXyZL1g8ShkhuVSwUGBL8cxH582rEzEld3A7MHSLAx6CBIEGHxJi+h/HwM0XwSFKZHmk4DELeMKpM2BERY7IG4rqcRRQy1f70Z3azjz+4ai1o4YA1bX9W7JMimYeLdKBeAHQESUJi8w2jQFQwNkFfXMMR9dYY5UdBK/JtSDGNGzTwKSmt2wHM55KnxoTQ3xzVOb8WbyLcdKYjTlYTSutr/ot1OKezqmNMxpfsKs2MQxr+fmzHVaUBzJggbwdsKD1B0HMAp+bN9MS+DR5hZBBfaKjvCQaD09rPb4Pi3hOI3xWcq/C+kLlT2GMLX/RTKFaqYKJCXntfmxUGABWcWs2b4wSJg8dV/zH47idWp8AFHNyYDqOBHE7dS66LAfgKq2KT0Aak/WhhY4o8XD4KNa1ha2Ci672EoVdB5gptddllwUsRj6XVeD4cL5tmKXK/YV1PPPGlmkBfCjVgAU8FrAHSneb5HmTXv4HLxnmK1NV/LpD8l7murJzZenp3E4zb6Eg9gY4O01yBubf+KR4bIZWcnElKyNNPpxJ7byaUeAWDVjeSCtKJSRqKS4HkEcgOG2/eg+g5FXCsAVZ5jevc3l+bhlP+3Dod/xiVlZSDY8dFCnfruJqhyE3Jx1Mt+zDSRymT6eWvGGW74XOAmhBW+2R0IS9KCS84wL+tZ5PyfPyQnZkRItb6dXQzhYjEFi7n51Ld1DG9pBKJ4XdGCqUjXSsmhP2J3N2JAbAl2Cpv25lY5grSHRtZudPL3UNyTJQHtm0u341oaVVQ3Y6f8vL8g6oVg/m7GQ7tXMhA6drdKCpb4sJ+TwI1SrYzpnAE1CdsZ9tdozsceaCHJS4BMztX+j02WDxviVrzjy2Z7NaoIpwwSc4wI5qVB+Iy+18jaZQ3K3USD32xeC80DuEkwu89/H4MEW6nx6lRXkiqNK9weE/EXaCsh0B5X4TluY7UnRlYxFPPOC8ossz5jv+25NvCSvvnNycABRaMo/OERwpO3WFw/854ZKqRykCkwSDcOUsKTJM1WCh/bJqy4w+cUAAAG/QZ68RRE8J//zSRm1AuxFix0sZm8q5m6bNft+AF1GUWWRGX6dsf4k+BE3Omzsnr5+lRWjDKwQ8wI11wQVvLyc0ul+EzSUf6PLD/lT2n9vkCfQiFT9iG3f0AnJdI71I7iqiXWlIEiYHBQv3/p501kYRSakRTcCWUZt9b5GvFec8L3WoTQYbaK5kHLtpfR0lR4iiTA3fxFsTviAuwVhhAk9n2uH07mKEfJCGSXd7d9uYGqgmBhl28KnpjQq0hSPAvczMBJo+5B5eroG68oBZT1pWA0GX2U3s1uZwmOK13fRXwMdn6YrNDvZPezR55xP/ZM3AY2jqQ3IjIIByQJGs0SA+K/gnF8HF+ii5j2/NYF+jgtlp3uu74puYseIGflII7HHpc0r56W8gwe0O/0S+FsXbqTncirAfjB7no5tXaD4M+rU3rOTJ5QrPSGzXtwsMU+juL1UP5jrkTEVCQe3JwmrjiLRqjREQRlvn+SekJFfUTIOmK7u0E4vtXJdhe0Cr5+YFc62vPWI0KVdevcz3+QPBmnfVYYfR8E+68aROpvkfdH2+2q41Y2+daUTOf5By0dAJ5nwZqTqKvCI4nuAZQUlAAAC9QGe3WpCn/tdP6oivceAbz50LKOd8Gjdg/6dTP//9lbfuiC2/yu5pJPJ+mur6QX+rCjhTOfKWW5eT9T+GfcohlehjyPpsGuwzg8av/f+XDJblOxX0S8CcVY/TLCxcv/cq+ypKzjl3tDLpm9GpmKcQovG+RUwB7ZvsaGJFVPaphFWl71KCai3WDsuh/RCOwoGd10KPlMskgPRKjEvNeJKg2gY0/hmSAPtx5HJZPixA9DjwiegxFx/8SKRjtm5+8KgifdCTmHCnNqsvROuzOPEsQffKMkmeiKqfrzYCuzJJtM787ipealKmP6BYPH0DCzRIWw0PmzJQZ69pv4Q+qFwTkHIrrUchuDXhOW/dEIcq8OhxmiK/kxqJql9RTi8HSvqjFCEoXlcuA6FmfRdrQVAfBFW2sD05MsKFyPNF/7kliz0pCWOGqGiov6IwQY4pSklBMfpi6i9ER81FzDBqVXqAeLvNqqxNHTEdeiFE+QlOZ3PqvAfeH7uSDh+1CaMQeb+LL3hWI4wjI6yS8GynXgfuuggAk+f2ObRQI6L8u0Iset9stkDVDcBLTZUrSubnkdJAgCI9lUb4VEHYlvO9zm9OAAxBop2AAAWtbTSjMzd97zs4RT4M/RVe5Tf1IVCdJsvNjuKofu4MlMOyDSNwemhkex9a9qoVTxlfey+7rhEZTAxJJYJPZB/PE/NRyCW+7HJ0YhfZyipOZ897h7WKkfYdWjdgz6syYgnVEmv+xoVQ6DmH8nP5MQVDaSg0ijkjyeyBpgcGOojTcRTSXWbyE1l8MkEzLJ0wRwBs+8mSCHeeqWBXJ/JSfYNUXxSy5ruNnZPciXC9C+UcmCvqIKL19Ji3o+DWG8Bn9liXF8DoYb7s2oRpoWWBftlLBr9iZPm0sJHb98cxOZzSA59Y4R/8AwBkSXDYlqzlQlFiERTT1V0IFZstrNyoYWa9PassuBD1ZyMRRB0wIdfBln0N/TBgsZy7kCxsjgSMZlgZ1VPGBdEE6nmsqavMIAAAARgbW9vdgAAAGxtdmhkAAAAAAAAAAAAAAAAAAAD6AAABAoAAQAAAQAAAAAAAAAAAAAAAAEAAAAAAAAAAAAAAAAAAAABAAAAAAAAAAAAAAAAAABAAAAAAAAAAAAAAAAAAAAAAAAAAAAAAAAAAAAAAAAAAgAAA4p0cmFrAAAAXHRraGQAAAADAAAAAAAAAAAAAAABAAAAAAAABAoAAAAAAAAAAAAAAAAAAAAAAAEAAAAAAAAAAAAAAAAAAAABAAAAAAAAAAAAAAAAAABAAAAAAoAAAAHgAAAAAAAkZWR0cwAAABxlbHN0AAAAAAAAAAEAAAQKAAAEAAABAAAAAAMCbWRpYQAAACBtZGhkAAAAAAAAAAAAAAAAAAA8AAAAPgBVxAAAAAAALWhkbHIAAAAAAAAAAHZpZGUAAAAAAAAAAAAAAABWaWRlb0hhbmRsZXIAAAACrW1pbmYAAAAUdm1oZAAAAAEAAAAAAAAAAAAAACRkaW5mAAAAHGRyZWYAAAAAAAAAAQAAAAx1cmwgAAAAAQAAAm1zdGJsAAAAqXN0c2QAAAAAAAAAAQAAAJlhdmMxAAAAAAAAAAEAAAAAAAAAAAAAAAAAAAAAAoAB4ABIAAAASAAAAAAAAAABAAAAAAAAAAAAAAAAAAAAAAAAAAAAAAAAAAAAAAAAAAAAGP//AAAAM2F2Y0MBZAAe/+EAGmdkAB6s2UCgPbAWyAAAAwAIAAADAeB4sWywAQAGaOvjyyLAAAAAEHBhc3AAAAABAAAAAQAAABhzdHRzAAAAAAAAAAEAAAAfAAACAAAAABRzdHNzAAAAAAAAAAEAAAABAAAA0GN0dHMAAAAAAAAAGAAAAAEAAAQAAAAAAQAACgAAAAABAAAEAAAAAAEAAAAAAAAAAQAAAgAAAAABAAAEAAAAAAEAAAYAAAAAAQAAAgAAAAACAAAEAAAAAAEAAAYAAAAAAQAAAgAAAAADAAAEAAAAAAEAAAoAAAAAAQAABAAAAAABAAAAAAAAAAEAAAIAAAAAAQAABgAAAAABAAACAAAAAAQAAAQAAAAAAQAABgAAAAABAAACAAAAAAEAAAQAAAAAAQAACAAAAAACAAACAAAAABxzdHNjAAAAAAAAAAEAAAABAAAAHwAAAAEAAACQc3RzegAAAAAAAAAAAAAAHwAACPoAAAFiAAAAmwAAAEYAAABaAAAA2gAAAQ4AAABfAAAA+wAAAQ8AAAFIAAAArQAAAUoAAADoAAACZgAAAocAAAF2AAAA0QAAAysAAAQHAAACuwAAAqUAAAHzAAABzgAAAMcAAAEiAAAAtgAAAbEAAAQSAAABwwAAAvkAAAAUc3RjbwAAAAAAAAABAAAAMAAAAGJ1ZHRhAAAAWm1ldGEAAAAAAAAAIWhkbHIAAAAAAAAAAG1kaXJhcHBsAAAAAAAAAAAAAAAALWlsc3QAAAAlqXRvbwAAAB1kYXRhAAAAAQAAAABMYXZmNTcuODMuMTAw\" type=\"video/mp4\" />\n",
       "                      </video>"
      ],
      "text/plain": [
       "<IPython.core.display.HTML object>"
      ]
     },
     "execution_count": 12,
     "metadata": {
      "tags": []
     },
     "output_type": "execute_result"
    }
   ],
   "source": [
    "def show_local_mp4_video(file_name, width=640, height=480):\n",
    "  import io\n",
    "  import base64\n",
    "  from IPython.display import HTML\n",
    "  video_encoded = base64.b64encode(io.open(file_name, 'rb').read())\n",
    "  return HTML(data='''<video width=\"{0}\" height=\"{1}\" alt=\"test\" controls>\n",
    "                        <source src=\"data:video/mp4;base64,{2}\" type=\"video/mp4\" />\n",
    "                      </video>'''.format(width, height, video_encoded.decode('ascii')))\n",
    "\n",
    "show_local_mp4_video('test2.mp4', width=640, height=480)"
   ]
  },
  {
   "cell_type": "markdown",
   "metadata": {
    "id": "vU0pacD4QzD3"
   },
   "source": [
    "#### train"
   ]
  },
  {
   "cell_type": "code",
   "execution_count": 13,
   "metadata": {
    "colab": {
     "base_uri": "https://localhost:8080/",
     "height": 224
    },
    "executionInfo": {
     "elapsed": 5524,
     "status": "ok",
     "timestamp": 1620868414444,
     "user": {
      "displayName": "Gilbert Lim",
      "photoUrl": "https://lh3.googleusercontent.com/a-/AOh14GjwcbshxcCHERWh50XPKtBiG3JN7W7moOjJPdp_=s64",
      "userId": "07062558111207590160"
     },
     "user_tz": -540
    },
    "id": "4j53SpKMQ0Po",
    "outputId": "afbb1216-ff54-4284-b788-f6705f4ee027"
   },
   "outputs": [
    {
     "data": {
      "text/html": [
       "<div>\n",
       "<style scoped>\n",
       "    .dataframe tbody tr th:only-of-type {\n",
       "        vertical-align: middle;\n",
       "    }\n",
       "\n",
       "    .dataframe tbody tr th {\n",
       "        vertical-align: top;\n",
       "    }\n",
       "\n",
       "    .dataframe thead th {\n",
       "        text-align: right;\n",
       "    }\n",
       "</style>\n",
       "<table border=\"1\" class=\"dataframe\">\n",
       "  <thead>\n",
       "    <tr style=\"text-align: right;\">\n",
       "      <th></th>\n",
       "      <th>0</th>\n",
       "      <th>1</th>\n",
       "      <th>2</th>\n",
       "      <th>3</th>\n",
       "      <th>4</th>\n",
       "      <th>5</th>\n",
       "      <th>6</th>\n",
       "      <th>7</th>\n",
       "      <th>8</th>\n",
       "      <th>9</th>\n",
       "      <th>10</th>\n",
       "      <th>11</th>\n",
       "      <th>12</th>\n",
       "      <th>13</th>\n",
       "      <th>14</th>\n",
       "      <th>15</th>\n",
       "      <th>16</th>\n",
       "      <th>17</th>\n",
       "      <th>18</th>\n",
       "      <th>19</th>\n",
       "      <th>20</th>\n",
       "      <th>21</th>\n",
       "      <th>22</th>\n",
       "      <th>23</th>\n",
       "      <th>24</th>\n",
       "      <th>25</th>\n",
       "      <th>26</th>\n",
       "      <th>27</th>\n",
       "      <th>28</th>\n",
       "      <th>29</th>\n",
       "      <th>30</th>\n",
       "      <th>31</th>\n",
       "      <th>32</th>\n",
       "      <th>33</th>\n",
       "      <th>34</th>\n",
       "      <th>35</th>\n",
       "    </tr>\n",
       "  </thead>\n",
       "  <tbody>\n",
       "    <tr>\n",
       "      <th>0</th>\n",
       "      <td>295.855</td>\n",
       "      <td>161.600</td>\n",
       "      <td>307.684</td>\n",
       "      <td>203.408</td>\n",
       "      <td>281.529</td>\n",
       "      <td>203.385</td>\n",
       "      <td>274.989</td>\n",
       "      <td>251.574</td>\n",
       "      <td>267.191</td>\n",
       "      <td>291.961</td>\n",
       "      <td>337.615</td>\n",
       "      <td>204.646</td>\n",
       "      <td>347.974</td>\n",
       "      <td>254.209</td>\n",
       "      <td>344.093</td>\n",
       "      <td>295.816</td>\n",
       "      <td>286.803</td>\n",
       "      <td>289.377</td>\n",
       "      <td>297.165</td>\n",
       "      <td>355.827</td>\n",
       "      <td>297.205</td>\n",
       "      <td>404.095</td>\n",
       "      <td>323.248</td>\n",
       "      <td>290.652</td>\n",
       "      <td>324.564</td>\n",
       "      <td>358.409</td>\n",
       "      <td>328.493</td>\n",
       "      <td>410.630</td>\n",
       "      <td>293.252</td>\n",
       "      <td>157.686</td>\n",
       "      <td>303.706</td>\n",
       "      <td>157.706</td>\n",
       "      <td>0.0</td>\n",
       "      <td>0.0</td>\n",
       "      <td>318.024</td>\n",
       "      <td>161.654</td>\n",
       "    </tr>\n",
       "    <tr>\n",
       "      <th>1</th>\n",
       "      <td>293.296</td>\n",
       "      <td>161.620</td>\n",
       "      <td>307.655</td>\n",
       "      <td>203.410</td>\n",
       "      <td>280.228</td>\n",
       "      <td>203.382</td>\n",
       "      <td>274.986</td>\n",
       "      <td>251.591</td>\n",
       "      <td>267.262</td>\n",
       "      <td>289.373</td>\n",
       "      <td>337.590</td>\n",
       "      <td>204.656</td>\n",
       "      <td>348.003</td>\n",
       "      <td>255.468</td>\n",
       "      <td>341.536</td>\n",
       "      <td>295.919</td>\n",
       "      <td>286.826</td>\n",
       "      <td>291.959</td>\n",
       "      <td>295.882</td>\n",
       "      <td>357.139</td>\n",
       "      <td>297.209</td>\n",
       "      <td>402.798</td>\n",
       "      <td>324.527</td>\n",
       "      <td>290.690</td>\n",
       "      <td>321.931</td>\n",
       "      <td>359.707</td>\n",
       "      <td>328.522</td>\n",
       "      <td>411.946</td>\n",
       "      <td>289.374</td>\n",
       "      <td>157.686</td>\n",
       "      <td>299.798</td>\n",
       "      <td>157.714</td>\n",
       "      <td>0.0</td>\n",
       "      <td>0.0</td>\n",
       "      <td>316.776</td>\n",
       "      <td>161.679</td>\n",
       "    </tr>\n",
       "    <tr>\n",
       "      <th>2</th>\n",
       "      <td>291.978</td>\n",
       "      <td>161.658</td>\n",
       "      <td>307.619</td>\n",
       "      <td>204.678</td>\n",
       "      <td>278.918</td>\n",
       "      <td>204.659</td>\n",
       "      <td>275.001</td>\n",
       "      <td>254.114</td>\n",
       "      <td>269.794</td>\n",
       "      <td>289.363</td>\n",
       "      <td>337.571</td>\n",
       "      <td>205.963</td>\n",
       "      <td>348.004</td>\n",
       "      <td>255.514</td>\n",
       "      <td>342.818</td>\n",
       "      <td>295.928</td>\n",
       "      <td>288.041</td>\n",
       "      <td>291.984</td>\n",
       "      <td>294.585</td>\n",
       "      <td>358.396</td>\n",
       "      <td>297.243</td>\n",
       "      <td>402.814</td>\n",
       "      <td>324.536</td>\n",
       "      <td>293.275</td>\n",
       "      <td>319.335</td>\n",
       "      <td>359.713</td>\n",
       "      <td>328.479</td>\n",
       "      <td>411.947</td>\n",
       "      <td>288.101</td>\n",
       "      <td>157.727</td>\n",
       "      <td>298.487</td>\n",
       "      <td>158.985</td>\n",
       "      <td>0.0</td>\n",
       "      <td>0.0</td>\n",
       "      <td>316.720</td>\n",
       "      <td>161.697</td>\n",
       "    </tr>\n",
       "    <tr>\n",
       "      <th>3</th>\n",
       "      <td>288.063</td>\n",
       "      <td>168.120</td>\n",
       "      <td>306.362</td>\n",
       "      <td>209.835</td>\n",
       "      <td>276.384</td>\n",
       "      <td>211.108</td>\n",
       "      <td>275.010</td>\n",
       "      <td>255.461</td>\n",
       "      <td>275.003</td>\n",
       "      <td>294.581</td>\n",
       "      <td>336.288</td>\n",
       "      <td>209.847</td>\n",
       "      <td>348.017</td>\n",
       "      <td>258.065</td>\n",
       "      <td>340.210</td>\n",
       "      <td>302.403</td>\n",
       "      <td>288.111</td>\n",
       "      <td>294.598</td>\n",
       "      <td>293.282</td>\n",
       "      <td>359.758</td>\n",
       "      <td>297.246</td>\n",
       "      <td>405.358</td>\n",
       "      <td>325.820</td>\n",
       "      <td>294.576</td>\n",
       "      <td>318.062</td>\n",
       "      <td>362.343</td>\n",
       "      <td>329.774</td>\n",
       "      <td>411.884</td>\n",
       "      <td>286.774</td>\n",
       "      <td>161.596</td>\n",
       "      <td>297.133</td>\n",
       "      <td>161.601</td>\n",
       "      <td>0.0</td>\n",
       "      <td>0.0</td>\n",
       "      <td>315.402</td>\n",
       "      <td>166.840</td>\n",
       "    </tr>\n",
       "    <tr>\n",
       "      <th>4</th>\n",
       "      <td>288.099</td>\n",
       "      <td>170.803</td>\n",
       "      <td>306.305</td>\n",
       "      <td>212.481</td>\n",
       "      <td>276.344</td>\n",
       "      <td>212.513</td>\n",
       "      <td>274.976</td>\n",
       "      <td>256.760</td>\n",
       "      <td>271.103</td>\n",
       "      <td>295.838</td>\n",
       "      <td>334.959</td>\n",
       "      <td>212.479</td>\n",
       "      <td>347.995</td>\n",
       "      <td>259.381</td>\n",
       "      <td>342.812</td>\n",
       "      <td>302.386</td>\n",
       "      <td>289.402</td>\n",
       "      <td>297.164</td>\n",
       "      <td>290.657</td>\n",
       "      <td>361.111</td>\n",
       "      <td>298.538</td>\n",
       "      <td>407.974</td>\n",
       "      <td>327.092</td>\n",
       "      <td>297.182</td>\n",
       "      <td>316.780</td>\n",
       "      <td>363.664</td>\n",
       "      <td>329.755</td>\n",
       "      <td>411.865</td>\n",
       "      <td>286.770</td>\n",
       "      <td>164.264</td>\n",
       "      <td>297.175</td>\n",
       "      <td>166.822</td>\n",
       "      <td>0.0</td>\n",
       "      <td>0.0</td>\n",
       "      <td>314.141</td>\n",
       "      <td>172.008</td>\n",
       "    </tr>\n",
       "  </tbody>\n",
       "</table>\n",
       "</div>"
      ],
      "text/plain": [
       "         0        1        2        3  ...   32   33       34       35\n",
       "0  295.855  161.600  307.684  203.408  ...  0.0  0.0  318.024  161.654\n",
       "1  293.296  161.620  307.655  203.410  ...  0.0  0.0  316.776  161.679\n",
       "2  291.978  161.658  307.619  204.678  ...  0.0  0.0  316.720  161.697\n",
       "3  288.063  168.120  306.362  209.835  ...  0.0  0.0  315.402  166.840\n",
       "4  288.099  170.803  306.305  212.481  ...  0.0  0.0  314.141  172.008\n",
       "\n",
       "[5 rows x 36 columns]"
      ]
     },
     "execution_count": 13,
     "metadata": {
      "tags": []
     },
     "output_type": "execute_result"
    }
   ],
   "source": [
    "df3 = pd.read_csv('/content/drive/MyDrive/Colab Notebooks/OpenPose/datasets/X_train.txt')\n",
    "\n",
    "df3.columns = [str(i) for i in range(36)]\n",
    "\n",
    "df3.head()"
   ]
  },
  {
   "cell_type": "code",
   "execution_count": 14,
   "metadata": {
    "colab": {
     "base_uri": "https://localhost:8080/"
    },
    "executionInfo": {
     "elapsed": 1325,
     "status": "ok",
     "timestamp": 1620868415789,
     "user": {
      "displayName": "Gilbert Lim",
      "photoUrl": "https://lh3.googleusercontent.com/a-/AOh14GjwcbshxcCHERWh50XPKtBiG3JN7W7moOjJPdp_=s64",
      "userId": "07062558111207590160"
     },
     "user_tz": -540
    },
    "id": "GAn9WcpaRF8K",
    "outputId": "4624183e-65fa-45ef-f189-943bf189ce41"
   },
   "outputs": [
    {
     "data": {
      "text/plain": [
       "<bound method NDFrame.head of        1\n",
       "0      1\n",
       "1      1\n",
       "2      1\n",
       "3      1\n",
       "4      1\n",
       "...   ..\n",
       "22619  6\n",
       "22620  6\n",
       "22621  6\n",
       "22622  6\n",
       "22623  6\n",
       "\n",
       "[22624 rows x 1 columns]>"
      ]
     },
     "execution_count": 14,
     "metadata": {
      "tags": []
     },
     "output_type": "execute_result"
    }
   ],
   "source": [
    "y = pd.read_csv('/content/drive/MyDrive/Colab Notebooks/OpenPose/datasets/Y_train.txt')\n",
    "\n",
    "y.head"
   ]
  },
  {
   "cell_type": "code",
   "execution_count": 19,
   "metadata": {
    "executionInfo": {
     "elapsed": 775,
     "status": "ok",
     "timestamp": 1620868452957,
     "user": {
      "displayName": "Gilbert Lim",
      "photoUrl": "https://lh3.googleusercontent.com/a-/AOh14GjwcbshxcCHERWh50XPKtBiG3JN7W7moOjJPdp_=s64",
      "userId": "07062558111207590160"
     },
     "user_tz": -540
    },
    "id": "4bDRzLqcQ0Pp"
   },
   "outputs": [],
   "source": [
    "col = [str(i) for i in range(36)]\n",
    "\n",
    "arr2 = [[] * i for i in range(32)]\n",
    "\n",
    "for i in range(31):\n",
    "    for c in col:\n",
    "        arr2[i].append(df3[c][i])"
   ]
  },
  {
   "cell_type": "code",
   "execution_count": 20,
   "metadata": {
    "executionInfo": {
     "elapsed": 693,
     "status": "ok",
     "timestamp": 1620868454303,
     "user": {
      "displayName": "Gilbert Lim",
      "photoUrl": "https://lh3.googleusercontent.com/a-/AOh14GjwcbshxcCHERWh50XPKtBiG3JN7W7moOjJPdp_=s64",
      "userId": "07062558111207590160"
     },
     "user_tz": -540
    },
    "id": "NTk4mlvMQ0Pq"
   },
   "outputs": [],
   "source": [
    "from google.colab.patches import cv2_imshow\n",
    "import os\n",
    "\n",
    "\n",
    "if not os.path.exists('Videos'):\n",
    "    os.mkdir('Videos')\n",
    "\n",
    "if not os.path.exists('Images'):\n",
    "    os.mkdir('Images')\n",
    "\n",
    "\n",
    "size = (480, 640)\n",
    "fps = 30\n",
    "img_arr = []\n",
    "\n",
    "\n",
    "for i in range(31):\n",
    "    img = np.zeros(size + (3,))\n",
    "\n",
    "    for idx, xy in enumerate(arr2[i]):\n",
    "        if (idx + 1)% 2 == 0 :\n",
    "            x,y = (np.float32(arr2[i][idx - 1]), np.float32(arr2[i][idx]))\n",
    "            cv2.circle(img, (x,y), 1, (0,255,0), cv2.LINE_4) # image, (x,y), radius, color)\n",
    "\n",
    "\n",
    "    img_path = './Images/img3_' + str('%02d' %i) + '.jpg'\n",
    "    cv2.imwrite(img_path, img)"
   ]
  },
  {
   "cell_type": "code",
   "execution_count": 21,
   "metadata": {
    "colab": {
     "base_uri": "https://localhost:8080/"
    },
    "executionInfo": {
     "elapsed": 9409,
     "status": "ok",
     "timestamp": 1620868464175,
     "user": {
      "displayName": "Gilbert Lim",
      "photoUrl": "https://lh3.googleusercontent.com/a-/AOh14GjwcbshxcCHERWh50XPKtBiG3JN7W7moOjJPdp_=s64",
      "userId": "07062558111207590160"
     },
     "user_tz": -540
    },
    "id": "2wpmH1K5Q0Pq",
    "outputId": "7b59c5c9-ce26-4abd-ef89-93e95bcac6d4"
   },
   "outputs": [
    {
     "name": "stdout",
     "output_type": "stream",
     "text": [
      "ffmpeg version 3.4.8-0ubuntu0.2 Copyright (c) 2000-2020 the FFmpeg developers\n",
      "  built with gcc 7 (Ubuntu 7.5.0-3ubuntu1~18.04)\n",
      "  configuration: --prefix=/usr --extra-version=0ubuntu0.2 --toolchain=hardened --libdir=/usr/lib/x86_64-linux-gnu --incdir=/usr/include/x86_64-linux-gnu --enable-gpl --disable-stripping --enable-avresample --enable-avisynth --enable-gnutls --enable-ladspa --enable-libass --enable-libbluray --enable-libbs2b --enable-libcaca --enable-libcdio --enable-libflite --enable-libfontconfig --enable-libfreetype --enable-libfribidi --enable-libgme --enable-libgsm --enable-libmp3lame --enable-libmysofa --enable-libopenjpeg --enable-libopenmpt --enable-libopus --enable-libpulse --enable-librubberband --enable-librsvg --enable-libshine --enable-libsnappy --enable-libsoxr --enable-libspeex --enable-libssh --enable-libtheora --enable-libtwolame --enable-libvorbis --enable-libvpx --enable-libwavpack --enable-libwebp --enable-libx265 --enable-libxml2 --enable-libxvid --enable-libzmq --enable-libzvbi --enable-omx --enable-openal --enable-opengl --enable-sdl2 --enable-libdc1394 --enable-libdrm --enable-libiec61883 --enable-chromaprint --enable-frei0r --enable-libopencv --enable-libx264 --enable-shared\n",
      "  libavutil      55. 78.100 / 55. 78.100\n",
      "  libavcodec     57.107.100 / 57.107.100\n",
      "  libavformat    57. 83.100 / 57. 83.100\n",
      "  libavdevice    57. 10.100 / 57. 10.100\n",
      "  libavfilter     6.107.100 /  6.107.100\n",
      "  libavresample   3.  7.  0 /  3.  7.  0\n",
      "  libswscale      4.  8.100 /  4.  8.100\n",
      "  libswresample   2.  9.100 /  2.  9.100\n",
      "  libpostproc    54.  7.100 / 54.  7.100\n",
      "Input #0, image2, from './Images/img3_%02d.jpg':\n",
      "  Duration: 00:00:01.03, start: 0.000000, bitrate: N/A\n",
      "    Stream #0:0: Video: mjpeg, yuvj420p(pc, bt470bg/unknown/unknown), 640x480 [SAR 1:1 DAR 4:3], 30 fps, 30 tbr, 30 tbn, 30 tbc\n",
      "File './test3.mp4' already exists. Overwrite ? [y/N] y\n",
      "Stream mapping:\n",
      "  Stream #0:0 -> #0:0 (mjpeg (native) -> h264 (libx264))\n",
      "Press [q] to stop, [?] for help\n",
      "\u001b[1;36m[libx264 @ 0x555b5a371e00] \u001b[0musing SAR=1/1\n",
      "\u001b[1;36m[libx264 @ 0x555b5a371e00] \u001b[0musing cpu capabilities: MMX2 SSE2Fast SSSE3 SSE4.2 AVX FMA3 BMI2 AVX2\n",
      "\u001b[1;36m[libx264 @ 0x555b5a371e00] \u001b[0mprofile High, level 3.0\n",
      "\u001b[1;36m[libx264 @ 0x555b5a371e00] \u001b[0m264 - core 152 r2854 e9a5903 - H.264/MPEG-4 AVC codec - Copyleft 2003-2017 - http://www.videolan.org/x264.html - options: cabac=1 ref=3 deblock=1:0:0 analyse=0x3:0x113 me=hex subme=7 psy=1 psy_rd=1.00:0.00 mixed_ref=1 me_range=16 chroma_me=1 trellis=1 8x8dct=1 cqm=0 deadzone=21,11 fast_pskip=1 chroma_qp_offset=-2 threads=3 lookahead_threads=1 sliced_threads=0 nr=0 decimate=1 interlaced=0 bluray_compat=0 constrained_intra=0 bframes=3 b_pyramid=2 b_adapt=1 b_bias=0 direct=1 weightb=1 open_gop=0 weightp=2 keyint=250 keyint_min=25 scenecut=40 intra_refresh=0 rc_lookahead=40 rc=crf mbtree=1 crf=23.0 qcomp=0.60 qpmin=0 qpmax=69 qpstep=4 ip_ratio=1.40 aq=1:1.00\n",
      "Output #0, mp4, to './test3.mp4':\n",
      "  Metadata:\n",
      "    encoder         : Lavf57.83.100\n",
      "    Stream #0:0: Video: h264 (libx264) (avc1 / 0x31637661), yuvj420p(pc), 640x480 [SAR 1:1 DAR 4:3], q=-1--1, 30 fps, 15360 tbn, 30 tbc\n",
      "    Metadata:\n",
      "      encoder         : Lavc57.107.100 libx264\n",
      "    Side data:\n",
      "      cpb: bitrate max/min/avg: 0/0/0 buffer size: 0 vbv_delay: -1\n",
      "frame=   31 fps=0.0 q=-1.0 Lsize=      16kB time=00:00:00.93 bitrate= 138.0kbits/s speed=7.78x    \n",
      "video:15kB audio:0kB subtitle:0kB other streams:0kB global headers:0kB muxing overhead: 8.001878%\n",
      "\u001b[1;36m[libx264 @ 0x555b5a371e00] \u001b[0mframe I:1     Avg QP:19.93  size:  1356\n",
      "\u001b[1;36m[libx264 @ 0x555b5a371e00] \u001b[0mframe P:14    Avg QP:28.62  size:   504\n",
      "\u001b[1;36m[libx264 @ 0x555b5a371e00] \u001b[0mframe B:16    Avg QP:30.89  size:   363\n",
      "\u001b[1;36m[libx264 @ 0x555b5a371e00] \u001b[0mconsecutive B-frames: 25.8% 12.9%  9.7% 51.6%\n",
      "\u001b[1;36m[libx264 @ 0x555b5a371e00] \u001b[0mmb I  I16..4: 41.1% 56.8%  2.1%\n",
      "\u001b[1;36m[libx264 @ 0x555b5a371e00] \u001b[0mmb P  I16..4:  0.1%  1.1%  0.5%  P16..4:  3.2%  0.4%  0.1%  0.0%  0.0%    skip:94.6%\n",
      "\u001b[1;36m[libx264 @ 0x555b5a371e00] \u001b[0mmb B  I16..4:  0.0%  0.2%  0.3%  B16..8:  3.9%  0.4%  0.0%  direct: 0.0%  skip:95.1%  L0:57.4% L1:42.4% BI: 0.2%\n",
      "\u001b[1;36m[libx264 @ 0x555b5a371e00] \u001b[0m8x8 transform intra:56.7% inter:8.2%\n",
      "\u001b[1;36m[libx264 @ 0x555b5a371e00] \u001b[0mcoded y,uvDC,uvAC intra: 4.2% 11.2% 10.8% inter: 0.1% 0.8% 0.8%\n",
      "\u001b[1;36m[libx264 @ 0x555b5a371e00] \u001b[0mi16 v,h,dc,p: 91%  2%  8%  0%\n",
      "\u001b[1;36m[libx264 @ 0x555b5a371e00] \u001b[0mi8 v,h,dc,ddl,ddr,vr,hd,vl,hu: 43%  6% 52%  0%  0%  0%  0%  0%  0%\n",
      "\u001b[1;36m[libx264 @ 0x555b5a371e00] \u001b[0mi4 v,h,dc,ddl,ddr,vr,hd,vl,hu: 19% 12% 55%  3%  4%  2%  2%  2%  2%\n",
      "\u001b[1;36m[libx264 @ 0x555b5a371e00] \u001b[0mi8c dc,h,v,p: 90%  6%  4%  0%\n",
      "\u001b[1;36m[libx264 @ 0x555b5a371e00] \u001b[0mWeighted P-Frames: Y:0.0% UV:0.0%\n",
      "\u001b[1;36m[libx264 @ 0x555b5a371e00] \u001b[0mref P L0: 68.4% 14.8% 13.5%  3.4%\n",
      "\u001b[1;36m[libx264 @ 0x555b5a371e00] \u001b[0mref B L0: 80.2% 14.7%  5.1%\n",
      "\u001b[1;36m[libx264 @ 0x555b5a371e00] \u001b[0mref B L1: 95.8%  4.2%\n",
      "\u001b[1;36m[libx264 @ 0x555b5a371e00] \u001b[0mkb/s:110.09\n"
     ]
    }
   ],
   "source": [
    "!ffmpeg -f image2 -r 30 -i ./Images/img3_%02d.jpg -vcodec libx264 ./test3.mp4"
   ]
  },
  {
   "cell_type": "code",
   "execution_count": 22,
   "metadata": {
    "colab": {
     "base_uri": "https://localhost:8080/",
     "height": 501
    },
    "executionInfo": {
     "elapsed": 8560,
     "status": "ok",
     "timestamp": 1620868464175,
     "user": {
      "displayName": "Gilbert Lim",
      "photoUrl": "https://lh3.googleusercontent.com/a-/AOh14GjwcbshxcCHERWh50XPKtBiG3JN7W7moOjJPdp_=s64",
      "userId": "07062558111207590160"
     },
     "user_tz": -540
    },
    "id": "pRZ4zm98Q0Pq",
    "outputId": "0a71cef6-f689-47c6-877d-95f3230186a7"
   },
   "outputs": [
    {
     "data": {
      "text/html": [
       "<video width=\"640\" height=\"480\" alt=\"test\" controls>\n",
       "                        <source src=\"data:video/mp4;base64,AAAAIGZ0eXBpc29tAAACAGlzb21pc28yYXZjMW1wNDEAAAAIZnJlZQAAOkZtZGF0AAACrgYF//+q3EXpvebZSLeWLNgg2SPu73gyNjQgLSBjb3JlIDE1MiByMjg1NCBlOWE1OTAzIC0gSC4yNjQvTVBFRy00IEFWQyBjb2RlYyAtIENvcHlsZWZ0IDIwMDMtMjAxNyAtIGh0dHA6Ly93d3cudmlkZW9sYW4ub3JnL3gyNjQuaHRtbCAtIG9wdGlvbnM6IGNhYmFjPTEgcmVmPTMgZGVibG9jaz0xOjA6MCBhbmFseXNlPTB4MzoweDExMyBtZT1oZXggc3VibWU9NyBwc3k9MSBwc3lfcmQ9MS4wMDowLjAwIG1peGVkX3JlZj0xIG1lX3JhbmdlPTE2IGNocm9tYV9tZT0xIHRyZWxsaXM9MSA4eDhkY3Q9MSBjcW09MCBkZWFkem9uZT0yMSwxMSBmYXN0X3Bza2lwPTEgY2hyb21hX3FwX29mZnNldD0tMiB0aHJlYWRzPTMgbG9va2FoZWFkX3RocmVhZHM9MSBzbGljZWRfdGhyZWFkcz0wIG5yPTAgZGVjaW1hdGU9MSBpbnRlcmxhY2VkPTAgYmx1cmF5X2NvbXBhdD0wIGNvbnN0cmFpbmVkX2ludHJhPTAgYmZyYW1lcz0zIGJfcHlyYW1pZD0yIGJfYWRhcHQ9MSBiX2JpYXM9MCBkaXJlY3Q9MSB3ZWlnaHRiPTEgb3Blbl9nb3A9MCB3ZWlnaHRwPTIga2V5aW50PTI1MCBrZXlpbnRfbWluPTI1IHNjZW5lY3V0PTQwIGludHJhX3JlZnJlc2g9MCByY19sb29rYWhlYWQ9NDAgcmM9Y3JmIG1idHJlZT0xIGNyZj0yMy4wIHFjb21wPTAuNjAgcXBtaW49MCBxcG1heD02OSBxcHN0ZXA9NCBpcF9yYXRpbz0xLjQwIGFxPTE6MS4wMACAAAAFSGWIhACf7IN48mD0+VA8IZOEDaHYDPGHtAlSiRsBXtrnKDuv92y6QjWDeI6tfrvRjpbQBr74Hr3t2evmDAnTdkZplecyLauAAAADAAADAAUQcuqa1M+rvyR3pqssAAADAQEA5gWYLWHUFwGoHrlKBtReZ6Fv40hm8ngC3GZ8MzocA7rrb1UP0q3OgWLVgoM0KS1lwV1dwJF6VRUyi1Abt0XDLUaOr9RWaWv6zwcaGWxfqm+Bg76YSeRoeVKqqJFF4B0aH8t4IE/+a05BEMD8XHvaeUJlXxwBIW1z/x/DzRGJQ6Zvi8H41PAT0ZRSdgKx3AJfZUibGwzE+SN2V1rd+mGLELgb4KS6Of473zstOB1JJ1AQN35ua68dKJ3sqvQY7hFFFcE4sqX10WkmCG+cM0fGUoKU3lcv2uZ6OLBOwir0ktyLkxa9jSKAevy2jWutzxSjNzsWBWxrqEopUYKO/BGprftPNoppemDR0eYP8gGHcex67xMwQRhz16bJRcWGl6dnHuAeHbax8b+DY2OK5vtqswecvs5ZoeXSjSln8qbrRIEWHJOLuft54SvCOLM/UjCX44BOSKt80GRCkkiZlKa7OVHlHncrhocFKzjsdjSeJjBNGTQLays1HScDG3yZ8wqeacKqv5E5olJr+F4nXhv6owbl363uKAVqtmMXlpYUaTi0DXh5Brgh9Md/aO4+w0G1ebdSeUNu59JBSL43/J8zCgKuVcnZcoEiDaAKTCZ4dUMSpHdyGq28Lcn2Y8rAFGAAFnqBIk1L7J/ADOJoQ8bZL2OuOB8wpMb7/pD1wy/cj7XH5M2A7pNjGUt/a9Of41lbZqP2WJr+SB66kOjsG3ALvzLiqo3QEqRa0NxsirBbFUaJLyz1wuiZ5NMgVbKvLqgFeHOpnZGYYXoOAdkYKtqIZjOfEX+vFhM0ngSkrE7+c5h2CCOOzj0alYuetWliv1iDjF5e4LTAzTFMOOeQBCrzqILCLwaQALV8eRVvh3+lN2bZeC5wDIH7Uzxw0j+WwaGD2IpnDdlyjmE8c3ceC4pWhgn3/K0tgAJit574cMPmMBeHIZ77qZWXpbNapA99ihqBJxF3z343pocT9sq1VqIJH0NPLlJdixUVqDKCzSW8iaHF4KqpReJiZ4DqFjh4foyhofCKXT4YyY5MDhTMicbpWZlOquya2i8HEua6dVn/weU3hrNhf9suS6L1Twdz1HhfLE2GgtEsdpr1LqoniaVyBPLPuLu4ntKOSXTMf5cAQTYRr+sfNvAerV5b71352IYDnze9b9/ONLTxRwwz3cBzgqoFY7chPGNaMEOEB0tf4v+zE/IZp82q4KmyH0PfsK40nLz+XwWKwd5kY30Q4yfxn4KOHd8Pc9DaGwAA0lpAZP7BLlQkAAADAAADAcRr/wuvhAPwGx0BpmnH0XH3GAOvW4BxQ3as5kQ1QBSAoAqPun9lvzV/7nUWWCEm65FK4oc8RVDDPObg3Dk7iNQ6FWTAleQfUN0i/k0mf2jzrwlwePCfGopeOZFok8jw+/jPrIP78g8oc1OQYKgvYRQ+qsxmAAdu9jxuVSAYG9AXSuHWAAAhMDAAAC9QfmJkzVEvLGjZJkQrDqMi3gtZCuYM6Cy/jqs0xXFROT/nuBaVthFPR12bHsiQxEnprcBJdLRypnmz0gHT18BFC7Fuv0a7ShypFQcr/av7fDSb3o016jj2knp+XenUMTgO3b5jyxfjHB3/UfJMf8p+cA8gldG4bIJe3w6zCaDtKiURbTs8Wi+tSKxgVDSmEODAAAdQf4OUAAADAAADAAftAAABI0GaIWxN/2u3sNQAAAMAAAMAD3mQ2+7aplgTACxzo36kBFM4CMEiVV8uZ/cQFK9tUaj/+DjpxWLsxIKDrrcPYeQXXBFhlpfvHy1Glu66Xf7E3SVVvqeLgVR2D9s9T3JpkEByAPBMVv62EzBPEqWbtcortXxBuYwZlURIsRxwSuEZSo6pu1e3ZpNkIBVPcolslI7nH4dZAkvm6lvMoNWbnoRcnt6iGLQvKZg2Fgyn2olum2rQbaOTaAJGZ+r42yZFUVNwmpex0ezrgUvCambdw8ba7NEpYH+UhCr//K8BwMH0UAipvhm+QGW6pGUstLNmZ2efuuuTuSYcvmUMdgmW5rW4YGh9la0vcqfrMNe91W3IQEXj3qIgDCUitIGsi0xZFTaHMAAAAYpBmkM8IZMphN8AAAMBSwrJ8o0TBbcqMyVFjxAcnSdt1jZ+fBbohg33R9qc5UI+hF22Rb0RjYM/Q4BbgCDdMUzUHEeBcZl7gMTqmjUqTH4+44VNJdVyUqaPNCwAIH95dSxIuW/hMbxSQ84KL9PXbyQxqT59LLVe3rXSfscEW6LJFvT88p3el/83ACi+CZ6Uj2IGt+ZACLG+MfGpyqJYJ///6OB/eIdr0K7FlpatFwnxiWrxwgURvWcmSTqXcpj3VG0q8utkHyIO/yRPpJg9718xkeONgZ1zM7WDxwPeOGDDBwpJ2/PhOLkWcVZVUs8LQyYRW001k1Scnps5bFB9eisBJKUYJEAWpKbUdCCuxX8t/vbPNAPYDf01f8OMzoDnixCEwxAqfS1Kj/bNd97/4aENZbroGj64AS8tdnZCBzDAJT/rYYDeoRrJOxAngiL2B03VXflLJaM8i8r2dLWYX4S02FXhsSGcZ8zvyq5f8xK+TG0ztAuNXIiVEibpF4kNHTH5rSwmRY28OzFhAAAAaAGeYmpCnwACWl5MnDu/k6OxrtDFn97Vs33HN7CZAZVzNdCT/hxe/6Nx4kcCdM2fWNzAE2SSKkFcTlqXfpRYAAI6pNTN+l7sv7jE6YyGwyxDzHAw+cwCZ8Lsy8E0XetdGVMTjkIPeAj4AAAA7EGaZEnhDyZTAm8AAAMBUf1yPkACZulE+QJfK7fZnAzqrl4ZKCfdt7gsgz/TzH3iwozz18f8Y6+REhpPTKqFHHSvZZ7QGBr7qKxmvHy7E1/My1s7R2FfnJWuPhV6mq9TShgZv9MeKgRwZKd0dBdCmB1OePu5Jc+GxmTNgaiSsJ7mjtUXEnJjlaC+dMuvTAa2dXPdfhTHnx0bmWUqvCaPD5JeF3r3m0htK/EzTsxjxtjYMg3iUOEI4NOQXdu9OuVa6BZMZtlx0LxV3SIqMm/9k8cVqn9Qb7OE5VMmXmxpFFIfy5UYZutx5mGrl9ZRAAABykGahknhDyZTBRE8RwAAAwDfp6epwoiwTpdGD0eT91EM1CJ//W4dhxV8yfog/a2GtAn5XgtTrq/YCWgtX6EqJ7IDM1zMqkMBJkDzyZAQI6QghCdizeibHRrPWKZl5kWehBrx/A3xXos1zHnLJ3Bto0KGAflBG4AJhX/wPC6i97MqTTQqLb8Ck8vERG5CvTkhIK1du7xES4N2b0nhN3XQDEKnK9NVjkEYV4Qt9DfHLOjhURCb2WIyLKSoDdT5JS98Ku8MCvMAidymEUMKlKfM3XxNi1Ubh7zW/wAwHAGM6ZM7CWvXjBUCKZG0BzC3+blwsQlzjzr+ooUp4oeCYp6A7MI5Jip/lfxezSMD71rY4B+drCVyDCXzNPtHqa7kDJwNuAxAsx3YO2LYH7cxj3nzwaqz/CONCWiNfyd2sGs4pQU7xlnnz1F4r6jfbFNr91pw4Ftu0npqbPRwsLqKZ6JdpezJTyU2cu8hb+/miWJqH4DHIKwhEhtOtkaWyG69soUkuRCCPG2+ZxPUGCDjSsHvtLboaXOfEaeA2PCDZqj74wMM5jZgS6Y1oZAyC5PusiOZGPvGpQZEaRgCASTiE3EZ7ebuBn4OlxzwDldDAAAAjwGepWpCnwACQhQpQ9t2+mSuWguQSxQexUgHRp2vRZ54kD15yPPEe4t8e8vEgD8Ki9xxWnWZzRFJz2Uvo46yVUIPWTMHqilEQE13i5vKAY9P9fs+/vuAtIjp7tS1qvg0LF2Y9jYZEDGKM6PfvCWPgtB0x8s2MfC4zeIWLZq6mRId7LsYeOfLIPsVHOhhVq2BAAABB0Gap0nhDyZTAiv/AAADALY+8qsfreqbB9/cDVCSDAiEYjxG76TbUifFoZuWjI1wYHv+D//IfJ5b0S+Zokr/KVbfFBoFwjz/w1hFq13DUgCaQP9YiaHr7TjC4ZAmh9gEthXzq1xS6+0wCy8CPBikeLpFnS4xVMNyzrYSxEBaxdbwaT/iWvK1nzeQDNrwbceJLNWd9R+HpRMRVIpK8kXPIFM0hHojU/huvqZaYQ/HIZ0xRcfCy/xBvKRwFAw/Wt9c0NvbpJuZE8d+qpkrweKlBx5wwkdcuHENafpV6bnmGy9K7jB77VUdYeobmy4QOx9fCCTuMyGKKGqHDmvpGgd2zedf4cGI0E3BAAABRkGay0nhDyZTAhD/AAADAleZLFPOnkh7Xtx/3XKTuHEMpakOtb8LecC0hMP5iYgjbUglrmiD8lLQuvY+xZT7BNQ0937qTVCgXM6syq1xAcUVki8FGwtGZUK+8mzpGXX7g56OLyXj1vJp5Kk2cvsSEzcs/MRJ73yGfIKPQ0G/CW54oFYLmNf4l0HqzshIZDC6VWO8VtNNvCCj7vYIAmp/lYcVymmlFyGbjVpYOtCS35YdyGd6j4grhnqpXY+TwztjFYYf5u8sBk/nzcTniBKW/4huKLgrnjK6YASheN2TsSS8FqBrYAA2+xILtKj60aV9JoPyanuBGuU0N3P4XOvIYGyA0TfRcImg3bFYvIp9rQ9G8QZ3FNSvlD4vm9DaxDeIuc4FRvwF81aP27PmSzgq2mV+3f+/KT7V0leQr5s2eMJtnd7pbTvQAAABLkGe6UURPCH/AAA+JzSRRy2AXVmxEFWMrv/pPQORPxgCPNM1lq/CxlghDWD3ZYBt1fb0teIdfTsezJEoP4LnJFe1xkjhqAD3vQHZOJdgeOq+0JDKoIAWKUPQmOH9DDw9Xv6qFL3ev+YVlF3/XdkB+POOD081hVnh8HbCn7nr80YOyMpprtUolRPtQKQdh9EMVsbfY60Lvcd2yrTqyXYpnGzyIy17+aMvb1PyqN+wOm/UM5WSJzYWaLCjvL1PC//A108HwqlwbIPF/XQk7ank4htfdYQD91B5f/YYyA5YgoRrkQf/9mRr/vLrU1Lo9OGv9rMXRmXLQRz2VL0zrvRzW1Z0tOlhAOdIoQ+3RBQqrUPc9y/DbXemNYU5hzhMVH1hfxXB3NUOuGkp7PIU7Z8wAAAApwGfCHRCnwAA0DrwBcly4PJ/Bagv/Lfzc3e7g9yeRkkF2wVOOyMN+w9MhV5BFRVCCAXzBrf0DMw8BsrPxMCY/NfWRHw5HON+qG559D3Jj3cdppGbY8x81kUqXCjCtqdzPga4KHIxqnReL+6t5g5WLlMg/B2dResW2dw23A/YB2h91/M6099efaeppIDgPR3Y3TfbDZ4D8r688rHkOeN+qVSEwbaPOqR9AAAAhAGfCmpCnwAA0jiGyqwCXA/m5lpT8WOfPLjQo73bztHF4Enpe2BUSHaff5FLYG+MDTz0sR1eHG4OocuFcTlNHE7Sh95AYueXPSvAy0kdjOWRyLvGJbTeo1f//hOnhS0xfzWJnydyxQoyAE0rW4Vqsn+2MkWn9u6UjWsFlS52r3Mj2vyUkAAABM1Bmw5JqEFomUwIT/90l2GBx5IyO00FPv4AAAMAAAMAACIS992tSqBKcPhAdnXt+EhA624Q5/8RdXAB/Ouh1SNgE1bxQXzHxlZucy/GfWoXnDzaQXDJ46jnxVQxrvqr5zIs6pIleFR3kerkY+up28LyJpnp4cQpCfg33UXsVAbmfTNxg9bMJqoqwuC4Q70fIwMVfHGNKm7TrVlw7mkedbr/mSHQj6TfhziIsqrrZShtjKcAE4jFqal1nyytUzQDiEDHn2Y/+5VNOMtfiP0yfs/Xc+YQpWmsORXGdFxCfwBaSVJHVVrOyUVvtEhAM4umVAfzr/ZPoZJd+fPq3fSXW091PtXNcpbOn9dvGmz/VpaUs2jbYOawEGdfWZPzsfxTfcXVIOhCPYjJ9wNThb19oe/kyDxyVd39j6faBdDuSMZVKx7tzyUJvDrrDxxaE2Sp91UNAZFCfXcM3pV3/DYXqxSGHMqC53OimUXvZ3ouNZfN97nPNV13uRBEHmSLRf5s26veQFlQFKyEUW3g5g/jIet3wJzN84GgAmd4CTIfaAQwR3y0HxiJKF8QsHYF1cTnVwbxQGDDimBk2R5resd3ZFt+rEi1eKW1AN7o8rHSg7sskMhErl+cDPNoEnfMUfpBp2j4+LHhDafd3d3Hg9DqvYuJEywASgACabv5oqVnFfrJdrDHh2hbtqDGXV9TppLuUfahqf5SS5zxlt+eShH67z4p/uj+I2E1J2LBJ8pcEY9VMhgpPCqIR52TtcE8XQ9SoneJdvTpTYmYl9VGEKOhSJ56cji5O6laEB625Qr5F97HpMBJWWadmTTkohaKU+FKit1AFNEDg8a9U+9u4oQ06EZhZN0cgbxYyFGcGVJk7k0X7Vw0rgevKHAioe6hQHnPvfhc/o40YLTPZrwYYkeSeY8OVpvt8hqcDf/KckLfI2C+2YP4ztMYyiSevU0Yo+9jLVbTm8BxdXqte7uhmWDOo23/BXUE/XyK9P/k8yi39O3vXl8mlE4LnlyowcjwU/gXtHElWOd3NopSg8pYl/Iu4kwMcbrDM/GWz9Kgt1SqLpIvCyhMLgkrPn/wkXf/5bjjKeUqOF6HjKQP++hp8MMsXdUOWS1HywzkPIcdNFWxCH5sTER2xKY0VbOpCVxOh0no0ejqLkIjkX69CcjVr0o0iv3NJ5tv9kdO446RRtQZ9PRWVC1GKlBFZJPIWb31SObC+u8N4CLRhhuvyDuHYbEA4A0CGU/sPq5VORvc4NaDprq7e04b1mNTTaL7vIAbLZMYP0zLfBthmiZn0Es6s5Ba96M46NrcwdU1CRBY4deOmR41/V6B2JxLnejF/E2wfRJ6zG5soTbFEUphBcVLS7PRx3eyrawBRMHi0f51a9iz8OPeJj+pOtkPRhBigISzmcqUO2FtwdlCTmaUx3K25iOl2nywSlbnhOXyvj5U5+ZwMuTq0mJM/jIQPFh9wzotqC3p8AC8KJxgpZY5jA04GN23mEnT9mQ7aUTeIyK8XIAOHKOe2IwDj5mwkOPc9A6S5dCKEoxxAa+xqNR7xej1fHhZSqYsDC7ZNp9VQibxCsZu4TDdJ1xWrsXW0wnLWiQc/Fil+uLcxLleDp/2/U2IQE1/9sO8gu4INPMHZrySNh7RKgAAAkFBnyxFESwp//zvVfhBAtdi0Al3VKfiC0bO7Z7/EbM6Gxr4P//PEAcfkXul///Mln1Lfy75W0//uJ+MmKk3XTwvbJELBVP5ZayNLEeAG/Mqe6+FQC/p9Sq32ZV4u52WJ0X/rkVB7nKfkGFRfBS91RanhrVBHAuzIXzgD5eC0+YsHYICs3OBS7yZi5+hhv0j/1pMszbpQ8JBC8awDaj+We/+QZHCj0FIk2Ti30bsFktJbZkNJoRBUoPN9bxAEQ02TRMSNK89+ms/HaO3jbPQNz9XQNbUYaNrtQcFd7mlvpNZlniH25lTeajlAEPOcIYE1DNLdCYCVRfNf+jteEAz31IiRdDTXsPaCfZpZx6YGjTvbMh/R6WXNrBSQ0DiL2mLPOeeLgFuxyxwIZAlS6W8z+jlAVdKzTA5iBxoHXtto2bbULlbuyDVwHCiPu5QxqJdD3YayPfy8ZZDFXbho7ZbjgXaWMqC676yyKDyLTqVsdRgRpiBhNiL32WV4t+flW6IaFwPmbodgl+mwdMQla1KAaQR5FJC2v0q0xFXLAy0xe2W1NsR5BzAkbKHYcbJXTDIT2vuiy5oXXcfX0oBOUQmSziraq52XvoRdVSnYVzM6ujAptBUTIR9ytGdLvxdZT55IvfmlDWBerUCx6s7lU79GUGTQr3wY0BhVkk5tNkNiS2/3RnzVDG+MHg+p190l4S6ZxerPghBn0dgA8m+E8TBeQT0j5PSSiIM1nBvVg2TDsES5Urw9l60cXbu6Rls3kSje6+BAAACigGfTWpCf/NJGbSGSdl9nlC/psoNZLbR8ABXCo35FrFz1SLnlMod3fftvddMtpAo5sAxUjXJd9dDe2SNdQrcL6E+i8aEslIGkaLj3Yy9JZmTmeaqPfgRl0O9If89fYMN2ClM/rHCYlmE9Mv6cnS7i5rJ/AQgtTHAz+5y4rUm77Hkl7BWteGOECb92wrWNxGikFq3vGvUM6gZZxJgg0EgN+BtD2LLL0TRF4I3WlX5IRQHBrc3tITveqawhbsYOYSfDlxSQgqHnQHgI5JAsTQf0uP/99AlFe+aCmVZO3ElDm8wGFYRbxP3FWKqTXKCkRlQ6H5pPpqaA60DMAhBRXytmnq606HfPyRTsmd/52PDD/NVOX3sNpRVQMsTEv4fmiRGDnaH3D5zE4XJ8/sMDL9zwG1k7zomzRm6FDsqeWbAeA0ouCgAG5r28G8LV1lBXuUUTSU58ohIjyodSjPmo7iJlimUuspX99wA43olkNzpPP+7BBzgzWSP0VGo9VVFwuGKuu8e3LQMpgnPWCY/qfwl7hVtzIG61bV7Nr3dkR+novd9fNw8Vi92+ZFWz3h0cO6Gi6Q0X4HFj0Rv66JUx1Epaa6u4WRWaz2svWzITGRyMg8T+Y6Y+ZaHoU3fEHgz0caUldzbsYe5R8gTiYZXKb3wY/chGEGzH3aJkB+PolJ5Ms1tbbHPhHJlGlso1JTCz4kwcti2Q9wMsYDGT5LGZqpWYKvRg1HRoR4kcQcdw4T4kgvmW2i/3dKcNVWzB9jvYC3hGmV7yALSSv+z8fwd2wKWmOaBOpoXeb1Mqqc/quT1QMxJVaodg0Fa8DA2++KQuZsqYKNlFpaDltZBJYs5o0qJUmKcLdfwgot540XxAAABvkGbT0moQWyZTAm/zajZ9BFxBauyAexb/95iXLp//951119JZXzvMF7UISEDTbPFk0P3i+Y5vf6lAwA63MmGjb7G8Q38rpUfJw1lu72v3TeLqbDriIFwdQGk4YdI380qfWa+4odrKkkKlFZrz1UIo7N42aqW/yrC90k+Y4bzMna30IvdESHtothjhOjqJFAQR9ChqTt1E9Yrzvf6LSsVt2Y/BrpjMZt1soFXvV5NAWdZMoAVOSdX7P8S7gDDOxEVn81PqAMzUJfsxAgwe6dLY3q/NyZgjWL0hxkbSIOHwWTENyocd9pNt3KUpG3vzui69iBFOsMDkAoVRTaHjtT/sIxqH7t2Vx223X6vk7zcqGZwg1FI33g0D4P7ygLDatrabsJm0MmiVHnwb6NdtLHDChZQJafLy4g/DrCZ/TnT1rEJmisPMHZ77GVK7eaDZeFrQBGgsYrVslJatq7hobMO/kgS2MoqetHRvPURAt0H6H6O9Kly8LG2EEuwxWHoL/JIY0yK1zNEr1LylwehGmplQD0TqFlIW3cVz64/+ft9R/vplkwhiwUAaTYshk9Gr0KifoN1Oj1OD9RJ2BuuMQPnAAABh0GbcEnhClJlMCb/AAAcCAER4IO0dMzU9g/mEDroeO11799JZl9Ti9y/5v1J7QsJhz9VIuxMmEtgbijN6QB//vC8ctElBK0coFwx+kbRV0PrL9wkCsRRn8EtCl7LYiniTxZWe5q07+YyNb3WP8jxFyUdy1OMUM7CMADeDZtckpm1xClGlc4xBTYaUkdY7f4YrB+a//gcgMYRGn+qwMem4aAiT3NNsH8UyN4brGzH5wqDfD06Fj8yt8H7PlgSI9jt7wqmTSWebkzoBR1xljN7LmVoQ9j75y1TV8zH8SzJ5XZ9FMIZpFIn5WmsF8YjL4AZ78MWuM+dtcMnD/b/D+1eL8nj53qRwcqPmww6W3tfko0D+vuALy3oxFrm9x9wQK4/bSXgKPjPHPsMG7BFkEDqK41adfzf/+tdlWn5a0BYOGe5S6a9vlzTKUghXTdU0I4HXz2WTY4rs94CQERsBaTd17Hlc6G1vGoTSIwIit/SYtFoyNuu5NWlEnCRe5IqfS2JrC9plFVc5sQAAAFiQZuUSeEOiZTAiP8AADY/oYjD+47pGH8WlereXZBgcjrG3PeEtluHBHmoBb6sPAdOrHBcPyHvoE+cvawt4nI9EVf9ueNnF7munQ8+GGD2DUDDIeuas8VG1K7fS9ErAFnYDlA7gshI5TqeJLyNVjMTYHg5iLZPn9B6NEL71bfMXNxC5QLS9tiW1qUJ4lz8NrwILSJDlMtqPOQZQ15PsIGJ8DkVxyq9bH3TfGujMPAFTHq1SpR8+FE0SM/trmu4aMAeyOJhPr7euZO+LJ+/TA4FSR0TVyTs/oDfgXwOnVlsIlmziqpxu5CMApnaAmt+GfK2EnXNDpb8bBdxpNfOuPZaeHj1cYny+QCAz2uUZOaDB99coWHd5RAJmKHI9tD85deZhwBQcQOKMGHOuyk1+45hmrFi11XP/nMhXZT1P+CDNBv4MUEO4ca2+5LZwaCAmxUgUcZ1fWB0lY0/i/Ni2LvEjQrYAAAA6UGfskURPCH/ACnrUM4DfR/fYilBkYChFSURzHLN6lcM9wXTX6u4HlQwsjfKHlGddNAv60nMGOhexkv0AJ6v75Zw8Xfmn2wzeoGdmSRgKAdxEyvuJxR3yRfZYdi91yqNvB0Mqh7vjulRwWlWiubCa2LxZYxWQe/5mfHXYp7xkF79kU76N21JtLMubH1skdr/w5KTZLBAfOBkIL9d/6JVSz/uJL+sdwBSWpBqXPBBPgNMsRFL3kV/zIwz/+cO9Dj4jT2QMPGU0QmadBijJKthaWAtk2yM+apcPfu92T7ndAHFGvgi9eJUCALbAAAAlAGf0XRCnwAyw0V5LNHlL6SSS4er/lP4/zFJcqO6yzpQHfue0/PdfBsTG+dhVdVV5Hv8hWlVat4RusUB6BtTuZgJqfpRoci7XuffEMAZNWCuH5hoEHAIbf+BSSHOv3u+Sa5d77LptgmQ4w1YwybKYtc7+ycGsNjPB1TchnRNPL9FSzKx/jORN/wWbLPQ+9+C7+VwOmAAAADCAZ/TakKfADOJCYeBapaAzUqOmp+MtJ7ALYJEyPTtIs/+g/cMxhX53Y6dzjPYIUcN49PF+DQ/6ATn/xiohe5GZxiFA0/LVeVU2bhv2pRjmioljExxOt2aeenmiMzNX2VL1ACCsQfljXrNXdkiRHb9w/cWtcsglFMiMvL4iJjOL1abdkkeCVfuH1G2I0EfkRT/Mn/Lt8UAf/XvoOYmYKT01LpbO4yMI61UzHSz+FZrDtmTsaJdPP2wZH0lNMTkCfj5gwIAAARhQZvYSahBaJlMCK8AACtaxeAEMDYRyGBSiEzPHDkDgN9rMlxE7aJ7mDVfZ7qUexIfTKOy5m/db+gS1SA/Jhm5iO4QJ0T0xf37oIkVhE6H4bUOE56rxoTUSAPefFjDaOfWUw//XZUTgYuVHdXbdsqYJ8ClB8z9vdJn8nMiVQv5eYSClJeTNJaIRDd570Ec5EG/TFc7FI0unkggzZXag/GpnmGuFlIq3nnKfu96wmXdKc8EZUwHf/qnyIGWbk+2xn5xpICt48du0ljgwT0mOSI3ZLrqlfbBO0K7ZHbmBlpIJDUsAqCNs8crAEnO0wgRyXN0EnZHrxHnZAAw7etv+vAXC3mgHBrO3sn2d+7Ps7Cj11w5rCMfsqEpFK6HER1/EcdZBmjBSVSCNYJjzSk8plWMEo9g0no6mb4Qe1eCYE6fBNB8QFh0//Rg4ZMYpSJMmdG0R0/9ESPI3YxPFsEE8XBmosw0QxKnefIsoCI3HpkJbNW4IQMNYnwAkMqfnO46roZWqccSY1G+3iyeKFIumix0opAPEECa5dq2tLtfXfyZBCFe33TK8dJCpzXP8giuERAOQqV3I1fNyHrkXO2gCWvh39CqxInLLnm8UOo9eZ1YpT4w8HLYaY4fD6jkCfmrwgP8lVW5WAT1xbGUl5L643AR2gHF0DKARN13rZZaPGY121AgqSonlSDGFqLNXl4GXqAOd3DtACK4RpKzm4I5I5WeJLnTrEtqZZzK4Ub+BQyFym5H+maDzM91fV8e9iPfdVOY44+miFprE4FHzrpFh5vWSRBS07pqQzCNnscY1oYPEe37TgMtQee5S9ulKCDM5IIKgJ/P4nhZmnq+HFy3ahmtrtHdhWTEoFvEVIdmi+kAiJ6pL5ydVDYFEDuYjoJcAXk+lZIJhtaquAuyUEh0Mkc9frzJQqaXHMarxrnpSMuoGqwZ1PUbsJh+NSQCzdx+t3Rri6GhNvVRWmyuWuzQXnO5X6k8hINOAe7w8xPpcQbkWNJJsK4Eb+59fAZ90BsGwVKkZ1ahftpF3PTbz7Ce9OrrKhEyJIYPQLMKRkPumR4Ia7EsMjlnTUrzCBARR2TDr8w3vkWAO7o6LUMKKji8EIivo2rKhoGPuW80+71nRU/bslH8ZJ/dtHrZY2nwHcSoWGiT3hQBVs88YsNuAb75y+VMpjXPv0BBtEK+h1fY0s4B8Ny54jMLyPln5ZsGNxoQQKi3XfjIvYPiGX767C/mLvUo/vm3rBi8tLLk/eKgVI5mfVDi0R4QrgYNh3kDCEhN0iJ0cdmmdVWXgAx7xg4sw1Tc+4dloEIgY46CvRfodU4DQFXGErXlsUrdFnz1A1QDJXIICV5TGoEftQ+V2KjLBHXFkO8i3iMLxkfB3/Exe17qPD8tRNXZf3JSC2UeGMXEn8ww3/QcPsfN7FDQGcibAMcFtarmXIvSbKHwPxOVWSEhhK1hr/gDNGLPuh9jujUkeb387sEFFJ96mDXhueL8LyicCkkAAANFQZ/2RREsK//wxmezca4R4XyQx4iugBaK5KzWPpZvnphQnMvSkBmyxYKDRYPSDQwJ+Tas1gZRa//fK1YOGKAxu5oe/oiGRVvhKd5XI0+a0R8ezC4Z6ghvMFmyD47Zlow+fQ1ZFNHVBxZp3sSAWyRvWbYwYK8vYI0JVgZvuWnvKi2t7dmay5iyNpGcuD0qdDrHNAXv0Y3gxzM0tl/ztS869BkVxxo2ycsH7xqyW/4FfU8CHI/19GC9YgMBixQ9I4CU7c9p3mnhib7qQtTcxWBmNEScQRTc/M07J4rJHvj0VJkoUCEgI341ZRSEK18ExtsC/K5+zyGQ4BIV/C/aPsyG2u9yyeir87yHALxD7DdAXsVUryQswG1Sl3RIc+0+ewS1N8Yeuti5v0kn4VRM9SDOYUWxQcM3UyTY173qFQeJzhJyahgWUDRBr+pZr2IhWgd2/+6GY0mkvoPl+i3z5+TIMthANdpj/Pu6lgBzfFrZJVFldb6w443HsJNCd+h0p4eVFa7vNL8e2uuZNaOiEilgJUTGBpfpNBZM61RgwsmNc2Xx510xaqI+Dn9AR6WIUHf0LwhvIBZW0J8XQNRP/ebfPHhac7NbM49fdix9dwK0xmDsbVrfAfRwcJYFSsEFRMr2jKI2DABNkksZi1gyOp0yQZpdEOsmfgnB5vHtygxCu0cZM+CS1dUYHtOs9pcRgT1X3PXXQRml4Qc05boGqVZK39LmyaVswinSize4TDFsxZHiAJAmTcFNdeFEkBR6Q4GAJnCAj1/PNWiPkmSiTuT3l/u9nA3ZtalP5v19vopM2ruqer/A2w9dBu7aT5v5U2vjGLlEfyY1ghS91Vz+NJqo4orvkBvFldxQcCJsY0iGsENvYZ5Iua3J+Lq2hqm2zXs6vCOF/RfzAbv24Jks3/0mwgYGwmxDaWMrX/lZwL46Ex9cqsyXKAnSL8jW92NsDigrJDH5jbRygDucOmZi+nVAvxP6m+4vkm6ABWd1CtoKLkUVG5foaGfgdWdqgNyExU2HCCgRCvaj14byktAzmhtkdZcZX1nX7CRzG07VELSvtIN/ICz/jOrRSnsXOR23cV1kapdqluUeF+YgkiwJW8dqc7gAXO3AAAACLAGeFXRCf/HMjNpDGxMkqVBX0FA20KeAEy39amMWyI00FV0eJXwrf7Z9wzb3zNcaFZeIEo/joP+gqk6tRms+0o6KcV5wNWizy/PFO4vHEDp36rCAFyJDs264FI/5IxbEJXMXxeLwwrjw3dSgGexYxgmdQ3w+vcE8kAtpZ+yKjX9scNA4+oET8+lgvq7995dV8ayhfomylCag+A+ooCm3RDjRKx0Z5qr+yz4bweSX4LVKGsi5XvM9BrzHc5JLQjHazDiaHZLDckBX4FgA0y13ms+a+4D/qKhG21a5sI21rvC+J/tU6WmDNplJ3dlg3DNbrfAxtvNAu7Y0bU8x2AhUh4jS7VUake8lEN8by8VbWymxg5fZFhm9ugWoAqF1UsQkDYR0MSnkFFWgkPEKBhzZPWe6OQ8xdfPRGDSDYj9tGlN5ieUhdFAMbe2F165oJVcmiX97quhQ/HwndFbBcB0j3FzQgXmX3mdRG/Lnjl9QZQ9yEeOal+SnWRXocW0EoGbdyJVSWMu6dN9iQLqIpkIbfegcRdVATepxPOB9EmuAAAl61NPdVhEk7tCZGsho66KN9PFmpMGND/obP0XesCEpOpE/gqay7TP/t2tJN4FwOMfz8VNsowfwOX3F0MApdHf0fANJ/X1g038GEc+BHKn0sd3mrmxAvE0Ba8j0vlbtIKmZg/cRsWjuK0pANNgOgWdv0fGUikoEhIl2xZgYBWECj/EXWm0L53bkrVQLAIEAAAISAZ4XakKf7/ngc6Ph9naYIWM4AoLX0ZOf+/cJcF8nAkKO0HDf5nEVp7/6tnW4dUnRJT4auv1JNXd4llZ9ar2byWXlQQutd9WvzDVmHCGgGfFR3D795pViQYZM7xNy1VB4FHSN6u71/nRUF1yEm/h+l9OeB2HYFyC6ekNFWy/+SKrqwSjmFkYf/p748oMkoL2x+3rs6msfbM1/+inIx60ahRfvAkqmPQLJBv6w6+fmTpr9g3IfvZXOPD92A3FNA7tTNteKwT+zQyNAQdNqKEULuNyWz2wFBbEKsAH5pwIGRz0HwWWJC3ftTVOCZJYSd6JWEnGvVCbb8OevdQc8mWs5/f6E/XXj2Maa9M7ndMD53vS9UT8LKl0grwbSLxz4MDWb+z8pgSjeUZSkHGze0Ns+630q3mroy6BigdkUdqU052Wc56HuHIYtqUIcrlXdF6OdqkOhXs3jfps7WwyBgjiePmWuYYVwWFUdWmFtpDwqQgp8BZOy9ippPbezkNbR+D1+Lnq38+yOQBeuTT0H27pSzJie26wPwvPPmmaixw+TPCyKqwx3TcITmMAvYJFKD03zSDijjk48f12S9WRO8VoOwbk1bVUkcIu7vt8MMIF0xxeoHOuEnk2YP4djAOcrEHoD2x1v4BXeN0+HyP4HY94rCuSJ1F3rkCZrvsGe/0W/jHbHd3KssMOfmCYrIhXCgugo+YEAAAEfQZoZSahBbJlMCM8AAAMA+vgwk+h7sHsB8I2ziyN4gF78EX9s8nTDr/dXlq6Y7a+5E5o2gegKOk1h2T7IG7PuA9X07lOlQBi/5fmDPqkZ9Gt3qcvDst/7giHPt2cAS4+rQvxorzCLN+68jPCZ9vwxRsmZrZBleql4hPIDALe7wjKY7COKoL2gthGGrtgmEfHeGwfcdXnYGN0h1MEJB1DZKQOmT9oPSXLx4UQ5q3mEH5a0qaCr1XyA0uZYedx/dpspI7rLxTbRa5pOHCwEgBamJVAJsTO9Ah5zqAW9WjFA6+x85YrfZrp870+Dq5qQlY6TTDkXClZ5HefDU4MhvS5Jx5XzMHCsuLaymKcg5UytbU0EFZ0VEFPPEi3flUgKsoAAAAGMQZo6SeEKUmUwI78AAAMAn1mFb94wdvg+2GF8IaMCjT7mima49OyHjj98vSr+NoqT8/w3sYR6XNsm/zWMcvdqKkySHpk0L1ElkTrgacr9aL6JsHAvt3mqgo8oFvFJjiqCmoFXUD+6oZFp1mV6UgVVC7PeHy1v+cfxp/5H5xJrp87nxCX9/cuBq/ZnbSKs1aAOzXrjOsxgxNf7t2yE4DWreh1RjCf6q0lOX8b8a4yMKAGR7bdaQL2F7Vt2T8crCywvoWi3hdwdCcYDtVb+ndAn5tP6rfWsOo2wBbXhVJiD2gJt6IV6fkgG/dcNm+REueDPQbgffL551wIerHrb8M2CrKqKHTTL3hYspIWs6Iwa2KVN4+vALuQfpR+6CgBK3FgAoHI/mPkyEa1fn9PJDGzhMuphe8Zz1fBkWJjdjNgh2Q83x8/C8baZ4wdgmyECoElStAqTIOtyZodIxdSE6JqeWCrldZzQ09vGTsC3XVJpqOlFr17Du6bQGCMKp1EaDuiHPY6ZHz8FNj3OcCPBAAADJkGaXknhDomUwIT/dIJhgceSMjtNBT7+AAADAAADAAAiEvfdrUqgSnD4QHZ17fhHiEdbcEE+b8IAC6jpi0iVC8pW2tNxeP1/pDvHFFsxZMmnTGXqS4ikHRPtfbU/gHwVhzGybtJwII1N0DxcJUuEwyHe+Jn/7iqFBqUXQ5o3Luq34sET7dRwgmdFARFKqmlObCtkh76QBc3XtALNlDY7c2/oD6aX+BeLktM8ON2BqZl//Yd/oBbjuiM6OOPSzXH8C32sh5f8QXo248rNx8li5VQccyF+z1i4Z5FCLNA1apLUB9Uf9sDyvsIwbJx3RuqebKNofhTeQZ3gyrT4CzxW+clEeEKICGQJ8VwhbHsg7jSZ8BtGeSMVxwva2bb/cmoH5IFXOiLzz1o2IAuvC9jE0Q0qOu57QGgLXElW1yb1KZmVakfsFoQYolXw5Xh98R8wIQ7Ahh5eWHTZhBnSNV/6cVLv9aS6PKnvY1B8udNzottvebNTDQOH5eJa7HAAuwKrquvxaIVqEO50QTeqO8FUo93OosYUhw3bxz+65YzYcey2KZf8Aa/4Wck21qdIvCfwQ0jn8bJjSoqP5cxVFtFPYioTLma5NPKyKazAqcJkbF4lxz+NrFSxPXFKCYb+DgRsLWZZf3XDgUxjvrGwRuPV22/b8v2AeAZWHzSV1b+j8D21CYytIsy4a698a3HvYOAks+JoEmd2Kaa2MEHUtchpWs5TpKKi19YGORUVd750qeiELvjJ4jFBaP0YCCYW5FrUAij+jw2LeUxRab9r0CPM0w1JZmZa8vsSoxegJxAsL9XdISe9ixk21wkVNOsMUWV8t9TAGuCuIIhoyW9PvzTfdu/adozVwFtdXt6phJSHgjfhxxYPZWZVHah/7FuIS315wqdkUtGQcNEhtIrO0vKyUPYFXeXGZl75Ybn7TEEsVYBqTObqMcbh4YkmhDxfnCQOiDAmGBkSXwetiigYhmQsevtSyvLLdFHNR12JhGd1XDPRWs5S0LwL2RaJyq4ZsHtuv0yRlkAPFmGC+BgpchQAdzFCdHU5f3Ewsnb4/83P6/jk9Co3z2kSAAABM0GefEURPCX/9588IL9fNwP6Fcv3hGEySbXqNRZqhMOeXEb1GvrIhchDhzF7cFayPVR1tTFErwurDe46wGDz6+FuK3PgRv5CVg1H3G1Lyi2OJ+iPRGK+B6iOEf9C/6jiXC1GbH0fNc6HkitziTG6GZarx/fzyOSCtY1L7ESRTW3wq571jqekxKQ5cmV859eM6ejVaO1v6DzZZYYfwHMWYxQ4l/DhRWgb2LxFoENbvwICH54kiWUUs1FYv4Fea4dUpjPeDREfNo9i5z5iinwMVg6+hm200IEb0PSD7aplsjgEgk7epZX62++yaj3kXqvTnSiGF6Cc2DDAE/+JVNB6LhQpFGlCj/xFV5ko5kZhampAT9O1oCGNViSKvi+nMTlrR+Wvcf9JqLL4VFz9b8+4KGOWVZkAAACSAZ6bdEKfAAaB15uFHmXRSJxpCRg1md86HXe+v5mEs+216ovBLEaVt2bHBHFw/46ADF+2aeNlpXFxWsUTdit62AiXctYRuwHNIV47g53XD5ntHoDXKXcESUNBb8nYHCOAcjy7nn/i7cE+uCIdnTu+dpgNhGqgPVHjQOoeWIoCljm1e6LQUQSJjGmQdiaoaM0pRZUAAALQAZ6dakJ/80kZtIJLsX1Cyo2jHh47HJ5M0VyvHNUkl9fF0IgAhunYXOEvb27bk7XvL1bLyPGlwjk6Stt6DTtDdHixR5jQUndBY0iMxvqtLB+KiEmn6toBEzczjbW6ziLtAygEC2SSlXI6o5G0Tdiepm+jTwaxZL2Rwq6guVevw8oTfxsMmo49sEqq8fhZyypMbQaZ2H1de2rUA9BtdNC3tL8VpckqiTsMAvGw7jJ2UvqeJqgMe9K7jsA2P/WS4KhK8rtZsKRKqUfug3gwu/qhqxOHDW8GozL3jkJVVNHIXiUBa3t3O7vSoVTt9VkkCbt6n/QHGT7GRrVhFrFoQCd1tpSFgEMisFemxJmmh1LOOz7aAY1zjHohZZmb+fezhDOTSY6942bhN+rrxfpgWa1kRcxkEcFZCbJoy7EFkIXWRC6wTblpcPh2Eu4pWBOqwizOdtFxFmo1wqfmlkkxuDek1TB2wQZ23hBfLKFi4L2xYEpc7cL6GmVwldTpbq17kPD2qHimrWtp/5HyHe0QPF5UkCjEAxVSfCOmjgsPm5av6ANjdNWkEExozhvctZD+MswgVntfYhdZRFhXZrjvCU3dIByDvELu2WKUkMiyCpz9fIL8jwbz+MgSq0xw+uRUaxXmgtf77AQ5iWGBq1D2bbmCSGXZ+RDdaH2xbB5RoCPntdXNKQZFVVNRI6bCyqKTNSziDjSliWmw27D1vrqJFx5x0y+PAqOpJHl0tqNX3OkntKP3P3A3Hms40sH/1sOU/YB8lMCwBhTeoeV61iONxikQXsWcvpPvlUd5ti6m7rI0opyoxt1MaGKAnl6SwW9ozndTR4LVP3awkPP05+I39kShmiZ/RJILtbkllAHjGdwWDJg/9WutOOjbV7LICtYaynEzhjorUV40LZVjPAgrMxPqLuD6SsVRl2nQ5gYFTj5jxAKS/vVuAvg+Pr+B+TnA+w7oAAAEeG1vb3YAAABsbXZoZAAAAAAAAAAAAAAAAAAAA+gAAAQKAAEAAAEAAAAAAAAAAAAAAAABAAAAAAAAAAAAAAAAAAAAAQAAAAAAAAAAAAAAAAAAQAAAAAAAAAAAAAAAAAAAAAAAAAAAAAAAAAAAAAAAAAIAAAOidHJhawAAAFx0a2hkAAAAAwAAAAAAAAAAAAAAAQAAAAAAAAQKAAAAAAAAAAAAAAAAAAAAAAABAAAAAAAAAAAAAAAAAAAAAQAAAAAAAAAAAAAAAAAAQAAAAAKAAAAB4AAAAAAAJGVkdHMAAAAcZWxzdAAAAAAAAAABAAAECgAABAAAAQAAAAADGm1kaWEAAAAgbWRoZAAAAAAAAAAAAAAAAAAAPAAAAD4AVcQAAAAAAC1oZGxyAAAAAAAAAAB2aWRlAAAAAAAAAAAAAAAAVmlkZW9IYW5kbGVyAAAAAsVtaW5mAAAAFHZtaGQAAAABAAAAAAAAAAAAAAAkZGluZgAAABxkcmVmAAAAAAAAAAEAAAAMdXJsIAAAAAEAAAKFc3RibAAAAKlzdHNkAAAAAAAAAAEAAACZYXZjMQAAAAAAAAABAAAAAAAAAAAAAAAAAAAAAAKAAeAASAAAAEgAAAAAAAAAAQAAAAAAAAAAAAAAAAAAAAAAAAAAAAAAAAAAAAAAAAAAABj//wAAADNhdmNDAWQAHv/hABpnZAAerNlAoD2wFsgAAAMACAAAAwHgeLFssAEABmjr48siwAAAABBwYXNwAAAAAQAAAAEAAAAYc3R0cwAAAAAAAAABAAAAHwAAAgAAAAAUc3RzcwAAAAAAAAABAAAAAQAAAOhjdHRzAAAAAAAAABsAAAACAAAEAAAAAAEAAAYAAAAAAQAAAgAAAAABAAAEAAAAAAEAAAYAAAAAAQAAAgAAAAABAAAEAAAAAAEAAAoAAAAAAQAABAAAAAABAAAAAAAAAAEAAAIAAAAAAQAACAAAAAACAAACAAAAAAIAAAQAAAAAAQAACgAAAAABAAAEAAAAAAEAAAAAAAAAAQAAAgAAAAABAAAKAAAAAAEAAAQAAAAAAQAAAAAAAAABAAACAAAAAAIAAAQAAAAAAQAACgAAAAABAAAEAAAAAAEAAAAAAAAAAQAAAgAAAAAcc3RzYwAAAAAAAAABAAAAAQAAAB8AAAABAAAAkHN0c3oAAAAAAAAAAAAAAB8AAAf+AAABJwAAAY4AAABsAAAA8AAAAc4AAACTAAABCwAAAUoAAAEyAAAAqwAAAIgAAATRAAACRQAAAo4AAAHCAAABiwAAAWYAAADtAAAAmAAAAMYAAARlAAADSQAAAjAAAAIWAAABIwAAAZAAAAMqAAABNwAAAJYAAALUAAAAFHN0Y28AAAAAAAAAAQAAADAAAABidWR0YQAAAFptZXRhAAAAAAAAACFoZGxyAAAAAAAAAABtZGlyYXBwbAAAAAAAAAAAAAAAAC1pbHN0AAAAJal0b28AAAAdZGF0YQAAAAEAAAAATGF2ZjU3LjgzLjEwMA==\" type=\"video/mp4\" />\n",
       "                      </video>"
      ],
      "text/plain": [
       "<IPython.core.display.HTML object>"
      ]
     },
     "execution_count": 22,
     "metadata": {
      "tags": []
     },
     "output_type": "execute_result"
    }
   ],
   "source": [
    "def show_local_mp4_video(file_name, width=640, height=480):\n",
    "  import io\n",
    "  import base64\n",
    "  from IPython.display import HTML\n",
    "  video_encoded = base64.b64encode(io.open(file_name, 'rb').read())\n",
    "  return HTML(data='''<video width=\"{0}\" height=\"{1}\" alt=\"test\" controls>\n",
    "                        <source src=\"data:video/mp4;base64,{2}\" type=\"video/mp4\" />\n",
    "                      </video>'''.format(width, height, video_encoded.decode('ascii')))\n",
    "\n",
    "show_local_mp4_video('test3.mp4', width=640, height=480)"
   ]
  }
 ],
 "metadata": {
  "colab": {
   "authorship_tag": "ABX9TyMYcSB4LkA8tQo3de4gbRDO",
   "collapsed_sections": [],
   "mount_file_id": "1v0H8Gc9wfWs_-85zdNoCF0kkEYzZtH28",
   "name": "make_videos_from_skeleton.ipynb",
   "provenance": []
  },
  "kernelspec": {
   "display_name": "Python 3",
   "language": "python",
   "name": "python3"
  },
  "language_info": {
   "codemirror_mode": {
    "name": "ipython",
    "version": 3
   },
   "file_extension": ".py",
   "mimetype": "text/x-python",
   "name": "python",
   "nbconvert_exporter": "python",
   "pygments_lexer": "ipython3",
   "version": "3.8.3"
  }
 },
 "nbformat": 4,
 "nbformat_minor": 1
}

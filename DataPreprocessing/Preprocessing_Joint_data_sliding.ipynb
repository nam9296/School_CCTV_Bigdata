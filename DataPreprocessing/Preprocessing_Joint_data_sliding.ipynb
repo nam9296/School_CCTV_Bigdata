{
 "cells": [
  {
   "cell_type": "code",
   "execution_count": 175,
   "metadata": {
    "ExecuteTime": {
     "end_time": "2021-05-14T05:58:39.626666Z",
     "start_time": "2021-05-14T05:58:39.616692Z"
    }
   },
   "outputs": [],
   "source": [
    "import pandas as pd"
   ]
  },
  {
   "cell_type": "code",
   "execution_count": 176,
   "metadata": {
    "ExecuteTime": {
     "end_time": "2021-05-14T05:58:39.701532Z",
     "start_time": "2021-05-14T05:58:39.628661Z"
    }
   },
   "outputs": [],
   "source": [
    "df=pd.read_csv('./X_joint_data.csv')"
   ]
  },
  {
   "cell_type": "code",
   "execution_count": 177,
   "metadata": {
    "ExecuteTime": {
     "end_time": "2021-05-14T05:58:39.716492Z",
     "start_time": "2021-05-14T05:58:39.703557Z"
    },
    "scrolled": true
   },
   "outputs": [],
   "source": [
    "count = df['index'].value_counts()\n",
    "count_df = pd.DataFrame(count).sort_index()"
   ]
  },
  {
   "cell_type": "code",
   "execution_count": 178,
   "metadata": {
    "ExecuteTime": {
     "end_time": "2021-05-14T05:58:39.791512Z",
     "start_time": "2021-05-14T05:58:39.719484Z"
    }
   },
   "outputs": [],
   "source": [
    "videos = list(set(df['index']))\n",
    "videos.sort()\n",
    "\n",
    "frames = []\n",
    "for v in videos:\n",
    "    frames.append(df[df['index'] == v].index)"
   ]
  },
  {
   "cell_type": "code",
   "execution_count": 179,
   "metadata": {
    "ExecuteTime": {
     "end_time": "2021-05-14T05:58:39.821432Z",
     "start_time": "2021-05-14T05:58:39.793471Z"
    }
   },
   "outputs": [],
   "source": [
    "target_frame = 32\n",
    "slices = []\n",
    "for frame in frames:\n",
    "        sl = []\n",
    "        for f in frame:     \n",
    "            if f <= frame[-1] - target_frame + 1:\n",
    "                sl.append((f, f + target_frame - 1))\n",
    "        slices.append(sl)"
   ]
  },
  {
   "cell_type": "code",
   "execution_count": 180,
   "metadata": {
    "ExecuteTime": {
     "end_time": "2021-05-14T05:58:39.836356Z",
     "start_time": "2021-05-14T05:58:39.823390Z"
    }
   },
   "outputs": [],
   "source": [
    "for sl in slices:\n",
    "    for (start,end) in sl:\n",
    "        temp = (start,end)\n",
    "        st=temp[0]\n",
    "        ed=temp[1]"
   ]
  },
  {
   "cell_type": "code",
   "execution_count": 181,
   "metadata": {
    "ExecuteTime": {
     "end_time": "2021-05-14T05:58:48.666719Z",
     "start_time": "2021-05-14T05:58:39.838366Z"
    }
   },
   "outputs": [],
   "source": [
    "df1 = pd.DataFrame(columns=['index', 'p_1','p_2'])\n",
    "for sl in slices:\n",
    "    for (start, end) in sl:\n",
    "        temdf=df.iloc[start:end+1] # 자른 df\n",
    "        df1=pd.concat([df1, temdf],ignore_index=True)"
   ]
  },
  {
   "cell_type": "code",
   "execution_count": 183,
   "metadata": {
    "ExecuteTime": {
     "end_time": "2021-05-14T05:59:10.155866Z",
     "start_time": "2021-05-14T05:59:10.137051Z"
    }
   },
   "outputs": [],
   "source": [
    "df1.reset_index(drop=True,inplace=True)"
   ]
  },
  {
   "cell_type": "code",
   "execution_count": 184,
   "metadata": {
    "ExecuteTime": {
     "end_time": "2021-05-14T05:59:14.886002Z",
     "start_time": "2021-05-14T05:59:14.873038Z"
    }
   },
   "outputs": [
    {
     "data": {
      "text/html": [
       "<div>\n",
       "<style scoped>\n",
       "    .dataframe tbody tr th:only-of-type {\n",
       "        vertical-align: middle;\n",
       "    }\n",
       "\n",
       "    .dataframe tbody tr th {\n",
       "        vertical-align: top;\n",
       "    }\n",
       "\n",
       "    .dataframe thead th {\n",
       "        text-align: right;\n",
       "    }\n",
       "</style>\n",
       "<table border=\"1\" class=\"dataframe\">\n",
       "  <thead>\n",
       "    <tr style=\"text-align: right;\">\n",
       "      <th></th>\n",
       "      <th>index</th>\n",
       "      <th>p_1</th>\n",
       "      <th>p_2</th>\n",
       "    </tr>\n",
       "  </thead>\n",
       "  <tbody>\n",
       "    <tr>\n",
       "      <th>0</th>\n",
       "      <td>assault-falldown0</td>\n",
       "      <td>380.343, 134.948, 358.107, 162.386, 355.5, 163...</td>\n",
       "      <td>495.219, 138.845, 517.383, 163.653, 514.745, 1...</td>\n",
       "    </tr>\n",
       "    <tr>\n",
       "      <th>1</th>\n",
       "      <td>assault-falldown0</td>\n",
       "      <td>380.305, 137.513, 358.076, 162.39, 352.898, 16...</td>\n",
       "      <td>487.311, 137.525, 509.543, 162.376, 505.647, 1...</td>\n",
       "    </tr>\n",
       "    <tr>\n",
       "      <th>2</th>\n",
       "      <td>assault-falldown0</td>\n",
       "      <td>380.285, 134.96, 356.785, 162.383, 351.604, 16...</td>\n",
       "      <td>484.767, 136.251, 506.958, 162.33, 505.55, 162...</td>\n",
       "    </tr>\n",
       "    <tr>\n",
       "      <th>3</th>\n",
       "      <td>assault-falldown0</td>\n",
       "      <td>380.254, 134.954, 354.209, 162.368, 350.323, 1...</td>\n",
       "      <td>482.122, 134.921, 505.651, 162.403, 502.978, 1...</td>\n",
       "    </tr>\n",
       "    <tr>\n",
       "      <th>4</th>\n",
       "      <td>assault-falldown0</td>\n",
       "      <td>376.403, 138.798, 351.592, 162.372, 350.262, 1...</td>\n",
       "      <td>474.302, 137.56, 497.76, 163.622, 495.174, 162...</td>\n",
       "    </tr>\n",
       "    <tr>\n",
       "      <th>...</th>\n",
       "      <td>...</td>\n",
       "      <td>...</td>\n",
       "      <td>...</td>\n",
       "    </tr>\n",
       "    <tr>\n",
       "      <th>146171</th>\n",
       "      <td>smoke-stand9</td>\n",
       "      <td>522.551, 144.064, 536.966, 181.901, 517.351, 1...</td>\n",
       "      <td>298.079, 161.022, 282.402, 193.69, 275.852, 19...</td>\n",
       "    </tr>\n",
       "    <tr>\n",
       "      <th>146172</th>\n",
       "      <td>smoke-stand9</td>\n",
       "      <td>521.286, 144.074, 536.962, 181.909, 517.342, 1...</td>\n",
       "      <td>298.08, 161.009, 281.104, 193.665, 274.604, 19...</td>\n",
       "    </tr>\n",
       "    <tr>\n",
       "      <th>146173</th>\n",
       "      <td>smoke-stand9</td>\n",
       "      <td>522.551, 144.066, 536.961, 181.906, 517.345, 1...</td>\n",
       "      <td>298.093, 161.012, 281.117, 193.689, 274.555, 1...</td>\n",
       "    </tr>\n",
       "    <tr>\n",
       "      <th>146174</th>\n",
       "      <td>smoke-stand9</td>\n",
       "      <td>522.55, 144.062, 536.961, 181.908, 517.343, 18...</td>\n",
       "      <td>298.119, 161.01, 281.093, 193.652, 273.267, 19...</td>\n",
       "    </tr>\n",
       "    <tr>\n",
       "      <th>146175</th>\n",
       "      <td>smoke-stand9</td>\n",
       "      <td>521.282, 144.08, 536.968, 181.913, 517.336, 18...</td>\n",
       "      <td>298.138, 161.045, 279.813, 193.715, 271.953, 1...</td>\n",
       "    </tr>\n",
       "  </tbody>\n",
       "</table>\n",
       "<p>146176 rows × 3 columns</p>\n",
       "</div>"
      ],
      "text/plain": [
       "                    index                                                p_1  \\\n",
       "0       assault-falldown0  380.343, 134.948, 358.107, 162.386, 355.5, 163...   \n",
       "1       assault-falldown0  380.305, 137.513, 358.076, 162.39, 352.898, 16...   \n",
       "2       assault-falldown0  380.285, 134.96, 356.785, 162.383, 351.604, 16...   \n",
       "3       assault-falldown0  380.254, 134.954, 354.209, 162.368, 350.323, 1...   \n",
       "4       assault-falldown0  376.403, 138.798, 351.592, 162.372, 350.262, 1...   \n",
       "...                   ...                                                ...   \n",
       "146171       smoke-stand9  522.551, 144.064, 536.966, 181.901, 517.351, 1...   \n",
       "146172       smoke-stand9  521.286, 144.074, 536.962, 181.909, 517.342, 1...   \n",
       "146173       smoke-stand9  522.551, 144.066, 536.961, 181.906, 517.345, 1...   \n",
       "146174       smoke-stand9  522.55, 144.062, 536.961, 181.908, 517.343, 18...   \n",
       "146175       smoke-stand9  521.282, 144.08, 536.968, 181.913, 517.336, 18...   \n",
       "\n",
       "                                                      p_2  \n",
       "0       495.219, 138.845, 517.383, 163.653, 514.745, 1...  \n",
       "1       487.311, 137.525, 509.543, 162.376, 505.647, 1...  \n",
       "2       484.767, 136.251, 506.958, 162.33, 505.55, 162...  \n",
       "3       482.122, 134.921, 505.651, 162.403, 502.978, 1...  \n",
       "4       474.302, 137.56, 497.76, 163.622, 495.174, 162...  \n",
       "...                                                   ...  \n",
       "146171  298.079, 161.022, 282.402, 193.69, 275.852, 19...  \n",
       "146172  298.08, 161.009, 281.104, 193.665, 274.604, 19...  \n",
       "146173  298.093, 161.012, 281.117, 193.689, 274.555, 1...  \n",
       "146174  298.119, 161.01, 281.093, 193.652, 273.267, 19...  \n",
       "146175  298.138, 161.045, 279.813, 193.715, 271.953, 1...  \n",
       "\n",
       "[146176 rows x 3 columns]"
      ]
     },
     "execution_count": 184,
     "metadata": {},
     "output_type": "execute_result"
    }
   ],
   "source": [
    "df1"
   ]
  },
  {
   "cell_type": "code",
   "execution_count": 185,
   "metadata": {
    "ExecuteTime": {
     "end_time": "2021-05-14T05:59:19.768063Z",
     "start_time": "2021-05-14T05:59:17.895595Z"
    }
   },
   "outputs": [],
   "source": [
    "df1.to_csv('./sliding.csv',index=)"
   ]
  }
 ],
 "metadata": {
  "kernelspec": {
   "display_name": "Python 3",
   "language": "python",
   "name": "python3"
  },
  "language_info": {
   "codemirror_mode": {
    "name": "ipython",
    "version": 3
   },
   "file_extension": ".py",
   "mimetype": "text/x-python",
   "name": "python",
   "nbconvert_exporter": "python",
   "pygments_lexer": "ipython3",
   "version": "3.7.6"
  },
  "toc": {
   "base_numbering": 1,
   "nav_menu": {},
   "number_sections": true,
   "sideBar": true,
   "skip_h1_title": false,
   "title_cell": "Table of Contents",
   "title_sidebar": "Contents",
   "toc_cell": false,
   "toc_position": {},
   "toc_section_display": true,
   "toc_window_display": false
  }
 },
 "nbformat": 4,
 "nbformat_minor": 4
}
